{
 "cells": [
  {
   "cell_type": "code",
   "execution_count": 109,
   "metadata": {},
   "outputs": [
    {
     "data": {
      "text/plain": [
       "<NVIDIA GeForce RTX 4090 on Platform: NVIDIA CUDA (2 refs)>"
      ]
     },
     "execution_count": 109,
     "metadata": {},
     "output_type": "execute_result"
    }
   ],
   "source": [
    "from utils import extract_scaling_metadata\n",
    "import os\n",
    "from tqdm import tqdm\n",
    "from pathlib import Path\n",
    "import czifile\n",
    "import napari\n",
    "import numpy as np\n",
    "import skimage\n",
    "from skimage import measure, exposure\n",
    "from skimage.measure import regionprops_table\n",
    "import pandas as pd\n",
    "import pyclesperanto_prototype as cle\n",
    "import plotly.express as px\n",
    "from cellpose import models, utils\n",
    "\n",
    "cle.select_device(\"RTX\")"
   ]
  },
  {
   "cell_type": "code",
   "execution_count": 110,
   "metadata": {},
   "outputs": [
    {
     "data": {
      "text/plain": [
       "117"
      ]
     },
     "execution_count": 110,
     "metadata": {},
     "output_type": "execute_result"
    }
   ],
   "source": [
    "directory_path = Path(\"./raw_data/\")\n",
    "images = []\n",
    "\n",
    "# Iterate through the lsm files in the directory\n",
    "for file_path in directory_path.glob(\"*.czi\"):\n",
    "    # Remove Control and Isotype stainings from the analysis\n",
    "    if \"Control\" and \"Isotype\" not in file_path.stem:\n",
    "        images.append(str(file_path))\n",
    "    \n",
    "len(images)"
   ]
  },
  {
   "cell_type": "code",
   "execution_count": 111,
   "metadata": {},
   "outputs": [],
   "source": [
    "image = images[1]\n",
    "\n",
    "# Read path storing raw image and extract filename\n",
    "file_path = Path(image)\n",
    "filename = file_path.stem\n",
    "\n",
    "# Read the image file and remove singleton dimensions\n",
    "img = czifile.imread(image)\n",
    "img = img.squeeze()\n",
    "\n",
    "# Extract experiment, mouse, treatment and replica ids\n",
    "experiment_id = filename.split(\" \")[0]\n",
    "mouse_id = filename.split(\" \")[1]\n",
    "treatment_id = filename.split(\" \")[2]\n",
    "replica_id = filename.split(\" \")[-1]\n",
    "\n",
    "# Image size reduction to improve processing times (slicing, not lossless compression)\n",
    "slicing_factor = None # Use 2 or 4 for compression (None for lossless)\n",
    "\n",
    "# Extract the stack containing the UEA-1 (0), YAP (1), nuclei (2) and BCAT (3) channels.\n",
    "uea1_stack = img[0, :, ::slicing_factor, ::slicing_factor]\n",
    "yap_stack = img[1, :, ::slicing_factor, ::slicing_factor]\n",
    "nuclei_stack = img[2, :, ::slicing_factor, ::slicing_factor]\n",
    "bcat_stack = img[3, :, ::slicing_factor, ::slicing_factor]"
   ]
  },
  {
   "cell_type": "code",
   "execution_count": 112,
   "metadata": {},
   "outputs": [],
   "source": [
    "\n",
    "# Extract x,y,z scaling from .czi file metadata in order to make data isotropic\n",
    "scaling_x_um, scaling_y_um, scaling_z_um = extract_scaling_metadata(file_path)\n",
    "\n",
    "# Resample nuclei stack for Cellpose prediction\n",
    "resampled_nuclei = cle.scale(nuclei_stack, factor_x=scaling_x_um, factor_y=scaling_y_um, factor_z=scaling_z_um, auto_size=True)\n",
    "background_subtracted = cle.top_hat_box(resampled_nuclei, radius_x=5, radius_y=5, radius_z=5)\n",
    "\n",
    "# Pull OCL arrays from GPU memory and transform into numpy arrays to be fed into Cellpose\n",
    "processed_nuclei = cle.pull(resampled_nuclei)\n",
    "del background_subtracted\n",
    "\n",
    "# Apply Contrast Stretching to improve Cellpose detection of overly bright nuclei\n",
    "p2, p98 = np.percentile(processed_nuclei, (2, 98)) \n",
    "nuclei_rescaled = exposure.rescale_intensity(processed_nuclei, in_range=(p2, p98))\n",
    "\n",
    "# Initialize the Cellpose model\n",
    "model = models.Cellpose(gpu=True, model_type='nuclei')\n",
    "\n",
    "# Run Cellpose\n",
    "masks, flows, styles, diams = model.eval(nuclei_rescaled, diameter=10, channels=[0, 0], do_3D=True)\n"
   ]
  },
  {
   "cell_type": "code",
   "execution_count": 113,
   "metadata": {},
   "outputs": [],
   "source": [
    "# Resample stacks for visualization\n",
    "resampled_yap = cle.scale(yap_stack, factor_x=scaling_x_um, factor_y=scaling_y_um, factor_z=scaling_z_um, auto_size=True)\n",
    "resampled_bcat = cle.scale(bcat_stack, factor_x=scaling_x_um, factor_y=scaling_y_um, factor_z=scaling_z_um, auto_size=True)"
   ]
  },
  {
   "cell_type": "code",
   "execution_count": 114,
   "metadata": {},
   "outputs": [
    {
     "data": {
      "text/plain": [
       "<Labels layer 'masks' at 0x206d4ef9b80>"
      ]
     },
     "execution_count": 114,
     "metadata": {},
     "output_type": "execute_result"
    }
   ],
   "source": [
    "# Initialize Napari viewer to display segmentation results\n",
    "viewer = napari.Viewer(ndisplay=2)\n",
    "\n",
    "viewer.add_image(processed_nuclei)\n",
    "viewer.add_image(resampled_yap)\n",
    "viewer.add_image(resampled_bcat)\n",
    "viewer.add_labels(masks)\n"
   ]
  },
  {
   "cell_type": "code",
   "execution_count": 115,
   "metadata": {},
   "outputs": [
    {
     "data": {
      "text/html": [
       "<div>\n",
       "<style scoped>\n",
       "    .dataframe tbody tr th:only-of-type {\n",
       "        vertical-align: middle;\n",
       "    }\n",
       "\n",
       "    .dataframe tbody tr th {\n",
       "        vertical-align: top;\n",
       "    }\n",
       "\n",
       "    .dataframe thead th {\n",
       "        text-align: right;\n",
       "    }\n",
       "</style>\n",
       "<table border=\"1\" class=\"dataframe\">\n",
       "  <thead>\n",
       "    <tr style=\"text-align: right;\">\n",
       "      <th></th>\n",
       "      <th>label</th>\n",
       "      <th>intensity_mean</th>\n",
       "      <th>equivalent_diameter_area</th>\n",
       "      <th>area</th>\n",
       "    </tr>\n",
       "  </thead>\n",
       "  <tbody>\n",
       "    <tr>\n",
       "      <th>152</th>\n",
       "      <td>153</td>\n",
       "      <td>69.734375</td>\n",
       "      <td>4.962804</td>\n",
       "      <td>64.0</td>\n",
       "    </tr>\n",
       "  </tbody>\n",
       "</table>\n",
       "</div>"
      ],
      "text/plain": [
       "     label  intensity_mean  equivalent_diameter_area  area\n",
       "152    153       69.734375                  4.962804  64.0"
      ]
     },
     "execution_count": 115,
     "metadata": {},
     "output_type": "execute_result"
    }
   ],
   "source": [
    "# Extract regionprops\n",
    "props = regionprops_table(label_image=masks, intensity_image=processed_nuclei, properties=[\"label\", \"intensity_mean\", \"equivalent_diameter_area\", \"area\"])\n",
    "\n",
    "df = pd.DataFrame(props)\n",
    "\n",
    "df[df['label']==153]"
   ]
  },
  {
   "cell_type": "code",
   "execution_count": 116,
   "metadata": {},
   "outputs": [
    {
     "data": {
      "application/vnd.plotly.v1+json": {
       "config": {
        "plotlyServerURL": "https://plot.ly"
       },
       "data": [
        {
         "alignmentgroup": "True",
         "bingroup": "x",
         "hovertemplate": "Area=%{x}<br>count=%{y}<extra></extra>",
         "legendgroup": "",
         "marker": {
          "color": "#636efa",
          "pattern": {
           "shape": ""
          }
         },
         "name": "",
         "nbinsx": 300,
         "offsetgroup": "",
         "orientation": "v",
         "showlegend": false,
         "type": "histogram",
         "x": [
          860,
          308,
          386,
          353,
          118,
          138,
          369,
          193,
          282,
          118,
          555,
          215,
          558,
          324,
          398,
          370,
          308,
          92,
          329,
          1316,
          283,
          125,
          153,
          138,
          112,
          261,
          302,
          120,
          119,
          303,
          143,
          443,
          134,
          272,
          107,
          152,
          185,
          160,
          163,
          167,
          128,
          103,
          138,
          155,
          211,
          102,
          107,
          46,
          19,
          140,
          141,
          432,
          248,
          112,
          203,
          77,
          96,
          510,
          95,
          410,
          748,
          449,
          121,
          1161,
          97,
          128,
          452,
          936,
          658,
          437,
          844,
          213,
          134,
          370,
          1486,
          257,
          256,
          438,
          236,
          351,
          185,
          75,
          280,
          457,
          295,
          608,
          90,
          240,
          87,
          347,
          133,
          217,
          263,
          524,
          119,
          176,
          921,
          203,
          62,
          31,
          600,
          108,
          35,
          87,
          322,
          222,
          360,
          110,
          444,
          310,
          400,
          159,
          141,
          374,
          274,
          229,
          338,
          127,
          219,
          412,
          705,
          197,
          54,
          1321,
          495,
          670,
          1193,
          152,
          438,
          44,
          102,
          142,
          279,
          243,
          945,
          795,
          340,
          1265,
          282,
          337,
          81,
          48,
          98,
          51,
          120,
          97,
          110,
          105,
          31,
          111,
          114,
          197,
          64,
          717,
          259,
          280,
          477,
          465,
          138,
          200,
          148,
          157,
          149,
          159,
          152,
          132,
          298,
          122,
          198,
          339,
          220,
          1416,
          732,
          418,
          37,
          226,
          1678,
          328,
          318,
          245,
          180,
          489,
          518,
          261,
          239,
          301,
          355,
          95,
          742,
          477,
          178,
          278,
          453,
          123,
          1267,
          551,
          113,
          43,
          90,
          715,
          944,
          634,
          279,
          337,
          230,
          291,
          424,
          124,
          155,
          261,
          425,
          1270,
          86,
          37,
          34,
          149,
          308,
          48,
          1941,
          261,
          289,
          267,
          538,
          488,
          98,
          485,
          1232,
          73,
          383,
          908,
          119,
          921,
          32,
          183,
          368,
          118,
          466,
          264,
          70,
          257,
          138,
          418,
          188,
          517,
          133,
          290,
          176,
          656,
          38,
          399,
          485,
          16,
          335,
          1434,
          88,
          111,
          103,
          300,
          610,
          148,
          202,
          1206,
          448,
          92,
          124,
          514,
          749,
          576,
          265,
          137,
          716,
          142,
          125,
          216,
          1054,
          108,
          16,
          2540,
          223,
          2347,
          1471,
          327,
          1149,
          231,
          637,
          538,
          449,
          94,
          547,
          269,
          645,
          88,
          20,
          623,
          571,
          508,
          245,
          294,
          457,
          1097,
          389,
          659,
          117,
          465,
          560,
          81,
          208,
          229,
          394,
          457,
          206,
          727,
          449,
          138,
          429,
          156,
          257,
          199,
          147,
          444,
          127,
          316,
          30,
          533,
          131,
          779,
          329,
          1196,
          524,
          404,
          359,
          178,
          90,
          95,
          656,
          584,
          346,
          342,
          198,
          434,
          172,
          16,
          122,
          1114,
          1282,
          151,
          221,
          57,
          138,
          322,
          88,
          877,
          243,
          167,
          242,
          591,
          422,
          608,
          458,
          184,
          329,
          117,
          133,
          472,
          903,
          459,
          1543,
          125,
          682,
          786,
          257,
          616,
          260,
          1073,
          649,
          130,
          528,
          61,
          59,
          408,
          108,
          200,
          697,
          856,
          1268,
          404,
          81,
          47,
          211,
          226,
          650,
          565,
          461,
          1370,
          117,
          201,
          132,
          173,
          367,
          866,
          408,
          36,
          1516,
          496,
          926,
          23,
          146,
          66,
          582,
          348,
          1309,
          823,
          91,
          231,
          91,
          861,
          457,
          399,
          854,
          408,
          1169,
          641,
          77,
          95,
          564,
          530,
          1031,
          443,
          754,
          473,
          335,
          288,
          131,
          88,
          340,
          39,
          38,
          1913,
          129,
          366,
          751,
          34,
          144,
          74,
          90,
          661,
          67,
          125,
          143,
          226,
          610,
          612,
          94,
          114,
          99,
          93,
          446,
          102,
          698,
          211,
          199,
          87,
          599,
          305,
          133,
          380,
          832,
          210,
          597,
          399,
          117,
          349,
          1013,
          634,
          572,
          709,
          21,
          1415,
          1637,
          238,
          220,
          539,
          734,
          380,
          69,
          666,
          356,
          144,
          703,
          380,
          397,
          342,
          358,
          1471,
          112,
          1113,
          168,
          22,
          60,
          1020,
          106,
          863,
          82,
          841,
          619,
          468,
          770,
          1020,
          203,
          240,
          351,
          174,
          130,
          265,
          123,
          183,
          21,
          620,
          699,
          456,
          238,
          217,
          67,
          1454,
          231,
          731,
          29,
          44,
          1129,
          101,
          200,
          418,
          125,
          857,
          119,
          573,
          1676,
          687,
          144,
          1059,
          80,
          341,
          177,
          98,
          1021,
          1038,
          611,
          79,
          355,
          92,
          82,
          22,
          674,
          65,
          44,
          454,
          874,
          261,
          1113,
          905,
          717,
          256,
          278,
          48,
          1229,
          251,
          1368,
          137,
          137,
          103,
          43,
          553,
          432,
          418,
          171,
          243,
          62,
          1185,
          46,
          57,
          82,
          370,
          306,
          150,
          169,
          127,
          272,
          100,
          293,
          107,
          167,
          67,
          36,
          174,
          117,
          695,
          623,
          1319,
          1107,
          310,
          332,
          26,
          68,
          543,
          238,
          337,
          231,
          523,
          127,
          151,
          99,
          839,
          590,
          831,
          225,
          598,
          196,
          440,
          142,
          86,
          49,
          103,
          60,
          53,
          811,
          95,
          48,
          1035,
          1949,
          1208,
          989,
          94,
          407,
          116,
          846,
          827,
          83,
          147,
          1020,
          90,
          146,
          270,
          123,
          114,
          386,
          1364,
          119,
          254,
          1674,
          38,
          498,
          1573,
          60,
          2559,
          642,
          1034,
          817,
          53,
          103,
          185,
          1153,
          118,
          393,
          554,
          770,
          42,
          1035,
          534,
          161,
          245,
          87,
          129,
          651,
          141,
          947,
          114,
          41,
          213,
          228,
          47,
          425,
          366,
          96,
          173,
          1704,
          17,
          1895,
          109,
          412,
          70,
          28,
          165,
          1398,
          1213,
          68,
          254,
          216,
          291,
          300,
          109,
          49,
          296,
          67,
          678,
          731,
          127,
          18,
          541,
          142,
          112,
          121,
          91,
          63,
          83,
          220,
          15,
          59,
          59,
          253,
          161,
          102,
          30,
          573,
          310,
          128,
          251,
          229,
          327,
          545,
          126,
          63,
          37,
          137,
          164,
          245,
          191,
          92,
          94,
          100,
          388,
          179,
          191,
          263,
          210,
          110,
          456,
          104,
          71,
          105,
          103,
          391,
          358,
          152,
          60,
          161,
          325,
          29,
          81,
          97,
          843,
          108,
          71,
          95,
          39,
          88,
          128,
          119,
          177,
          181,
          879,
          407,
          81,
          552,
          422,
          72,
          286,
          93,
          46,
          102,
          24,
          1132,
          939,
          94,
          78,
          104,
          86,
          33,
          33,
          49,
          467,
          572,
          51,
          803,
          32,
          32,
          51,
          1464,
          27,
          217,
          98,
          183,
          66,
          880,
          79,
          428,
          342,
          87,
          39,
          84,
          142,
          52,
          42,
          61,
          64,
          164,
          38,
          920,
          19,
          20,
          54,
          137,
          133,
          34,
          369,
          44,
          265,
          47,
          112,
          82,
          77,
          32,
          103,
          687,
          942,
          57,
          54,
          32,
          747,
          37,
          247,
          95,
          903,
          686,
          47,
          48,
          91,
          75,
          148,
          476,
          241,
          979,
          37,
          1239,
          21,
          69,
          74,
          2918,
          65,
          1737,
          160,
          507,
          79,
          134,
          164,
          747,
          1679,
          163,
          85,
          48,
          32,
          738,
          1523,
          26,
          1308,
          21,
          959,
          177,
          18,
          38,
          1049,
          151,
          724,
          54,
          23,
          109,
          346,
          33,
          772,
          620,
          480,
          200,
          473,
          907,
          50,
          42,
          192,
          101,
          23,
          1113,
          810,
          176,
          20,
          90,
          96,
          1007,
          586,
          453,
          97,
          153,
          88,
          166,
          197,
          28,
          214,
          55,
          338,
          348,
          92,
          247,
          15,
          251,
          856,
          733,
          441,
          121,
          32,
          126,
          1002,
          43,
          26,
          681,
          65,
          67,
          388,
          147,
          440,
          156,
          29,
          49,
          120,
          124,
          272,
          1789,
          67,
          359,
          189,
          855,
          47,
          239,
          143,
          339,
          461,
          73,
          131,
          115,
          38,
          378,
          99,
          65,
          17,
          89,
          33,
          38,
          21,
          80
         ],
         "xaxis": "x",
         "yaxis": "y"
        }
       ],
       "layout": {
        "barmode": "relative",
        "legend": {
         "tracegroupgap": 0
        },
        "template": {
         "data": {
          "bar": [
           {
            "error_x": {
             "color": "#2a3f5f"
            },
            "error_y": {
             "color": "#2a3f5f"
            },
            "marker": {
             "line": {
              "color": "#E5ECF6",
              "width": 0.5
             },
             "pattern": {
              "fillmode": "overlay",
              "size": 10,
              "solidity": 0.2
             }
            },
            "type": "bar"
           }
          ],
          "barpolar": [
           {
            "marker": {
             "line": {
              "color": "#E5ECF6",
              "width": 0.5
             },
             "pattern": {
              "fillmode": "overlay",
              "size": 10,
              "solidity": 0.2
             }
            },
            "type": "barpolar"
           }
          ],
          "carpet": [
           {
            "aaxis": {
             "endlinecolor": "#2a3f5f",
             "gridcolor": "white",
             "linecolor": "white",
             "minorgridcolor": "white",
             "startlinecolor": "#2a3f5f"
            },
            "baxis": {
             "endlinecolor": "#2a3f5f",
             "gridcolor": "white",
             "linecolor": "white",
             "minorgridcolor": "white",
             "startlinecolor": "#2a3f5f"
            },
            "type": "carpet"
           }
          ],
          "choropleth": [
           {
            "colorbar": {
             "outlinewidth": 0,
             "ticks": ""
            },
            "type": "choropleth"
           }
          ],
          "contour": [
           {
            "colorbar": {
             "outlinewidth": 0,
             "ticks": ""
            },
            "colorscale": [
             [
              0,
              "#0d0887"
             ],
             [
              0.1111111111111111,
              "#46039f"
             ],
             [
              0.2222222222222222,
              "#7201a8"
             ],
             [
              0.3333333333333333,
              "#9c179e"
             ],
             [
              0.4444444444444444,
              "#bd3786"
             ],
             [
              0.5555555555555556,
              "#d8576b"
             ],
             [
              0.6666666666666666,
              "#ed7953"
             ],
             [
              0.7777777777777778,
              "#fb9f3a"
             ],
             [
              0.8888888888888888,
              "#fdca26"
             ],
             [
              1,
              "#f0f921"
             ]
            ],
            "type": "contour"
           }
          ],
          "contourcarpet": [
           {
            "colorbar": {
             "outlinewidth": 0,
             "ticks": ""
            },
            "type": "contourcarpet"
           }
          ],
          "heatmap": [
           {
            "colorbar": {
             "outlinewidth": 0,
             "ticks": ""
            },
            "colorscale": [
             [
              0,
              "#0d0887"
             ],
             [
              0.1111111111111111,
              "#46039f"
             ],
             [
              0.2222222222222222,
              "#7201a8"
             ],
             [
              0.3333333333333333,
              "#9c179e"
             ],
             [
              0.4444444444444444,
              "#bd3786"
             ],
             [
              0.5555555555555556,
              "#d8576b"
             ],
             [
              0.6666666666666666,
              "#ed7953"
             ],
             [
              0.7777777777777778,
              "#fb9f3a"
             ],
             [
              0.8888888888888888,
              "#fdca26"
             ],
             [
              1,
              "#f0f921"
             ]
            ],
            "type": "heatmap"
           }
          ],
          "heatmapgl": [
           {
            "colorbar": {
             "outlinewidth": 0,
             "ticks": ""
            },
            "colorscale": [
             [
              0,
              "#0d0887"
             ],
             [
              0.1111111111111111,
              "#46039f"
             ],
             [
              0.2222222222222222,
              "#7201a8"
             ],
             [
              0.3333333333333333,
              "#9c179e"
             ],
             [
              0.4444444444444444,
              "#bd3786"
             ],
             [
              0.5555555555555556,
              "#d8576b"
             ],
             [
              0.6666666666666666,
              "#ed7953"
             ],
             [
              0.7777777777777778,
              "#fb9f3a"
             ],
             [
              0.8888888888888888,
              "#fdca26"
             ],
             [
              1,
              "#f0f921"
             ]
            ],
            "type": "heatmapgl"
           }
          ],
          "histogram": [
           {
            "marker": {
             "pattern": {
              "fillmode": "overlay",
              "size": 10,
              "solidity": 0.2
             }
            },
            "type": "histogram"
           }
          ],
          "histogram2d": [
           {
            "colorbar": {
             "outlinewidth": 0,
             "ticks": ""
            },
            "colorscale": [
             [
              0,
              "#0d0887"
             ],
             [
              0.1111111111111111,
              "#46039f"
             ],
             [
              0.2222222222222222,
              "#7201a8"
             ],
             [
              0.3333333333333333,
              "#9c179e"
             ],
             [
              0.4444444444444444,
              "#bd3786"
             ],
             [
              0.5555555555555556,
              "#d8576b"
             ],
             [
              0.6666666666666666,
              "#ed7953"
             ],
             [
              0.7777777777777778,
              "#fb9f3a"
             ],
             [
              0.8888888888888888,
              "#fdca26"
             ],
             [
              1,
              "#f0f921"
             ]
            ],
            "type": "histogram2d"
           }
          ],
          "histogram2dcontour": [
           {
            "colorbar": {
             "outlinewidth": 0,
             "ticks": ""
            },
            "colorscale": [
             [
              0,
              "#0d0887"
             ],
             [
              0.1111111111111111,
              "#46039f"
             ],
             [
              0.2222222222222222,
              "#7201a8"
             ],
             [
              0.3333333333333333,
              "#9c179e"
             ],
             [
              0.4444444444444444,
              "#bd3786"
             ],
             [
              0.5555555555555556,
              "#d8576b"
             ],
             [
              0.6666666666666666,
              "#ed7953"
             ],
             [
              0.7777777777777778,
              "#fb9f3a"
             ],
             [
              0.8888888888888888,
              "#fdca26"
             ],
             [
              1,
              "#f0f921"
             ]
            ],
            "type": "histogram2dcontour"
           }
          ],
          "mesh3d": [
           {
            "colorbar": {
             "outlinewidth": 0,
             "ticks": ""
            },
            "type": "mesh3d"
           }
          ],
          "parcoords": [
           {
            "line": {
             "colorbar": {
              "outlinewidth": 0,
              "ticks": ""
             }
            },
            "type": "parcoords"
           }
          ],
          "pie": [
           {
            "automargin": true,
            "type": "pie"
           }
          ],
          "scatter": [
           {
            "fillpattern": {
             "fillmode": "overlay",
             "size": 10,
             "solidity": 0.2
            },
            "type": "scatter"
           }
          ],
          "scatter3d": [
           {
            "line": {
             "colorbar": {
              "outlinewidth": 0,
              "ticks": ""
             }
            },
            "marker": {
             "colorbar": {
              "outlinewidth": 0,
              "ticks": ""
             }
            },
            "type": "scatter3d"
           }
          ],
          "scattercarpet": [
           {
            "marker": {
             "colorbar": {
              "outlinewidth": 0,
              "ticks": ""
             }
            },
            "type": "scattercarpet"
           }
          ],
          "scattergeo": [
           {
            "marker": {
             "colorbar": {
              "outlinewidth": 0,
              "ticks": ""
             }
            },
            "type": "scattergeo"
           }
          ],
          "scattergl": [
           {
            "marker": {
             "colorbar": {
              "outlinewidth": 0,
              "ticks": ""
             }
            },
            "type": "scattergl"
           }
          ],
          "scattermapbox": [
           {
            "marker": {
             "colorbar": {
              "outlinewidth": 0,
              "ticks": ""
             }
            },
            "type": "scattermapbox"
           }
          ],
          "scatterpolar": [
           {
            "marker": {
             "colorbar": {
              "outlinewidth": 0,
              "ticks": ""
             }
            },
            "type": "scatterpolar"
           }
          ],
          "scatterpolargl": [
           {
            "marker": {
             "colorbar": {
              "outlinewidth": 0,
              "ticks": ""
             }
            },
            "type": "scatterpolargl"
           }
          ],
          "scatterternary": [
           {
            "marker": {
             "colorbar": {
              "outlinewidth": 0,
              "ticks": ""
             }
            },
            "type": "scatterternary"
           }
          ],
          "surface": [
           {
            "colorbar": {
             "outlinewidth": 0,
             "ticks": ""
            },
            "colorscale": [
             [
              0,
              "#0d0887"
             ],
             [
              0.1111111111111111,
              "#46039f"
             ],
             [
              0.2222222222222222,
              "#7201a8"
             ],
             [
              0.3333333333333333,
              "#9c179e"
             ],
             [
              0.4444444444444444,
              "#bd3786"
             ],
             [
              0.5555555555555556,
              "#d8576b"
             ],
             [
              0.6666666666666666,
              "#ed7953"
             ],
             [
              0.7777777777777778,
              "#fb9f3a"
             ],
             [
              0.8888888888888888,
              "#fdca26"
             ],
             [
              1,
              "#f0f921"
             ]
            ],
            "type": "surface"
           }
          ],
          "table": [
           {
            "cells": {
             "fill": {
              "color": "#EBF0F8"
             },
             "line": {
              "color": "white"
             }
            },
            "header": {
             "fill": {
              "color": "#C8D4E3"
             },
             "line": {
              "color": "white"
             }
            },
            "type": "table"
           }
          ]
         },
         "layout": {
          "annotationdefaults": {
           "arrowcolor": "#2a3f5f",
           "arrowhead": 0,
           "arrowwidth": 1
          },
          "autotypenumbers": "strict",
          "coloraxis": {
           "colorbar": {
            "outlinewidth": 0,
            "ticks": ""
           }
          },
          "colorscale": {
           "diverging": [
            [
             0,
             "#8e0152"
            ],
            [
             0.1,
             "#c51b7d"
            ],
            [
             0.2,
             "#de77ae"
            ],
            [
             0.3,
             "#f1b6da"
            ],
            [
             0.4,
             "#fde0ef"
            ],
            [
             0.5,
             "#f7f7f7"
            ],
            [
             0.6,
             "#e6f5d0"
            ],
            [
             0.7,
             "#b8e186"
            ],
            [
             0.8,
             "#7fbc41"
            ],
            [
             0.9,
             "#4d9221"
            ],
            [
             1,
             "#276419"
            ]
           ],
           "sequential": [
            [
             0,
             "#0d0887"
            ],
            [
             0.1111111111111111,
             "#46039f"
            ],
            [
             0.2222222222222222,
             "#7201a8"
            ],
            [
             0.3333333333333333,
             "#9c179e"
            ],
            [
             0.4444444444444444,
             "#bd3786"
            ],
            [
             0.5555555555555556,
             "#d8576b"
            ],
            [
             0.6666666666666666,
             "#ed7953"
            ],
            [
             0.7777777777777778,
             "#fb9f3a"
            ],
            [
             0.8888888888888888,
             "#fdca26"
            ],
            [
             1,
             "#f0f921"
            ]
           ],
           "sequentialminus": [
            [
             0,
             "#0d0887"
            ],
            [
             0.1111111111111111,
             "#46039f"
            ],
            [
             0.2222222222222222,
             "#7201a8"
            ],
            [
             0.3333333333333333,
             "#9c179e"
            ],
            [
             0.4444444444444444,
             "#bd3786"
            ],
            [
             0.5555555555555556,
             "#d8576b"
            ],
            [
             0.6666666666666666,
             "#ed7953"
            ],
            [
             0.7777777777777778,
             "#fb9f3a"
            ],
            [
             0.8888888888888888,
             "#fdca26"
            ],
            [
             1,
             "#f0f921"
            ]
           ]
          },
          "colorway": [
           "#636efa",
           "#EF553B",
           "#00cc96",
           "#ab63fa",
           "#FFA15A",
           "#19d3f3",
           "#FF6692",
           "#B6E880",
           "#FF97FF",
           "#FECB52"
          ],
          "font": {
           "color": "#2a3f5f"
          },
          "geo": {
           "bgcolor": "white",
           "lakecolor": "white",
           "landcolor": "#E5ECF6",
           "showlakes": true,
           "showland": true,
           "subunitcolor": "white"
          },
          "hoverlabel": {
           "align": "left"
          },
          "hovermode": "closest",
          "mapbox": {
           "style": "light"
          },
          "paper_bgcolor": "white",
          "plot_bgcolor": "#E5ECF6",
          "polar": {
           "angularaxis": {
            "gridcolor": "white",
            "linecolor": "white",
            "ticks": ""
           },
           "bgcolor": "#E5ECF6",
           "radialaxis": {
            "gridcolor": "white",
            "linecolor": "white",
            "ticks": ""
           }
          },
          "scene": {
           "xaxis": {
            "backgroundcolor": "#E5ECF6",
            "gridcolor": "white",
            "gridwidth": 2,
            "linecolor": "white",
            "showbackground": true,
            "ticks": "",
            "zerolinecolor": "white"
           },
           "yaxis": {
            "backgroundcolor": "#E5ECF6",
            "gridcolor": "white",
            "gridwidth": 2,
            "linecolor": "white",
            "showbackground": true,
            "ticks": "",
            "zerolinecolor": "white"
           },
           "zaxis": {
            "backgroundcolor": "#E5ECF6",
            "gridcolor": "white",
            "gridwidth": 2,
            "linecolor": "white",
            "showbackground": true,
            "ticks": "",
            "zerolinecolor": "white"
           }
          },
          "shapedefaults": {
           "line": {
            "color": "#2a3f5f"
           }
          },
          "ternary": {
           "aaxis": {
            "gridcolor": "white",
            "linecolor": "white",
            "ticks": ""
           },
           "baxis": {
            "gridcolor": "white",
            "linecolor": "white",
            "ticks": ""
           },
           "bgcolor": "#E5ECF6",
           "caxis": {
            "gridcolor": "white",
            "linecolor": "white",
            "ticks": ""
           }
          },
          "title": {
           "x": 0.05
          },
          "xaxis": {
           "automargin": true,
           "gridcolor": "white",
           "linecolor": "white",
           "ticks": "",
           "title": {
            "standoff": 15
           },
           "zerolinecolor": "white",
           "zerolinewidth": 2
          },
          "yaxis": {
           "automargin": true,
           "gridcolor": "white",
           "linecolor": "white",
           "ticks": "",
           "title": {
            "standoff": 15
           },
           "zerolinecolor": "white",
           "zerolinewidth": 2
          }
         }
        },
        "title": {
         "text": "Histogram of Areas of Different Labels"
        },
        "xaxis": {
         "anchor": "y",
         "domain": [
          0,
          1
         ],
         "title": {
          "text": "Area"
         }
        },
        "yaxis": {
         "anchor": "x",
         "domain": [
          0,
          1
         ],
         "title": {
          "text": "count"
         }
        }
       }
      }
     },
     "metadata": {},
     "output_type": "display_data"
    }
   ],
   "source": [
    "# Create histogram\n",
    "fig = px.histogram(df, x=\"area\", nbins=300, labels={\"area\": \"Area\"}, title=\"Histogram of Areas of Different Labels\")\n",
    "\n",
    "# Show plot\n",
    "fig.show()"
   ]
  },
  {
   "cell_type": "code",
   "execution_count": 117,
   "metadata": {},
   "outputs": [],
   "source": [
    "# Exclude nuclei labels based on size in pixels\n",
    "\n",
    "# Create a destination array with the same shape as masks\n",
    "destination = cle.create_like(masks)\n",
    "\n",
    "# Remove labels smaller than 90 pixels (artifacts)\n",
    "filtered_nuclei_gpu = cle.exclude_small_labels(masks, destination, 90)\n",
    "\n",
    "# Remove labels larger than 500 pixels (merged nuclei)\n",
    "filtered_nuclei_gpu = cle.exclude_large_labels(filtered_nuclei_gpu, destination, 500)\n",
    "\n",
    "# Pull filtered_nuclei from GPU\n",
    "filtered_nuclei = cle.pull(filtered_nuclei_gpu).astype(np.uint16)\n",
    "\n",
    "# Dilate labels\n",
    "dilated_nuclei_gpu = cle.dilate_labels(filtered_nuclei, radius=2)\n",
    "dilated_nuclei = cle.pull(dilated_nuclei_gpu)\n"
   ]
  },
  {
   "cell_type": "code",
   "execution_count": 118,
   "metadata": {},
   "outputs": [
    {
     "data": {
      "text/plain": [
       "<Labels layer 'cytoplasm' at 0x206d8c0a520>"
      ]
     },
     "execution_count": 118,
     "metadata": {},
     "output_type": "execute_result"
    }
   ],
   "source": [
    "# Create a copy of dilated_nuclei to modify\n",
    "cytoplasm = dilated_nuclei.copy()\n",
    "\n",
    "# Get unique labels (excluding 0 which is background)\n",
    "unique_labels = np.unique(filtered_nuclei)\n",
    "unique_labels = unique_labels[unique_labels != 0]\n",
    "\n",
    "# Iterate over each label and remove the corresponding pixels from dilated_nuclei\n",
    "for label in unique_labels:\n",
    "    # Create a mask for the current label in filtered_nuclei\n",
    "    mask = (filtered_nuclei == label)\n",
    "    \n",
    "    # Set corresponding pixels in resulting_nuclei to zero\n",
    "    cytoplasm[mask] = 0\n",
    "\n",
    "viewer.add_labels(cytoplasm)"
   ]
  }
 ],
 "metadata": {
  "kernelspec": {
   "display_name": "microglia_GPU",
   "language": "python",
   "name": "python3"
  },
  "language_info": {
   "codemirror_mode": {
    "name": "ipython",
    "version": 3
   },
   "file_extension": ".py",
   "mimetype": "text/x-python",
   "name": "python",
   "nbconvert_exporter": "python",
   "pygments_lexer": "ipython3",
   "version": "3.9.19"
  }
 },
 "nbformat": 4,
 "nbformat_minor": 2
}
