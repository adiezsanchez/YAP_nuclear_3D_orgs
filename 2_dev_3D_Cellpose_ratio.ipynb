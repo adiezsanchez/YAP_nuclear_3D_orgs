{
 "cells": [
  {
   "cell_type": "code",
   "execution_count": 38,
   "metadata": {},
   "outputs": [
    {
     "data": {
      "text/plain": [
       "<NVIDIA GeForce RTX 4090 on Platform: NVIDIA CUDA (2 refs)>"
      ]
     },
     "execution_count": 38,
     "metadata": {},
     "output_type": "execute_result"
    }
   ],
   "source": [
    "from utils import extract_scaling_metadata\n",
    "import os\n",
    "from tqdm import tqdm\n",
    "from pathlib import Path\n",
    "import czifile\n",
    "import napari\n",
    "import numpy as np\n",
    "import skimage\n",
    "from skimage import measure, exposure\n",
    "from skimage.measure import regionprops_table\n",
    "import pandas as pd\n",
    "import pyclesperanto_prototype as cle\n",
    "import plotly.express as px\n",
    "from cellpose import models, utils\n",
    "\n",
    "cle.select_device(\"RTX\")"
   ]
  },
  {
   "cell_type": "code",
   "execution_count": 39,
   "metadata": {},
   "outputs": [
    {
     "data": {
      "text/plain": [
       "117"
      ]
     },
     "execution_count": 39,
     "metadata": {},
     "output_type": "execute_result"
    }
   ],
   "source": [
    "directory_path = Path(\"./raw_data/\")\n",
    "images = []\n",
    "\n",
    "# Iterate through the lsm files in the directory\n",
    "for file_path in directory_path.glob(\"*.czi\"):\n",
    "    # Remove Control and Isotype stainings from the analysis\n",
    "    if \"Control\" and \"Isotype\" not in file_path.stem:\n",
    "        images.append(str(file_path))\n",
    "    \n",
    "len(images)"
   ]
  },
  {
   "cell_type": "code",
   "execution_count": 40,
   "metadata": {},
   "outputs": [],
   "source": [
    "image = images[1]\n",
    "\n",
    "# Read path storing raw image and extract filename\n",
    "file_path = Path(image)\n",
    "filename = file_path.stem\n",
    "\n",
    "# Read the image file and remove singleton dimensions\n",
    "img = czifile.imread(image)\n",
    "img = img.squeeze()\n",
    "\n",
    "# Extract experiment, mouse, treatment and replica ids\n",
    "experiment_id = filename.split(\" \")[0]\n",
    "mouse_id = filename.split(\" \")[1]\n",
    "treatment_id = filename.split(\" \")[2]\n",
    "replica_id = filename.split(\" \")[-1]\n",
    "\n",
    "# Image size reduction to improve processing times (slicing, not lossless compression)\n",
    "slicing_factor = None # Use 2 or 4 for compression (None for lossless)\n",
    "\n",
    "# Extract the stack containing the UEA-1 (0), YAP (1), nuclei (2) and BCAT (3) channels.\n",
    "uea1_stack = img[0, :, ::slicing_factor, ::slicing_factor]\n",
    "yap_stack = img[1, :, ::slicing_factor, ::slicing_factor]\n",
    "nuclei_stack = img[2, :, ::slicing_factor, ::slicing_factor]\n",
    "bcat_stack = img[3, :, ::slicing_factor, ::slicing_factor]"
   ]
  },
  {
   "cell_type": "code",
   "execution_count": 41,
   "metadata": {},
   "outputs": [],
   "source": [
    "# Extract x,y,z scaling from .czi file metadata in order to make data isotropic\n",
    "scaling_x_um, scaling_y_um, scaling_z_um = extract_scaling_metadata(file_path)\n",
    "\n",
    "# Resample nuclei stack and remove noise prior to Cellpose prediction\n",
    "resampled_nuclei = cle.scale(nuclei_stack, factor_x=scaling_x_um, factor_y=scaling_y_um, factor_z=scaling_z_um, auto_size=True)\n",
    "background_subtracted = cle.top_hat_box(resampled_nuclei, radius_x=5, radius_y=5, radius_z=5)\n",
    "\n",
    "# Pull OCL arrays from GPU memory and transform into numpy arrays to be fed into Cellpose\n",
    "processed_nuclei = cle.pull(background_subtracted)\n",
    "del background_subtracted\n",
    "\n",
    "# Apply Contrast Stretching to improve Cellpose detection of overly bright nuclei\n",
    "p2, p98 = np.percentile(processed_nuclei, (2, 98)) \n",
    "nuclei_rescaled = exposure.rescale_intensity(processed_nuclei, in_range=(p2, p98))\n",
    "\n",
    "# Initialize the Cellpose model\n",
    "model = models.Cellpose(gpu=True, model_type='nuclei')\n",
    "\n",
    "# Run Cellpose\n",
    "masks, flows, styles, diams = model.eval(nuclei_rescaled, diameter=10, channels=[0, 0], do_3D=True)\n"
   ]
  },
  {
   "cell_type": "code",
   "execution_count": 42,
   "metadata": {},
   "outputs": [],
   "source": [
    "# Filter out merged nuclei labels and artifacts based on size distribution\n",
    "\n",
    "# Create a destination array with the same shape as the nuclei labels (masks array)\n",
    "destination = cle.create_like(masks)\n",
    "\n",
    "# Remove labels smaller than 90 pixels (artifacts)\n",
    "filtered_nuclei_gpu = cle.exclude_small_labels(masks, destination, 90)\n",
    "\n",
    "# Remove labels larger than 500 pixels (merged nuclei)\n",
    "filtered_nuclei_gpu = cle.exclude_large_labels(filtered_nuclei_gpu, destination, 500)\n",
    "\n",
    "# Pull filtered_nuclei from GPU\n",
    "filtered_nuclei = cle.pull(filtered_nuclei_gpu).astype(np.uint16)\n",
    "\n",
    "# Dilate labels\n",
    "dilated_nuclei_gpu = cle.dilate_labels(filtered_nuclei, radius=2)\n",
    "dilated_nuclei = cle.pull(dilated_nuclei_gpu)\n"
   ]
  },
  {
   "cell_type": "code",
   "execution_count": 43,
   "metadata": {},
   "outputs": [],
   "source": [
    "# Simulate cytoplasm labels by building a sphere surrounding the nuclei labels\n",
    "\n",
    "# Create a copy of dilated_nuclei to modify\n",
    "cytoplasm = dilated_nuclei.copy()\n",
    "\n",
    "# Get unique labels (excluding 0 which is background)\n",
    "unique_labels = np.unique(filtered_nuclei)\n",
    "unique_labels = unique_labels[unique_labels != 0]\n",
    "\n",
    "# Iterate over each label and remove the corresponding pixels from dilated_nuclei\n",
    "for label in unique_labels:\n",
    "    # Create a mask for the current label in filtered_nuclei\n",
    "    mask = (filtered_nuclei == label)\n",
    "    \n",
    "    # Set corresponding pixels in resulting_nuclei to zero\n",
    "    cytoplasm[mask] = 0"
   ]
  },
  {
   "cell_type": "code",
   "execution_count": 44,
   "metadata": {},
   "outputs": [],
   "source": [
    "# Resample YAP and B-catenin stacks for visualization\n",
    "resampled_yap_gpu = cle.scale(yap_stack, factor_x=scaling_x_um, factor_y=scaling_y_um, factor_z=scaling_z_um, auto_size=True)\n",
    "resampled_bcat_gpu = cle.scale(bcat_stack, factor_x=scaling_x_um, factor_y=scaling_y_um, factor_z=scaling_z_um, auto_size=True)\n",
    "\n",
    "# Pull YAP OCL array from GPU to feed into regionprops as intensity_image afterwards\n",
    "resampled_yap = cle.pull(resampled_yap_gpu)"
   ]
  },
  {
   "cell_type": "code",
   "execution_count": 45,
   "metadata": {},
   "outputs": [
    {
     "data": {
      "text/plain": [
       "<Labels layer 'cytoplasm' at 0x1a531bd7fd0>"
      ]
     },
     "execution_count": 45,
     "metadata": {},
     "output_type": "execute_result"
    }
   ],
   "source": [
    "# Initialize Napari viewer to display segmentation results\n",
    "viewer = napari.Viewer(ndisplay=2)\n",
    "\n",
    "viewer.add_image(processed_nuclei)\n",
    "viewer.add_image(resampled_yap_gpu)\n",
    "viewer.add_image(resampled_bcat_gpu)\n",
    "viewer.add_labels(masks)\n",
    "viewer.add_labels(filtered_nuclei)\n",
    "viewer.add_labels(cytoplasm)\n"
   ]
  },
  {
   "cell_type": "code",
   "execution_count": 46,
   "metadata": {},
   "outputs": [],
   "source": [
    "#Extract regionprops from filtered nuclei and generated-cytoplasm labels\n",
    "props_nuclei = regionprops_table(label_image=filtered_nuclei, intensity_image=resampled_yap, properties=[\"label\", \"intensity_mean\", \"area\"])\n",
    "props_cytoplasm = regionprops_table(label_image=cytoplasm, intensity_image=resampled_yap, properties=[\"label\", \"intensity_mean\", \"area\"])\n",
    "\n",
    "\n",
    "# Transform regionprops_table into a Dataframe to process it using Pandas\n",
    "df_nuclei = pd.DataFrame(props_nuclei)\n",
    "df_cytoplasm = pd.DataFrame(props_cytoplasm)\n",
    "\n",
    "# Renaming columns\n",
    "df_nuclei.rename(columns={'intensity_mean': 'intensity_mean_nuclei', 'area': 'area_nuclei'}, inplace=True)\n",
    "df_cytoplasm.rename(columns={'intensity_mean': 'intensity_mean_cyto', 'area': 'area_cyto'}, inplace=True)\n",
    "\n",
    "# Merge dataframes on label\n",
    "merged_df = pd.merge(df_nuclei, df_cytoplasm, on='label')\n",
    "\n",
    "# Calculate nuclei/cytoplasm ratio of mean intensity of YAP signal\n",
    "merged_df['nuclei_cyto_ratio'] = merged_df['intensity_mean_nuclei'] / merged_df['intensity_mean_cyto']"
   ]
  },
  {
   "cell_type": "code",
   "execution_count": 47,
   "metadata": {},
   "outputs": [],
   "source": [
    "# Add extracted ID info to the dataframe\n",
    "merged_df.insert(0, 'experiment_id', experiment_id)\n",
    "merged_df.insert(1, 'mouse_id', mouse_id)\n",
    "merged_df.insert(2, 'treatment_id', treatment_id)\n",
    "merged_df.insert(3, 'replica_id', replica_id)"
   ]
  },
  {
   "cell_type": "code",
   "execution_count": 48,
   "metadata": {},
   "outputs": [
    {
     "data": {
      "text/html": [
       "<div>\n",
       "<style scoped>\n",
       "    .dataframe tbody tr th:only-of-type {\n",
       "        vertical-align: middle;\n",
       "    }\n",
       "\n",
       "    .dataframe tbody tr th {\n",
       "        vertical-align: top;\n",
       "    }\n",
       "\n",
       "    .dataframe thead th {\n",
       "        text-align: right;\n",
       "    }\n",
       "</style>\n",
       "<table border=\"1\" class=\"dataframe\">\n",
       "  <thead>\n",
       "    <tr style=\"text-align: right;\">\n",
       "      <th></th>\n",
       "      <th>experiment_id</th>\n",
       "      <th>mouse_id</th>\n",
       "      <th>treatment_id</th>\n",
       "      <th>replica_id</th>\n",
       "      <th>label</th>\n",
       "      <th>intensity_mean_nuclei</th>\n",
       "      <th>area_nuclei</th>\n",
       "      <th>intensity_mean_cyto</th>\n",
       "      <th>area_cyto</th>\n",
       "      <th>nuclei_cyto_ratio</th>\n",
       "    </tr>\n",
       "  </thead>\n",
       "  <tbody>\n",
       "    <tr>\n",
       "      <th>0</th>\n",
       "      <td>RY20240607</td>\n",
       "      <td>4541</td>\n",
       "      <td>BCM</td>\n",
       "      <td>2</td>\n",
       "      <td>1</td>\n",
       "      <td>12.798761</td>\n",
       "      <td>323.0</td>\n",
       "      <td>12.575000</td>\n",
       "      <td>520.0</td>\n",
       "      <td>1.017794</td>\n",
       "    </tr>\n",
       "    <tr>\n",
       "      <th>1</th>\n",
       "      <td>RY20240607</td>\n",
       "      <td>4541</td>\n",
       "      <td>BCM</td>\n",
       "      <td>2</td>\n",
       "      <td>2</td>\n",
       "      <td>21.879896</td>\n",
       "      <td>383.0</td>\n",
       "      <td>27.395294</td>\n",
       "      <td>425.0</td>\n",
       "      <td>0.798674</td>\n",
       "    </tr>\n",
       "    <tr>\n",
       "      <th>2</th>\n",
       "      <td>RY20240607</td>\n",
       "      <td>4541</td>\n",
       "      <td>BCM</td>\n",
       "      <td>2</td>\n",
       "      <td>3</td>\n",
       "      <td>19.874233</td>\n",
       "      <td>326.0</td>\n",
       "      <td>22.310427</td>\n",
       "      <td>422.0</td>\n",
       "      <td>0.890805</td>\n",
       "    </tr>\n",
       "    <tr>\n",
       "      <th>3</th>\n",
       "      <td>RY20240607</td>\n",
       "      <td>4541</td>\n",
       "      <td>BCM</td>\n",
       "      <td>2</td>\n",
       "      <td>4</td>\n",
       "      <td>24.190083</td>\n",
       "      <td>121.0</td>\n",
       "      <td>19.887180</td>\n",
       "      <td>195.0</td>\n",
       "      <td>1.216366</td>\n",
       "    </tr>\n",
       "    <tr>\n",
       "      <th>4</th>\n",
       "      <td>RY20240607</td>\n",
       "      <td>4541</td>\n",
       "      <td>BCM</td>\n",
       "      <td>2</td>\n",
       "      <td>5</td>\n",
       "      <td>19.056604</td>\n",
       "      <td>265.0</td>\n",
       "      <td>23.157429</td>\n",
       "      <td>451.0</td>\n",
       "      <td>0.822915</td>\n",
       "    </tr>\n",
       "  </tbody>\n",
       "</table>\n",
       "</div>"
      ],
      "text/plain": [
       "  experiment_id mouse_id treatment_id replica_id  label  \\\n",
       "0    RY20240607     4541          BCM          2      1   \n",
       "1    RY20240607     4541          BCM          2      2   \n",
       "2    RY20240607     4541          BCM          2      3   \n",
       "3    RY20240607     4541          BCM          2      4   \n",
       "4    RY20240607     4541          BCM          2      5   \n",
       "\n",
       "   intensity_mean_nuclei  area_nuclei  intensity_mean_cyto  area_cyto  \\\n",
       "0              12.798761        323.0            12.575000      520.0   \n",
       "1              21.879896        383.0            27.395294      425.0   \n",
       "2              19.874233        326.0            22.310427      422.0   \n",
       "3              24.190083        121.0            19.887180      195.0   \n",
       "4              19.056604        265.0            23.157429      451.0   \n",
       "\n",
       "   nuclei_cyto_ratio  \n",
       "0           1.017794  \n",
       "1           0.798674  \n",
       "2           0.890805  \n",
       "3           1.216366  \n",
       "4           0.822915  "
      ]
     },
     "execution_count": 48,
     "metadata": {},
     "output_type": "execute_result"
    }
   ],
   "source": [
    "merged_df.head()"
   ]
  },
  {
   "cell_type": "code",
   "execution_count": 49,
   "metadata": {},
   "outputs": [
    {
     "data": {
      "text/html": [
       "<div>\n",
       "<style scoped>\n",
       "    .dataframe tbody tr th:only-of-type {\n",
       "        vertical-align: middle;\n",
       "    }\n",
       "\n",
       "    .dataframe tbody tr th {\n",
       "        vertical-align: top;\n",
       "    }\n",
       "\n",
       "    .dataframe thead th {\n",
       "        text-align: right;\n",
       "    }\n",
       "</style>\n",
       "<table border=\"1\" class=\"dataframe\">\n",
       "  <thead>\n",
       "    <tr style=\"text-align: right;\">\n",
       "      <th></th>\n",
       "      <th>experiment_id</th>\n",
       "      <th>mouse_id</th>\n",
       "      <th>treatment_id</th>\n",
       "      <th>replica_id</th>\n",
       "      <th>label</th>\n",
       "      <th>intensity_mean_nuclei</th>\n",
       "      <th>area_nuclei</th>\n",
       "      <th>intensity_mean_cyto</th>\n",
       "      <th>area_cyto</th>\n",
       "      <th>nuclei_cyto_ratio</th>\n",
       "    </tr>\n",
       "  </thead>\n",
       "  <tbody>\n",
       "    <tr>\n",
       "      <th>540</th>\n",
       "      <td>RY20240607</td>\n",
       "      <td>4541</td>\n",
       "      <td>BCM</td>\n",
       "      <td>2</td>\n",
       "      <td>541</td>\n",
       "      <td>1.511628</td>\n",
       "      <td>473.0</td>\n",
       "      <td>1.193665</td>\n",
       "      <td>1105.0</td>\n",
       "      <td>1.266375</td>\n",
       "    </tr>\n",
       "  </tbody>\n",
       "</table>\n",
       "</div>"
      ],
      "text/plain": [
       "    experiment_id mouse_id treatment_id replica_id  label  \\\n",
       "540    RY20240607     4541          BCM          2    541   \n",
       "\n",
       "     intensity_mean_nuclei  area_nuclei  intensity_mean_cyto  area_cyto  \\\n",
       "540               1.511628        473.0             1.193665     1105.0   \n",
       "\n",
       "     nuclei_cyto_ratio  \n",
       "540           1.266375  "
      ]
     },
     "execution_count": 49,
     "metadata": {},
     "output_type": "execute_result"
    }
   ],
   "source": [
    "# Explore particular label results (i.e. 541)\n",
    "\n",
    "label = 541\n",
    "\n",
    "merged_df[merged_df['label']==label]"
   ]
  },
  {
   "cell_type": "code",
   "execution_count": 50,
   "metadata": {},
   "outputs": [
    {
     "data": {
      "application/vnd.plotly.v1+json": {
       "config": {
        "plotlyServerURL": "https://plot.ly"
       },
       "data": [
        {
         "alignmentgroup": "True",
         "bingroup": "x",
         "hovertemplate": "Area=%{x}<br>count=%{y}<extra></extra>",
         "legendgroup": "",
         "marker": {
          "color": "#636efa",
          "pattern": {
           "shape": ""
          }
         },
         "name": "",
         "nbinsx": 300,
         "offsetgroup": "",
         "orientation": "v",
         "showlegend": false,
         "type": "histogram",
         "x": [
          821,
          323,
          383,
          326,
          20,
          121,
          529,
          741,
          265,
          94,
          525,
          202,
          272,
          184,
          394,
          154,
          370,
          298,
          104,
          322,
          1289,
          430,
          128,
          151,
          147,
          115,
          259,
          327,
          126,
          122,
          186,
          320,
          147,
          447,
          138,
          281,
          122,
          163,
          160,
          163,
          187,
          165,
          176,
          129,
          117,
          147,
          167,
          213,
          111,
          120,
          47,
          20,
          157,
          148,
          513,
          224,
          116,
          210,
          85,
          106,
          408,
          97,
          180,
          729,
          260,
          115,
          1255,
          72,
          169,
          71,
          397,
          79,
          885,
          573,
          421,
          277,
          265,
          115,
          191,
          76,
          950,
          262,
          374,
          195,
          245,
          245,
          242,
          15,
          436,
          422,
          677,
          90,
          207,
          79,
          267,
          601,
          188,
          150,
          825,
          197,
          17,
          461,
          135,
          767,
          287,
          223,
          339,
          433,
          663,
          86,
          383,
          39,
          423,
          89,
          322,
          269,
          320,
          81,
          49,
          209,
          174,
          597,
          134,
          39,
          338,
          1276,
          432,
          1140,
          157,
          462,
          97,
          137,
          237,
          594,
          224,
          56,
          781,
          1076,
          422,
          298,
          172,
          318,
          89,
          48,
          99,
          49,
          44,
          126,
          100,
          114,
          109,
          31,
          121,
          116,
          211,
          75,
          250,
          17,
          332,
          419,
          520,
          139,
          148,
          150,
          168,
          159,
          88,
          144,
          131,
          192,
          287,
          206,
          58,
          236,
          1288,
          725,
          930,
          30,
          353,
          225,
          177,
          1555,
          62,
          46,
          221,
          152,
          397,
          249,
          309,
          84,
          739,
          432,
          137,
          362,
          444,
          143,
          516,
          129,
          92,
          689,
          911,
          607,
          261,
          213,
          286,
          418,
          121,
          142,
          259,
          406,
          34,
          37,
          153,
          272,
          17,
          47,
          294,
          1818,
          90,
          203,
          265,
          246,
          18,
          479,
          500,
          297,
          154,
          441,
          185,
          310,
          313,
          884,
          304,
          95,
          435,
          882,
          237,
          16,
          241,
          384,
          96,
          258,
          475,
          248,
          407,
          193,
          564,
          46,
          390,
          486,
          1023,
          322,
          198,
          92,
          105,
          282,
          610,
          162,
          218,
          613,
          190,
          433,
          84,
          322,
          498,
          56,
          595,
          270,
          140,
          723,
          145,
          132,
          109,
          920,
          110,
          661,
          27,
          157,
          1388,
          205,
          23,
          1300,
          429,
          431,
          711,
          283,
          202,
          261,
          25,
          34,
          81,
          525,
          51,
          160,
          161,
          417,
          103,
          613,
          40,
          524,
          497,
          245,
          432,
          836,
          1162,
          226,
          130,
          419,
          528,
          111,
          58,
          232,
          73,
          378,
          367,
          421,
          209,
          655,
          640,
          476,
          92,
          169,
          163,
          270,
          132,
          149,
          450,
          127,
          395,
          28,
          1870,
          759,
          2186,
          331,
          19,
          1047,
          371,
          320,
          199,
          300,
          390,
          391,
          693,
          407,
          161,
          161,
          597,
          76,
          1320,
          20,
          172,
          140,
          83,
          1087,
          146,
          56,
          126,
          240,
          433,
          792,
          446,
          212,
          73,
          630,
          452,
          189,
          325,
          119,
          138,
          471,
          882,
          437,
          1430,
          107,
          623,
          684,
          228,
          36,
          566,
          860,
          47,
          263,
          1025,
          507,
          72,
          66,
          30,
          459,
          248,
          198,
          322,
          609,
          1537,
          18,
          66,
          950,
          393,
          82,
          51,
          216,
          398,
          25,
          695,
          257,
          597,
          538,
          238,
          226,
          129,
          168,
          308,
          1142,
          864,
          383,
          47,
          91,
          676,
          840,
          1184,
          19,
          215,
          577,
          63,
          537,
          304,
          208,
          120,
          415,
          184,
          689,
          203,
          85,
          754,
          700,
          810,
          409,
          1230,
          616,
          28,
          94,
          164,
          130,
          473,
          1023,
          458,
          701,
          296,
          151,
          136,
          93,
          430,
          36,
          1764,
          379,
          610,
          61,
          86,
          111,
          82,
          569,
          56,
          39,
          289,
          69,
          171,
          33,
          1008,
          627,
          85,
          123,
          98,
          89,
          222,
          428,
          645,
          225,
          183,
          91,
          329,
          198,
          135,
          367,
          712,
          226,
          513,
          397,
          115,
          814,
          346,
          953,
          138,
          201,
          377,
          564,
          187,
          649,
          107,
          263,
          632,
          1584,
          244,
          712,
          495,
          390,
          71,
          802,
          397,
          61,
          691,
          223,
          622,
          128,
          473,
          280,
          339,
          1129,
          955,
          72,
          66,
          306,
          43,
          812,
          21,
          30,
          66,
          114,
          860,
          44,
          82,
          775,
          644,
          426,
          737,
          689,
          670,
          205,
          250,
          357,
          218,
          156,
          138,
          276,
          128,
          189,
          343,
          34,
          336,
          74,
          52,
          1145,
          41,
          739,
          727,
          1127,
          99,
          207,
          385,
          125,
          131,
          965,
          1604,
          698,
          176,
          141,
          1210,
          299,
          186,
          33,
          109,
          1351,
          24,
          133,
          603,
          71,
          153,
          721,
          48,
          61,
          116,
          266,
          974,
          265,
          271,
          351,
          54,
          331,
          1395,
          218,
          227,
          119,
          70,
          867,
          506,
          394,
          159,
          554,
          345,
          50,
          337,
          51,
          158,
          152,
          211,
          97,
          170,
          1140,
          302,
          125,
          1547,
          43,
          190,
          123,
          622,
          466,
          1158,
          52,
          32,
          1062,
          303,
          411,
          755,
          19,
          64,
          300,
          88,
          236,
          257,
          250,
          535,
          93,
          128,
          104,
          403,
          851,
          279,
          655,
          166,
          390,
          151,
          91,
          66,
          100,
          75,
          63,
          85,
          84,
          588,
          848,
          170,
          187,
          121,
          853,
          456,
          1185,
          191,
          867,
          161,
          97,
          411,
          588,
          52,
          362,
          86,
          1198,
          1124,
          126,
          251,
          262,
          894,
          524,
          152,
          318,
          225,
          56,
          1583,
          206,
          1280,
          1759,
          1962,
          1189,
          568,
          76,
          624,
          561,
          317,
          110,
          374,
          123,
          302,
          142,
          686,
          430,
          24,
          130,
          894,
          367,
          168,
          201,
          83,
          134,
          677,
          127,
          430,
          251,
          332,
          1316,
          15,
          438,
          20,
          48,
          35,
          587,
          995,
          485,
          268,
          1282,
          31,
          79,
          1469,
          115,
          709,
          389,
          69,
          42,
          219,
          35,
          150,
          174,
          39,
          34,
          58,
          363,
          178,
          112,
          48,
          535,
          96,
          630,
          122,
          163,
          378,
          422,
          142,
          59,
          127,
          99,
          64,
          105,
          308,
          78,
          66,
          15,
          358,
          355,
          19,
          233,
          1406,
          333,
          25,
          96,
          381,
          251,
          125,
          176,
          598,
          238,
          19,
          172,
          134,
          67,
          50,
          103,
          99,
          344,
          139,
          211,
          293,
          217,
          701,
          133,
          371,
          508,
          243,
          58,
          249,
          52,
          114,
          473,
          447,
          65,
          357,
          202,
          59,
          42,
          239,
          275,
          843,
          111,
          91,
          100,
          98,
          150,
          93,
          118,
          18,
          194,
          24,
          356,
          39,
          93,
          70,
          76,
          1129,
          78,
          294,
          49,
          288,
          106,
          105,
          1103,
          897,
          103,
          108,
          83,
          37,
          190,
          51,
          38,
          93,
          503,
          879,
          407,
          626,
          274,
          70,
          56,
          240,
          114,
          65,
          73,
          30,
          767,
          469,
          25,
          384,
          336,
          94,
          61,
          108,
          148,
          91,
          94,
          52,
          67,
          106,
          70,
          29,
          1072,
          17,
          673,
          32,
          738,
          277,
          137,
          41,
          309,
          825,
          99,
          120,
          87,
          251,
          343,
          63,
          695,
          23,
          48,
          358,
          46,
          138,
          256,
          70,
          635,
          65,
          108,
          82,
          164,
          15,
          974,
          15,
          724,
          92,
          57,
          91,
          66,
          20,
          1660,
          1719,
          146,
          75,
          50,
          271,
          70,
          30,
          166,
          16,
          25,
          1675,
          183,
          176,
          32,
          3049,
          673,
          58,
          22,
          775,
          53,
          384,
          32,
          1190,
          24,
          94,
          126,
          321,
          531,
          1095,
          789,
          96,
          27,
          153,
          832,
          578,
          345,
          281,
          830,
          62,
          193,
          120,
          91,
          32,
          39,
          850,
          41,
          684,
          382,
          1089,
          275,
          184,
          47,
          109,
          1151,
          49,
          552,
          108,
          180,
          185,
          215,
          30,
          54,
          416,
          322,
          556,
          77,
          942,
          43,
          33,
          473,
          40,
          105,
          494,
          189,
          18,
          76,
          28,
          740,
          109,
          106,
          50,
          93,
          122,
          34,
          756,
          710,
          99,
          39,
          583,
          170,
          97,
          68,
          82,
          743,
          726,
          1408,
          107,
          203,
          35,
          897,
          40,
          73,
          130,
          115,
          141,
          97,
          32,
          43,
          98,
          431,
          46,
          45,
          24,
          254,
          435,
          77,
          161,
          39,
          26,
          191,
          48
         ],
         "xaxis": "x",
         "yaxis": "y"
        }
       ],
       "layout": {
        "barmode": "relative",
        "legend": {
         "tracegroupgap": 0
        },
        "template": {
         "data": {
          "bar": [
           {
            "error_x": {
             "color": "#2a3f5f"
            },
            "error_y": {
             "color": "#2a3f5f"
            },
            "marker": {
             "line": {
              "color": "#E5ECF6",
              "width": 0.5
             },
             "pattern": {
              "fillmode": "overlay",
              "size": 10,
              "solidity": 0.2
             }
            },
            "type": "bar"
           }
          ],
          "barpolar": [
           {
            "marker": {
             "line": {
              "color": "#E5ECF6",
              "width": 0.5
             },
             "pattern": {
              "fillmode": "overlay",
              "size": 10,
              "solidity": 0.2
             }
            },
            "type": "barpolar"
           }
          ],
          "carpet": [
           {
            "aaxis": {
             "endlinecolor": "#2a3f5f",
             "gridcolor": "white",
             "linecolor": "white",
             "minorgridcolor": "white",
             "startlinecolor": "#2a3f5f"
            },
            "baxis": {
             "endlinecolor": "#2a3f5f",
             "gridcolor": "white",
             "linecolor": "white",
             "minorgridcolor": "white",
             "startlinecolor": "#2a3f5f"
            },
            "type": "carpet"
           }
          ],
          "choropleth": [
           {
            "colorbar": {
             "outlinewidth": 0,
             "ticks": ""
            },
            "type": "choropleth"
           }
          ],
          "contour": [
           {
            "colorbar": {
             "outlinewidth": 0,
             "ticks": ""
            },
            "colorscale": [
             [
              0,
              "#0d0887"
             ],
             [
              0.1111111111111111,
              "#46039f"
             ],
             [
              0.2222222222222222,
              "#7201a8"
             ],
             [
              0.3333333333333333,
              "#9c179e"
             ],
             [
              0.4444444444444444,
              "#bd3786"
             ],
             [
              0.5555555555555556,
              "#d8576b"
             ],
             [
              0.6666666666666666,
              "#ed7953"
             ],
             [
              0.7777777777777778,
              "#fb9f3a"
             ],
             [
              0.8888888888888888,
              "#fdca26"
             ],
             [
              1,
              "#f0f921"
             ]
            ],
            "type": "contour"
           }
          ],
          "contourcarpet": [
           {
            "colorbar": {
             "outlinewidth": 0,
             "ticks": ""
            },
            "type": "contourcarpet"
           }
          ],
          "heatmap": [
           {
            "colorbar": {
             "outlinewidth": 0,
             "ticks": ""
            },
            "colorscale": [
             [
              0,
              "#0d0887"
             ],
             [
              0.1111111111111111,
              "#46039f"
             ],
             [
              0.2222222222222222,
              "#7201a8"
             ],
             [
              0.3333333333333333,
              "#9c179e"
             ],
             [
              0.4444444444444444,
              "#bd3786"
             ],
             [
              0.5555555555555556,
              "#d8576b"
             ],
             [
              0.6666666666666666,
              "#ed7953"
             ],
             [
              0.7777777777777778,
              "#fb9f3a"
             ],
             [
              0.8888888888888888,
              "#fdca26"
             ],
             [
              1,
              "#f0f921"
             ]
            ],
            "type": "heatmap"
           }
          ],
          "heatmapgl": [
           {
            "colorbar": {
             "outlinewidth": 0,
             "ticks": ""
            },
            "colorscale": [
             [
              0,
              "#0d0887"
             ],
             [
              0.1111111111111111,
              "#46039f"
             ],
             [
              0.2222222222222222,
              "#7201a8"
             ],
             [
              0.3333333333333333,
              "#9c179e"
             ],
             [
              0.4444444444444444,
              "#bd3786"
             ],
             [
              0.5555555555555556,
              "#d8576b"
             ],
             [
              0.6666666666666666,
              "#ed7953"
             ],
             [
              0.7777777777777778,
              "#fb9f3a"
             ],
             [
              0.8888888888888888,
              "#fdca26"
             ],
             [
              1,
              "#f0f921"
             ]
            ],
            "type": "heatmapgl"
           }
          ],
          "histogram": [
           {
            "marker": {
             "pattern": {
              "fillmode": "overlay",
              "size": 10,
              "solidity": 0.2
             }
            },
            "type": "histogram"
           }
          ],
          "histogram2d": [
           {
            "colorbar": {
             "outlinewidth": 0,
             "ticks": ""
            },
            "colorscale": [
             [
              0,
              "#0d0887"
             ],
             [
              0.1111111111111111,
              "#46039f"
             ],
             [
              0.2222222222222222,
              "#7201a8"
             ],
             [
              0.3333333333333333,
              "#9c179e"
             ],
             [
              0.4444444444444444,
              "#bd3786"
             ],
             [
              0.5555555555555556,
              "#d8576b"
             ],
             [
              0.6666666666666666,
              "#ed7953"
             ],
             [
              0.7777777777777778,
              "#fb9f3a"
             ],
             [
              0.8888888888888888,
              "#fdca26"
             ],
             [
              1,
              "#f0f921"
             ]
            ],
            "type": "histogram2d"
           }
          ],
          "histogram2dcontour": [
           {
            "colorbar": {
             "outlinewidth": 0,
             "ticks": ""
            },
            "colorscale": [
             [
              0,
              "#0d0887"
             ],
             [
              0.1111111111111111,
              "#46039f"
             ],
             [
              0.2222222222222222,
              "#7201a8"
             ],
             [
              0.3333333333333333,
              "#9c179e"
             ],
             [
              0.4444444444444444,
              "#bd3786"
             ],
             [
              0.5555555555555556,
              "#d8576b"
             ],
             [
              0.6666666666666666,
              "#ed7953"
             ],
             [
              0.7777777777777778,
              "#fb9f3a"
             ],
             [
              0.8888888888888888,
              "#fdca26"
             ],
             [
              1,
              "#f0f921"
             ]
            ],
            "type": "histogram2dcontour"
           }
          ],
          "mesh3d": [
           {
            "colorbar": {
             "outlinewidth": 0,
             "ticks": ""
            },
            "type": "mesh3d"
           }
          ],
          "parcoords": [
           {
            "line": {
             "colorbar": {
              "outlinewidth": 0,
              "ticks": ""
             }
            },
            "type": "parcoords"
           }
          ],
          "pie": [
           {
            "automargin": true,
            "type": "pie"
           }
          ],
          "scatter": [
           {
            "fillpattern": {
             "fillmode": "overlay",
             "size": 10,
             "solidity": 0.2
            },
            "type": "scatter"
           }
          ],
          "scatter3d": [
           {
            "line": {
             "colorbar": {
              "outlinewidth": 0,
              "ticks": ""
             }
            },
            "marker": {
             "colorbar": {
              "outlinewidth": 0,
              "ticks": ""
             }
            },
            "type": "scatter3d"
           }
          ],
          "scattercarpet": [
           {
            "marker": {
             "colorbar": {
              "outlinewidth": 0,
              "ticks": ""
             }
            },
            "type": "scattercarpet"
           }
          ],
          "scattergeo": [
           {
            "marker": {
             "colorbar": {
              "outlinewidth": 0,
              "ticks": ""
             }
            },
            "type": "scattergeo"
           }
          ],
          "scattergl": [
           {
            "marker": {
             "colorbar": {
              "outlinewidth": 0,
              "ticks": ""
             }
            },
            "type": "scattergl"
           }
          ],
          "scattermapbox": [
           {
            "marker": {
             "colorbar": {
              "outlinewidth": 0,
              "ticks": ""
             }
            },
            "type": "scattermapbox"
           }
          ],
          "scatterpolar": [
           {
            "marker": {
             "colorbar": {
              "outlinewidth": 0,
              "ticks": ""
             }
            },
            "type": "scatterpolar"
           }
          ],
          "scatterpolargl": [
           {
            "marker": {
             "colorbar": {
              "outlinewidth": 0,
              "ticks": ""
             }
            },
            "type": "scatterpolargl"
           }
          ],
          "scatterternary": [
           {
            "marker": {
             "colorbar": {
              "outlinewidth": 0,
              "ticks": ""
             }
            },
            "type": "scatterternary"
           }
          ],
          "surface": [
           {
            "colorbar": {
             "outlinewidth": 0,
             "ticks": ""
            },
            "colorscale": [
             [
              0,
              "#0d0887"
             ],
             [
              0.1111111111111111,
              "#46039f"
             ],
             [
              0.2222222222222222,
              "#7201a8"
             ],
             [
              0.3333333333333333,
              "#9c179e"
             ],
             [
              0.4444444444444444,
              "#bd3786"
             ],
             [
              0.5555555555555556,
              "#d8576b"
             ],
             [
              0.6666666666666666,
              "#ed7953"
             ],
             [
              0.7777777777777778,
              "#fb9f3a"
             ],
             [
              0.8888888888888888,
              "#fdca26"
             ],
             [
              1,
              "#f0f921"
             ]
            ],
            "type": "surface"
           }
          ],
          "table": [
           {
            "cells": {
             "fill": {
              "color": "#EBF0F8"
             },
             "line": {
              "color": "white"
             }
            },
            "header": {
             "fill": {
              "color": "#C8D4E3"
             },
             "line": {
              "color": "white"
             }
            },
            "type": "table"
           }
          ]
         },
         "layout": {
          "annotationdefaults": {
           "arrowcolor": "#2a3f5f",
           "arrowhead": 0,
           "arrowwidth": 1
          },
          "autotypenumbers": "strict",
          "coloraxis": {
           "colorbar": {
            "outlinewidth": 0,
            "ticks": ""
           }
          },
          "colorscale": {
           "diverging": [
            [
             0,
             "#8e0152"
            ],
            [
             0.1,
             "#c51b7d"
            ],
            [
             0.2,
             "#de77ae"
            ],
            [
             0.3,
             "#f1b6da"
            ],
            [
             0.4,
             "#fde0ef"
            ],
            [
             0.5,
             "#f7f7f7"
            ],
            [
             0.6,
             "#e6f5d0"
            ],
            [
             0.7,
             "#b8e186"
            ],
            [
             0.8,
             "#7fbc41"
            ],
            [
             0.9,
             "#4d9221"
            ],
            [
             1,
             "#276419"
            ]
           ],
           "sequential": [
            [
             0,
             "#0d0887"
            ],
            [
             0.1111111111111111,
             "#46039f"
            ],
            [
             0.2222222222222222,
             "#7201a8"
            ],
            [
             0.3333333333333333,
             "#9c179e"
            ],
            [
             0.4444444444444444,
             "#bd3786"
            ],
            [
             0.5555555555555556,
             "#d8576b"
            ],
            [
             0.6666666666666666,
             "#ed7953"
            ],
            [
             0.7777777777777778,
             "#fb9f3a"
            ],
            [
             0.8888888888888888,
             "#fdca26"
            ],
            [
             1,
             "#f0f921"
            ]
           ],
           "sequentialminus": [
            [
             0,
             "#0d0887"
            ],
            [
             0.1111111111111111,
             "#46039f"
            ],
            [
             0.2222222222222222,
             "#7201a8"
            ],
            [
             0.3333333333333333,
             "#9c179e"
            ],
            [
             0.4444444444444444,
             "#bd3786"
            ],
            [
             0.5555555555555556,
             "#d8576b"
            ],
            [
             0.6666666666666666,
             "#ed7953"
            ],
            [
             0.7777777777777778,
             "#fb9f3a"
            ],
            [
             0.8888888888888888,
             "#fdca26"
            ],
            [
             1,
             "#f0f921"
            ]
           ]
          },
          "colorway": [
           "#636efa",
           "#EF553B",
           "#00cc96",
           "#ab63fa",
           "#FFA15A",
           "#19d3f3",
           "#FF6692",
           "#B6E880",
           "#FF97FF",
           "#FECB52"
          ],
          "font": {
           "color": "#2a3f5f"
          },
          "geo": {
           "bgcolor": "white",
           "lakecolor": "white",
           "landcolor": "#E5ECF6",
           "showlakes": true,
           "showland": true,
           "subunitcolor": "white"
          },
          "hoverlabel": {
           "align": "left"
          },
          "hovermode": "closest",
          "mapbox": {
           "style": "light"
          },
          "paper_bgcolor": "white",
          "plot_bgcolor": "#E5ECF6",
          "polar": {
           "angularaxis": {
            "gridcolor": "white",
            "linecolor": "white",
            "ticks": ""
           },
           "bgcolor": "#E5ECF6",
           "radialaxis": {
            "gridcolor": "white",
            "linecolor": "white",
            "ticks": ""
           }
          },
          "scene": {
           "xaxis": {
            "backgroundcolor": "#E5ECF6",
            "gridcolor": "white",
            "gridwidth": 2,
            "linecolor": "white",
            "showbackground": true,
            "ticks": "",
            "zerolinecolor": "white"
           },
           "yaxis": {
            "backgroundcolor": "#E5ECF6",
            "gridcolor": "white",
            "gridwidth": 2,
            "linecolor": "white",
            "showbackground": true,
            "ticks": "",
            "zerolinecolor": "white"
           },
           "zaxis": {
            "backgroundcolor": "#E5ECF6",
            "gridcolor": "white",
            "gridwidth": 2,
            "linecolor": "white",
            "showbackground": true,
            "ticks": "",
            "zerolinecolor": "white"
           }
          },
          "shapedefaults": {
           "line": {
            "color": "#2a3f5f"
           }
          },
          "ternary": {
           "aaxis": {
            "gridcolor": "white",
            "linecolor": "white",
            "ticks": ""
           },
           "baxis": {
            "gridcolor": "white",
            "linecolor": "white",
            "ticks": ""
           },
           "bgcolor": "#E5ECF6",
           "caxis": {
            "gridcolor": "white",
            "linecolor": "white",
            "ticks": ""
           }
          },
          "title": {
           "x": 0.05
          },
          "xaxis": {
           "automargin": true,
           "gridcolor": "white",
           "linecolor": "white",
           "ticks": "",
           "title": {
            "standoff": 15
           },
           "zerolinecolor": "white",
           "zerolinewidth": 2
          },
          "yaxis": {
           "automargin": true,
           "gridcolor": "white",
           "linecolor": "white",
           "ticks": "",
           "title": {
            "standoff": 15
           },
           "zerolinecolor": "white",
           "zerolinewidth": 2
          }
         }
        },
        "title": {
         "text": "Histogram of Areas of Cellpose predicted labels"
        },
        "xaxis": {
         "anchor": "y",
         "domain": [
          0,
          1
         ],
         "title": {
          "text": "Area"
         }
        },
        "yaxis": {
         "anchor": "x",
         "domain": [
          0,
          1
         ],
         "title": {
          "text": "count"
         }
        }
       }
      }
     },
     "metadata": {},
     "output_type": "display_data"
    }
   ],
   "source": [
    "# Explore nuclei predicted labels by Cellpose to make an informed decision on the size-based exclusion of the predicted labels\n",
    "props = regionprops_table(label_image=masks, intensity_image=processed_nuclei, properties=[\"label\", \"intensity_mean\", \"equivalent_diameter_area\", \"area\"])\n",
    "\n",
    "df = pd.DataFrame(props)\n",
    "\n",
    "df[df['label']==153]\n",
    "\n",
    "# Create histogram\n",
    "fig = px.histogram(df, x=\"area\", nbins=300, labels={\"area\": \"Area\"}, title=\"Histogram of Areas of Cellpose predicted labels\")\n",
    "\n",
    "# Show plot\n",
    "fig.show()"
   ]
  }
 ],
 "metadata": {
  "kernelspec": {
   "display_name": "microglia_GPU",
   "language": "python",
   "name": "python3"
  },
  "language_info": {
   "codemirror_mode": {
    "name": "ipython",
    "version": 3
   },
   "file_extension": ".py",
   "mimetype": "text/x-python",
   "name": "python",
   "nbconvert_exporter": "python",
   "pygments_lexer": "ipython3",
   "version": "3.9.19"
  }
 },
 "nbformat": 4,
 "nbformat_minor": 2
}
