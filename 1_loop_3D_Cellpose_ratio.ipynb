{
 "cells": [
  {
   "cell_type": "markdown",
   "metadata": {},
   "source": [
    "<h3>Nuclear segmentation of 3D stacks of intestinal organoids, nuclei labeling using Cellpose. Measurement of YAP signal in the nuclei and simulated ring cytoplasm around nuclei</h3>"
   ]
  },
  {
   "cell_type": "code",
   "execution_count": 1,
   "metadata": {},
   "outputs": [
    {
     "data": {
      "text/plain": [
       "<NVIDIA GeForce RTX 4090 on Platform: NVIDIA CUDA (1 refs)>"
      ]
     },
     "execution_count": 1,
     "metadata": {},
     "output_type": "execute_result"
    }
   ],
   "source": [
    "from utils import extract_scaling_metadata\n",
    "import os\n",
    "from tqdm import tqdm\n",
    "from pathlib import Path\n",
    "import czifile\n",
    "import numpy as np\n",
    "import skimage\n",
    "from skimage import measure, exposure\n",
    "from skimage.measure import regionprops_table\n",
    "import pandas as pd\n",
    "import pyclesperanto_prototype as cle\n",
    "import plotly.express as px\n",
    "from cellpose import models\n",
    "\n",
    "cle.select_device(\"RTX\")"
   ]
  },
  {
   "cell_type": "code",
   "execution_count": 2,
   "metadata": {},
   "outputs": [
    {
     "data": {
      "text/plain": [
       "117"
      ]
     },
     "execution_count": 2,
     "metadata": {},
     "output_type": "execute_result"
    }
   ],
   "source": [
    "directory_path = Path(\"./raw_data/\")\n",
    "images = []\n",
    "\n",
    "# Iterate through the lsm files in the directory\n",
    "for file_path in directory_path.glob(\"*.czi\"):\n",
    "    # Remove Control and Isotype stainings from the analysis\n",
    "    if \"Control\" and \"Isotype\" not in file_path.stem:\n",
    "        images.append(str(file_path))\n",
    "    \n",
    "len(images)"
   ]
  },
  {
   "cell_type": "code",
   "execution_count": 3,
   "metadata": {},
   "outputs": [
    {
     "name": "stderr",
     "output_type": "stream",
     "text": [
      "100%|██████████| 117/117 [53:08<00:00, 27.26s/it]\n"
     ]
    }
   ],
   "source": [
    "# Initialize an empty list to store per image dataframe\n",
    "dataframes = []\n",
    "\n",
    "# Initialize the Cellpose model\n",
    "model = models.Cellpose(gpu=True, model_type='nuclei')\n",
    "\n",
    "for image in tqdm(images):\n",
    "\n",
    "    # Read path storing raw image and extract filename\n",
    "    file_path = Path(image)\n",
    "    filename = file_path.stem\n",
    "\n",
    "    # Read the image file and remove singleton dimensions\n",
    "    img = czifile.imread(image)\n",
    "    img = img.squeeze()\n",
    "\n",
    "    # Extract experiment, mouse, treatment and replica ids\n",
    "    experiment_id = filename.split(\" \")[0]\n",
    "    mouse_id = filename.split(\" \")[1]\n",
    "    treatment_id = filename.split(\" \")[2]\n",
    "    replica_id = filename.split(\" \")[-1]\n",
    "\n",
    "    # Image size reduction to improve processing times (slicing, not lossless compression)\n",
    "    slicing_factor = None # Use 2 or 4 for compression (None for lossless)\n",
    "\n",
    "    # Extract the stack containing the UEA-1 (0), YAP (1), nuclei (2) and BCAT (3) channels.\n",
    "    uea1_stack = img[0, :, ::slicing_factor, ::slicing_factor]\n",
    "    yap_stack = img[1, :, ::slicing_factor, ::slicing_factor]\n",
    "    nuclei_stack = img[2, :, ::slicing_factor, ::slicing_factor]\n",
    "    bcat_stack = img[3, :, ::slicing_factor, ::slicing_factor]\n",
    "\n",
    "    # Extract x,y,z scaling from .czi file metadata in order to make data isotropic\n",
    "    scaling_x_um, scaling_y_um, scaling_z_um = extract_scaling_metadata(file_path)\n",
    "\n",
    "    # Resample nuclei stack and remove noise prior to Cellpose prediction\n",
    "    resampled_nuclei = cle.scale(nuclei_stack, factor_x=scaling_x_um, factor_y=scaling_y_um, factor_z=scaling_z_um, auto_size=True)\n",
    "    background_subtracted = cle.top_hat_box(resampled_nuclei, radius_x=5, radius_y=5, radius_z=5)\n",
    "\n",
    "    # Pull OCL arrays from GPU memory and transform into numpy arrays to be fed into Cellpose\n",
    "    processed_nuclei = cle.pull(background_subtracted)\n",
    "    del background_subtracted\n",
    "\n",
    "    # Apply Contrast Stretching to improve Cellpose detection of overly bright nuclei\n",
    "    p2, p98 = np.percentile(processed_nuclei, (2, 98)) \n",
    "    nuclei_rescaled = exposure.rescale_intensity(processed_nuclei, in_range=(p2, p98))\n",
    "\n",
    "    # Run Cellpose\n",
    "    masks, flows, styles, diams = model.eval(nuclei_rescaled, diameter=10, channels=[0, 0], do_3D=True)\n",
    "\n",
    "    # Filter out merged nuclei labels and artifacts based on size distribution\n",
    "\n",
    "    # Create a destination array with the same shape as the nuclei labels (masks array)\n",
    "    destination = cle.create_like(masks)\n",
    "\n",
    "    # Remove labels smaller than 90 pixels (artifacts)\n",
    "    filtered_nuclei_gpu = cle.exclude_small_labels(masks, destination, 90)\n",
    "\n",
    "    # Remove labels larger than 500 pixels (merged nuclei)\n",
    "    filtered_nuclei_gpu = cle.exclude_large_labels(filtered_nuclei_gpu, destination, 500)\n",
    "\n",
    "    # Pull filtered_nuclei from GPU\n",
    "    filtered_nuclei = cle.pull(filtered_nuclei_gpu).astype(np.uint16)\n",
    "\n",
    "    # Dilate labels\n",
    "    dilated_nuclei_gpu = cle.dilate_labels(filtered_nuclei, radius=2)\n",
    "    dilated_nuclei = cle.pull(dilated_nuclei_gpu)\n",
    "\n",
    "    # Simulate cytoplasm labels by building a sphere surrounding the nuclei labels\n",
    "\n",
    "    # Create a copy of dilated_nuclei to modify\n",
    "    cytoplasm = dilated_nuclei.copy()\n",
    "\n",
    "    # Get unique labels (excluding 0 which is background)\n",
    "    unique_labels = np.unique(filtered_nuclei)\n",
    "    unique_labels = unique_labels[unique_labels != 0]\n",
    "\n",
    "    # Iterate over each label and remove the corresponding pixels from dilated_nuclei\n",
    "    for label in unique_labels:\n",
    "        # Create a mask for the current label in filtered_nuclei\n",
    "        mask = (filtered_nuclei == label)\n",
    "        \n",
    "        # Set corresponding pixels in resulting_nuclei to zero\n",
    "        cytoplasm[mask] = 0\n",
    "\n",
    "    # Resample YAP stack\n",
    "    resampled_yap_gpu = cle.scale(yap_stack, factor_x=scaling_x_um, factor_y=scaling_y_um, factor_z=scaling_z_um, auto_size=True)\n",
    "    # Pull YAP OCL array from GPU to feed into regionprops as intensity_image afterwards\n",
    "    resampled_yap = cle.pull(resampled_yap_gpu)\n",
    "\n",
    "    #Extract regionprops from filtered nuclei and generated-cytoplasm labels\n",
    "    props_nuclei = regionprops_table(label_image=filtered_nuclei, intensity_image=resampled_yap, properties=[\"label\", \"intensity_mean\", \"area\"])\n",
    "    props_cytoplasm = regionprops_table(label_image=cytoplasm, intensity_image=resampled_yap, properties=[\"label\", \"intensity_mean\", \"area\"])\n",
    "\n",
    "\n",
    "    # Transform regionprops_table into a Dataframe to process it using Pandas\n",
    "    df_nuclei = pd.DataFrame(props_nuclei)\n",
    "    df_cytoplasm = pd.DataFrame(props_cytoplasm)\n",
    "\n",
    "    # Renaming columns\n",
    "    df_nuclei.rename(columns={'intensity_mean': 'intensity_mean_nuclei', 'area': 'area_nuclei'}, inplace=True)\n",
    "    df_cytoplasm.rename(columns={'intensity_mean': 'intensity_mean_cyto', 'area': 'area_cyto'}, inplace=True)\n",
    "\n",
    "    # Merge dataframes on label\n",
    "    merged_df = pd.merge(df_nuclei, df_cytoplasm, on='label')\n",
    "\n",
    "    # Calculate nuclei/cytoplasm ratio of mean intensity of YAP signal\n",
    "    merged_df['nuclei_cyto_ratio'] = merged_df['intensity_mean_nuclei'] / merged_df['intensity_mean_cyto']\n",
    "\n",
    "    # Add extracted ID info to the dataframe\n",
    "    merged_df.insert(0, 'experiment_id', experiment_id)\n",
    "    merged_df.insert(1, 'mouse_id', mouse_id)\n",
    "    merged_df.insert(2, 'treatment_id', treatment_id)\n",
    "    merged_df.insert(3, 'replica_id', replica_id)\n",
    "\n",
    "    dataframes.append(merged_df)\n",
    "\n"
   ]
  },
  {
   "cell_type": "code",
   "execution_count": 4,
   "metadata": {},
   "outputs": [
    {
     "name": "stdout",
     "output_type": "stream",
     "text": [
      "'results' folder created successfully.\n"
     ]
    }
   ],
   "source": [
    "# Concatenate list of dataframes into a single final df\n",
    "final_df = pd.concat(dataframes)\n",
    "\n",
    "# Create a 'results' folder in the root directory\n",
    "results_folder = 'results'\n",
    "\n",
    "try:\n",
    "    os.makedirs(results_folder)\n",
    "    print(f\"'{results_folder}' folder created successfully.\")\n",
    "except FileExistsError:\n",
    "    print(f\"'{results_folder}' folder already exists.\")\n",
    "\n",
    "# Save the df containing per_label results into a CSV file\n",
    "final_df.to_csv('./results/per_label_results.csv')"
   ]
  },
  {
   "cell_type": "code",
   "execution_count": 11,
   "metadata": {},
   "outputs": [],
   "source": [
    "# Grouping by the specified columns and calculating the mean of intensity_mean and area_filled\n",
    "grouped_df = final_df.groupby(['experiment_id', 'mouse_id', 'treatment_id', 'replica_id']).agg({\n",
    "    'intensity_mean_nuclei': 'mean',\n",
    "    'area_nuclei': 'mean',\n",
    "    'intensity_mean_cyto': 'mean',\n",
    "    'area_cyto': 'mean',\n",
    "    'nuclei_cyto_ratio': 'mean'\n",
    "}).reset_index()\n",
    "\n",
    "grouped_df.to_csv('./results/average_nuclear_cyto_intensity.csv')"
   ]
  },
  {
   "cell_type": "code",
   "execution_count": 12,
   "metadata": {},
   "outputs": [
    {
     "data": {
      "text/html": [
       "<div>\n",
       "<style scoped>\n",
       "    .dataframe tbody tr th:only-of-type {\n",
       "        vertical-align: middle;\n",
       "    }\n",
       "\n",
       "    .dataframe tbody tr th {\n",
       "        vertical-align: top;\n",
       "    }\n",
       "\n",
       "    .dataframe thead th {\n",
       "        text-align: right;\n",
       "    }\n",
       "</style>\n",
       "<table border=\"1\" class=\"dataframe\">\n",
       "  <thead>\n",
       "    <tr style=\"text-align: right;\">\n",
       "      <th></th>\n",
       "      <th>experiment_id</th>\n",
       "      <th>mouse_id</th>\n",
       "      <th>treatment_id</th>\n",
       "      <th>replica_id</th>\n",
       "      <th>intensity_mean_nuclei</th>\n",
       "      <th>area_nuclei</th>\n",
       "      <th>intensity_mean_cyto</th>\n",
       "      <th>area_cyto</th>\n",
       "      <th>nuclei_cyto_ratio</th>\n",
       "    </tr>\n",
       "  </thead>\n",
       "  <tbody>\n",
       "    <tr>\n",
       "      <th>0</th>\n",
       "      <td>RY20240607</td>\n",
       "      <td>4541</td>\n",
       "      <td>BCM</td>\n",
       "      <td>1</td>\n",
       "      <td>23.084674</td>\n",
       "      <td>277.590613</td>\n",
       "      <td>18.244725</td>\n",
       "      <td>663.318123</td>\n",
       "      <td>1.265822</td>\n",
       "    </tr>\n",
       "    <tr>\n",
       "      <th>1</th>\n",
       "      <td>RY20240607</td>\n",
       "      <td>4541</td>\n",
       "      <td>BCM</td>\n",
       "      <td>2</td>\n",
       "      <td>19.472734</td>\n",
       "      <td>235.555950</td>\n",
       "      <td>18.681109</td>\n",
       "      <td>635.859680</td>\n",
       "      <td>1.073264</td>\n",
       "    </tr>\n",
       "    <tr>\n",
       "      <th>2</th>\n",
       "      <td>RY20240607</td>\n",
       "      <td>4541</td>\n",
       "      <td>BCM</td>\n",
       "      <td>3</td>\n",
       "      <td>16.287965</td>\n",
       "      <td>258.058480</td>\n",
       "      <td>15.316726</td>\n",
       "      <td>705.067251</td>\n",
       "      <td>1.118118</td>\n",
       "    </tr>\n",
       "    <tr>\n",
       "      <th>3</th>\n",
       "      <td>RY20240607</td>\n",
       "      <td>4541</td>\n",
       "      <td>BCM</td>\n",
       "      <td>4</td>\n",
       "      <td>17.615791</td>\n",
       "      <td>246.101266</td>\n",
       "      <td>16.769120</td>\n",
       "      <td>601.620253</td>\n",
       "      <td>1.242694</td>\n",
       "    </tr>\n",
       "    <tr>\n",
       "      <th>4</th>\n",
       "      <td>RY20240607</td>\n",
       "      <td>4541</td>\n",
       "      <td>BCM</td>\n",
       "      <td>5</td>\n",
       "      <td>21.025104</td>\n",
       "      <td>247.781818</td>\n",
       "      <td>18.165439</td>\n",
       "      <td>574.047934</td>\n",
       "      <td>1.175974</td>\n",
       "    </tr>\n",
       "    <tr>\n",
       "      <th>...</th>\n",
       "      <td>...</td>\n",
       "      <td>...</td>\n",
       "      <td>...</td>\n",
       "      <td>...</td>\n",
       "      <td>...</td>\n",
       "      <td>...</td>\n",
       "      <td>...</td>\n",
       "      <td>...</td>\n",
       "      <td>...</td>\n",
       "    </tr>\n",
       "    <tr>\n",
       "      <th>109</th>\n",
       "      <td>RY20240619</td>\n",
       "      <td>4544</td>\n",
       "      <td>PGE2_60min</td>\n",
       "      <td>2</td>\n",
       "      <td>32.546492</td>\n",
       "      <td>290.178771</td>\n",
       "      <td>24.159847</td>\n",
       "      <td>688.685289</td>\n",
       "      <td>1.393834</td>\n",
       "    </tr>\n",
       "    <tr>\n",
       "      <th>110</th>\n",
       "      <td>RY20240619</td>\n",
       "      <td>4544</td>\n",
       "      <td>PGE2_60min</td>\n",
       "      <td>3</td>\n",
       "      <td>31.838044</td>\n",
       "      <td>264.732346</td>\n",
       "      <td>27.387265</td>\n",
       "      <td>659.861048</td>\n",
       "      <td>1.200320</td>\n",
       "    </tr>\n",
       "    <tr>\n",
       "      <th>111</th>\n",
       "      <td>RY20240619</td>\n",
       "      <td>4544</td>\n",
       "      <td>PGE2_60min</td>\n",
       "      <td>4</td>\n",
       "      <td>26.644534</td>\n",
       "      <td>243.425234</td>\n",
       "      <td>25.208600</td>\n",
       "      <td>627.757009</td>\n",
       "      <td>1.058343</td>\n",
       "    </tr>\n",
       "    <tr>\n",
       "      <th>112</th>\n",
       "      <td>RY20240619</td>\n",
       "      <td>4544</td>\n",
       "      <td>PGE2_60min</td>\n",
       "      <td>5</td>\n",
       "      <td>34.421425</td>\n",
       "      <td>266.374833</td>\n",
       "      <td>28.166739</td>\n",
       "      <td>631.215529</td>\n",
       "      <td>1.260916</td>\n",
       "    </tr>\n",
       "    <tr>\n",
       "      <th>113</th>\n",
       "      <td>RY20240619</td>\n",
       "      <td>4544</td>\n",
       "      <td>PGE2_60min</td>\n",
       "      <td>6</td>\n",
       "      <td>23.510291</td>\n",
       "      <td>274.478583</td>\n",
       "      <td>18.430220</td>\n",
       "      <td>661.688633</td>\n",
       "      <td>1.285247</td>\n",
       "    </tr>\n",
       "  </tbody>\n",
       "</table>\n",
       "<p>114 rows × 9 columns</p>\n",
       "</div>"
      ],
      "text/plain": [
       "    experiment_id mouse_id treatment_id replica_id  intensity_mean_nuclei  \\\n",
       "0      RY20240607     4541          BCM          1              23.084674   \n",
       "1      RY20240607     4541          BCM          2              19.472734   \n",
       "2      RY20240607     4541          BCM          3              16.287965   \n",
       "3      RY20240607     4541          BCM          4              17.615791   \n",
       "4      RY20240607     4541          BCM          5              21.025104   \n",
       "..            ...      ...          ...        ...                    ...   \n",
       "109    RY20240619     4544   PGE2_60min          2              32.546492   \n",
       "110    RY20240619     4544   PGE2_60min          3              31.838044   \n",
       "111    RY20240619     4544   PGE2_60min          4              26.644534   \n",
       "112    RY20240619     4544   PGE2_60min          5              34.421425   \n",
       "113    RY20240619     4544   PGE2_60min          6              23.510291   \n",
       "\n",
       "     area_nuclei  intensity_mean_cyto   area_cyto  nuclei_cyto_ratio  \n",
       "0     277.590613            18.244725  663.318123           1.265822  \n",
       "1     235.555950            18.681109  635.859680           1.073264  \n",
       "2     258.058480            15.316726  705.067251           1.118118  \n",
       "3     246.101266            16.769120  601.620253           1.242694  \n",
       "4     247.781818            18.165439  574.047934           1.175974  \n",
       "..           ...                  ...         ...                ...  \n",
       "109   290.178771            24.159847  688.685289           1.393834  \n",
       "110   264.732346            27.387265  659.861048           1.200320  \n",
       "111   243.425234            25.208600  627.757009           1.058343  \n",
       "112   266.374833            28.166739  631.215529           1.260916  \n",
       "113   274.478583            18.430220  661.688633           1.285247  \n",
       "\n",
       "[114 rows x 9 columns]"
      ]
     },
     "execution_count": 12,
     "metadata": {},
     "output_type": "execute_result"
    }
   ],
   "source": [
    "grouped_df"
   ]
  },
  {
   "cell_type": "code",
   "execution_count": 8,
   "metadata": {},
   "outputs": [
    {
     "data": {
      "application/vnd.plotly.v1+json": {
       "config": {
        "plotlyServerURL": "https://plot.ly"
       },
       "data": [
        {
         "alignmentgroup": "True",
         "boxpoints": "all",
         "customdata": [
          [
           "RY20240607",
           "4541",
           "1"
          ],
          [
           "RY20240607",
           "4541",
           "2"
          ],
          [
           "RY20240607",
           "4541",
           "3"
          ],
          [
           "RY20240607",
           "4541",
           "4"
          ],
          [
           "RY20240607",
           "4541",
           "5"
          ],
          [
           "RY20240607",
           "4541",
           "6"
          ],
          [
           "RY20240608",
           "4543",
           "1"
          ],
          [
           "RY20240608",
           "4543",
           "2"
          ],
          [
           "RY20240608",
           "4543",
           "3"
          ],
          [
           "RY20240608",
           "4543",
           "4"
          ],
          [
           "RY20240608",
           "4543",
           "5"
          ],
          [
           "RY20240608",
           "4543",
           "6"
          ],
          [
           "RY20240611",
           "4544",
           "1"
          ],
          [
           "RY20240611",
           "4544",
           "2"
          ],
          [
           "RY20240611",
           "4544",
           "3"
          ],
          [
           "RY20240611",
           "4544",
           "4"
          ],
          [
           "RY20240611",
           "4544",
           "5"
          ]
         ],
         "hovertemplate": "treatment_id=%{x}<br>intensity_mean_nuclei=%{y}<br>experiment_id=%{customdata[0]}<br>mouse_id=%{customdata[1]}<br>replica_id=%{customdata[2]}<extra></extra>",
         "legendgroup": "BCM",
         "marker": {
          "color": "#636efa"
         },
         "name": "BCM",
         "notched": false,
         "offsetgroup": "BCM",
         "orientation": "v",
         "showlegend": true,
         "type": "box",
         "x": [
          "BCM",
          "BCM",
          "BCM",
          "BCM",
          "BCM",
          "BCM",
          "BCM",
          "BCM",
          "BCM",
          "BCM",
          "BCM",
          "BCM",
          "BCM",
          "BCM",
          "BCM",
          "BCM",
          "BCM"
         ],
         "x0": " ",
         "xaxis": "x",
         "y": [
          23.084674377873483,
          19.472733666905288,
          16.287964664617476,
          17.615791424102923,
          21.025103883211276,
          10.4093560823556,
          17.547493053304738,
          25.136750322397873,
          28.49708969551019,
          27.98642479942365,
          20.22695144256338,
          34.90624909726333,
          29.9877182721891,
          31.23151020238159,
          28.51711468573567,
          15.509502110878627,
          24.903525397600085
         ],
         "y0": " ",
         "yaxis": "y"
        },
        {
         "alignmentgroup": "True",
         "boxpoints": "all",
         "customdata": [
          [
           "RY20240607",
           "4541",
           "1"
          ],
          [
           "RY20240607",
           "4541",
           "2"
          ],
          [
           "RY20240607",
           "4541",
           "3"
          ],
          [
           "RY20240607",
           "4541",
           "4"
          ],
          [
           "RY20240607",
           "4541",
           "5"
          ],
          [
           "RY20240607",
           "4541",
           "6"
          ],
          [
           "RY20240608",
           "4543",
           "1"
          ],
          [
           "RY20240608",
           "4543",
           "2"
          ],
          [
           "RY20240608",
           "4543",
           "3"
          ],
          [
           "RY20240608",
           "4543",
           "4"
          ],
          [
           "RY20240608",
           "4543",
           "5"
          ],
          [
           "RY20240608",
           "4543",
           "6"
          ],
          [
           "RY20240608",
           "4543",
           "7"
          ],
          [
           "RY20240611",
           "4544",
           "1"
          ],
          [
           "RY20240611",
           "4544",
           "2"
          ],
          [
           "RY20240611",
           "4544",
           "3"
          ],
          [
           "RY20240611",
           "4544",
           "4"
          ],
          [
           "RY20240611",
           "4544",
           "5"
          ]
         ],
         "hovertemplate": "treatment_id=%{x}<br>intensity_mean_nuclei=%{y}<br>experiment_id=%{customdata[0]}<br>mouse_id=%{customdata[1]}<br>replica_id=%{customdata[2]}<extra></extra>",
         "legendgroup": "MSN",
         "marker": {
          "color": "#EF553B"
         },
         "name": "MSN",
         "notched": false,
         "offsetgroup": "MSN",
         "orientation": "v",
         "showlegend": true,
         "type": "box",
         "x": [
          "MSN",
          "MSN",
          "MSN",
          "MSN",
          "MSN",
          "MSN",
          "MSN",
          "MSN",
          "MSN",
          "MSN",
          "MSN",
          "MSN",
          "MSN",
          "MSN",
          "MSN",
          "MSN",
          "MSN",
          "MSN"
         ],
         "x0": " ",
         "xaxis": "x",
         "y": [
          22.935786132195165,
          19.911732930235747,
          28.186998728319068,
          39.95058653479094,
          30.162896866299164,
          26.904738329404168,
          28.848306600916374,
          25.6548058539629,
          15.894248827166265,
          22.252053013952548,
          12.89707384268312,
          22.6401740229319,
          32.362098902991384,
          29.261032527491246,
          22.357286231194887,
          26.499780527578324,
          26.0883258367977,
          28.379311617953437
         ],
         "y0": " ",
         "yaxis": "y"
        },
        {
         "alignmentgroup": "True",
         "boxpoints": "all",
         "customdata": [
          [
           "RY20240607",
           "4541",
           "1"
          ],
          [
           "RY20240607",
           "4541",
           "2"
          ],
          [
           "RY20240607",
           "4541",
           "3"
          ],
          [
           "RY20240607",
           "4541",
           "4"
          ],
          [
           "RY20240607",
           "4541",
           "5"
          ],
          [
           "RY20240607",
           "4541",
           "6"
          ],
          [
           "RY20240610",
           "4543",
           "1"
          ],
          [
           "RY20240610",
           "4543",
           "2"
          ],
          [
           "RY20240610",
           "4543",
           "3"
          ],
          [
           "RY20240610",
           "4543",
           "4"
          ],
          [
           "RY20240610",
           "4543",
           "5"
          ],
          [
           "RY20240610",
           "4543",
           "6"
          ],
          [
           "RY20240611",
           "4544",
           "1"
          ],
          [
           "RY20240611",
           "4544",
           "2"
          ],
          [
           "RY20240611",
           "4544",
           "3"
          ],
          [
           "RY20240611",
           "4544",
           "4"
          ],
          [
           "RY20240611",
           "4544",
           "5"
          ]
         ],
         "hovertemplate": "treatment_id=%{x}<br>intensity_mean_nuclei=%{y}<br>experiment_id=%{customdata[0]}<br>mouse_id=%{customdata[1]}<br>replica_id=%{customdata[2]}<extra></extra>",
         "legendgroup": "PGE2",
         "marker": {
          "color": "#00cc96"
         },
         "name": "PGE2",
         "notched": false,
         "offsetgroup": "PGE2",
         "orientation": "v",
         "showlegend": true,
         "type": "box",
         "x": [
          "PGE2",
          "PGE2",
          "PGE2",
          "PGE2",
          "PGE2",
          "PGE2",
          "PGE2",
          "PGE2",
          "PGE2",
          "PGE2",
          "PGE2",
          "PGE2",
          "PGE2",
          "PGE2",
          "PGE2",
          "PGE2",
          "PGE2"
         ],
         "x0": " ",
         "xaxis": "x",
         "y": [
          21.044522988551353,
          17.67510742363346,
          25.087458675704806,
          36.93182846079481,
          22.303012333819677,
          28.433552170699496,
          27.972584325342606,
          23.357980930230074,
          17.54426113443469,
          20.984539713927493,
          20.409517929525002,
          19.645663865806636,
          16.890686707888488,
          30.18262922095439,
          18.921659253302664,
          21.3858042115698,
          7.626203686149265
         ],
         "y0": " ",
         "yaxis": "y"
        },
        {
         "alignmentgroup": "True",
         "boxpoints": "all",
         "customdata": [
          [
           "RY20240610",
           "4543",
           "1"
          ],
          [
           "RY20240610",
           "4543",
           "2"
          ],
          [
           "RY20240610",
           "4543",
           "3"
          ],
          [
           "RY20240610",
           "4543",
           "4"
          ],
          [
           "RY20240610",
           "4543",
           "5"
          ]
         ],
         "hovertemplate": "treatment_id=%{x}<br>intensity_mean_nuclei=%{y}<br>experiment_id=%{customdata[0]}<br>mouse_id=%{customdata[1]}<br>replica_id=%{customdata[2]}<extra></extra>",
         "legendgroup": "dmPGE2",
         "marker": {
          "color": "#ab63fa"
         },
         "name": "dmPGE2",
         "notched": false,
         "offsetgroup": "dmPGE2",
         "orientation": "v",
         "showlegend": true,
         "type": "box",
         "x": [
          "dmPGE2",
          "dmPGE2",
          "dmPGE2",
          "dmPGE2",
          "dmPGE2"
         ],
         "x0": " ",
         "xaxis": "x",
         "y": [
          14.331843739664397,
          25.8001271108314,
          28.753946092734953,
          28.417870531794623,
          26.187579528739054
         ],
         "y0": " ",
         "yaxis": "y"
        },
        {
         "alignmentgroup": "True",
         "boxpoints": "all",
         "customdata": [
          [
           "RY20240611",
           "4541",
           "1"
          ],
          [
           "RY20240611",
           "4541",
           "2"
          ],
          [
           "RY20240611",
           "4541",
           "3"
          ],
          [
           "RY20240611",
           "4541",
           "4"
          ],
          [
           "RY20240612",
           "4541",
           "5"
          ],
          [
           "RY20240612",
           "4541",
           "6"
          ],
          [
           "RY20240612",
           "4543",
           "1"
          ],
          [
           "RY20240612",
           "4543",
           "2"
          ],
          [
           "RY20240612",
           "4543",
           "3"
          ],
          [
           "RY20240613",
           "4543",
           "4"
          ],
          [
           "RY20240613",
           "4543",
           "5"
          ],
          [
           "RY20240613",
           "4543",
           "6"
          ],
          [
           "RY20240618",
           "4544",
           "1"
          ],
          [
           "RY20240618",
           "4544",
           "2"
          ],
          [
           "RY20240618",
           "4544",
           "3"
          ],
          [
           "RY20240618",
           "4544",
           "4"
          ],
          [
           "RY20240618",
           "4544",
           "5"
          ],
          [
           "RY20240618",
           "4544",
           "6"
          ]
         ],
         "hovertemplate": "treatment_id=%{x}<br>intensity_mean_nuclei=%{y}<br>experiment_id=%{customdata[0]}<br>mouse_id=%{customdata[1]}<br>replica_id=%{customdata[2]}<extra></extra>",
         "legendgroup": "BCM_60min",
         "marker": {
          "color": "#FFA15A"
         },
         "name": "BCM_60min",
         "notched": false,
         "offsetgroup": "BCM_60min",
         "orientation": "v",
         "showlegend": true,
         "type": "box",
         "x": [
          "BCM_60min",
          "BCM_60min",
          "BCM_60min",
          "BCM_60min",
          "BCM_60min",
          "BCM_60min",
          "BCM_60min",
          "BCM_60min",
          "BCM_60min",
          "BCM_60min",
          "BCM_60min",
          "BCM_60min",
          "BCM_60min",
          "BCM_60min",
          "BCM_60min",
          "BCM_60min",
          "BCM_60min",
          "BCM_60min"
         ],
         "x0": " ",
         "xaxis": "x",
         "y": [
          24.44422810396617,
          27.51443534477116,
          23.502632085647846,
          40.559421574291974,
          16.73885118420438,
          14.186693013339173,
          34.792029815565705,
          30.420098633422114,
          17.63676922624656,
          33.11585143088421,
          21.99812466239194,
          17.219230334913842,
          29.31603211760521,
          31.3661596189623,
          20.753459425138892,
          27.10773775067467,
          35.73268585204344,
          27.953841141879956
         ],
         "y0": " ",
         "yaxis": "y"
        },
        {
         "alignmentgroup": "True",
         "boxpoints": "all",
         "customdata": [
          [
           "RY20240612",
           "4541",
           "1"
          ],
          [
           "RY20240612",
           "4541",
           "2"
          ],
          [
           "RY20240612",
           "4541",
           "3"
          ],
          [
           "RY20240612",
           "4541",
           "4"
          ],
          [
           "RY20240612",
           "4541",
           "5"
          ],
          [
           "RY20240612",
           "4541",
           "6"
          ],
          [
           "RY20240613",
           "4543",
           "1"
          ],
          [
           "RY20240613",
           "4543",
           "2"
          ],
          [
           "RY20240613",
           "4543",
           "3"
          ],
          [
           "RY20240613",
           "4543",
           "4"
          ],
          [
           "RY20240613",
           "4543",
           "5"
          ],
          [
           "RY20240613",
           "4543",
           "6"
          ],
          [
           "RY20240618",
           "4544",
           "1"
          ],
          [
           "RY20240618",
           "4544",
           "2"
          ],
          [
           "RY20240619",
           "4544",
           "3"
          ],
          [
           "RY20240619",
           "4544",
           "4"
          ],
          [
           "RY20240619",
           "4544",
           "5"
          ],
          [
           "RY20240619",
           "4544",
           "6"
          ]
         ],
         "hovertemplate": "treatment_id=%{x}<br>intensity_mean_nuclei=%{y}<br>experiment_id=%{customdata[0]}<br>mouse_id=%{customdata[1]}<br>replica_id=%{customdata[2]}<extra></extra>",
         "legendgroup": "MSN_60min",
         "marker": {
          "color": "#19d3f3"
         },
         "name": "MSN_60min",
         "notched": false,
         "offsetgroup": "MSN_60min",
         "orientation": "v",
         "showlegend": true,
         "type": "box",
         "x": [
          "MSN_60min",
          "MSN_60min",
          "MSN_60min",
          "MSN_60min",
          "MSN_60min",
          "MSN_60min",
          "MSN_60min",
          "MSN_60min",
          "MSN_60min",
          "MSN_60min",
          "MSN_60min",
          "MSN_60min",
          "MSN_60min",
          "MSN_60min",
          "MSN_60min",
          "MSN_60min",
          "MSN_60min",
          "MSN_60min"
         ],
         "x0": " ",
         "xaxis": "x",
         "y": [
          16.4945966262709,
          12.625613655003368,
          15.583147815578682,
          17.39721626551162,
          21.157817838989157,
          15.292881191451299,
          33.01061049953148,
          27.82727958069619,
          14.60923858982416,
          11.551014370254174,
          19.739089386345125,
          30.337423512009448,
          15.13890824982432,
          30.50985837473826,
          21.514037115560782,
          36.4146740217655,
          37.76987419041783,
          24.8094572449917
         ],
         "y0": " ",
         "yaxis": "y"
        },
        {
         "alignmentgroup": "True",
         "boxpoints": "all",
         "customdata": [
          [
           "RY20240612",
           "4541",
           "1"
          ],
          [
           "RY20240612",
           "4541",
           "2"
          ],
          [
           "RY20240612",
           "4541",
           "3"
          ],
          [
           "RY20240612",
           "4541",
           "4"
          ],
          [
           "RY20240612",
           "4541",
           "5"
          ],
          [
           "RY20240614",
           "4543",
           "1"
          ],
          [
           "RY20240614",
           "4543",
           "2"
          ],
          [
           "RY20240614",
           "4543",
           "3"
          ],
          [
           "RY20240614",
           "4543",
           "4"
          ],
          [
           "RY20240614",
           "4543",
           "5"
          ],
          [
           "RY20240619",
           "4544",
           "1"
          ],
          [
           "RY20240619",
           "4544",
           "2"
          ],
          [
           "RY20240619",
           "4544",
           "3"
          ],
          [
           "RY20240619",
           "4544",
           "4"
          ],
          [
           "RY20240619",
           "4544",
           "5"
          ],
          [
           "RY20240619",
           "4544",
           "6"
          ]
         ],
         "hovertemplate": "treatment_id=%{x}<br>intensity_mean_nuclei=%{y}<br>experiment_id=%{customdata[0]}<br>mouse_id=%{customdata[1]}<br>replica_id=%{customdata[2]}<extra></extra>",
         "legendgroup": "PGE2_60min",
         "marker": {
          "color": "#FF6692"
         },
         "name": "PGE2_60min",
         "notched": false,
         "offsetgroup": "PGE2_60min",
         "orientation": "v",
         "showlegend": true,
         "type": "box",
         "x": [
          "PGE2_60min",
          "PGE2_60min",
          "PGE2_60min",
          "PGE2_60min",
          "PGE2_60min",
          "PGE2_60min",
          "PGE2_60min",
          "PGE2_60min",
          "PGE2_60min",
          "PGE2_60min",
          "PGE2_60min",
          "PGE2_60min",
          "PGE2_60min",
          "PGE2_60min",
          "PGE2_60min",
          "PGE2_60min"
         ],
         "x0": " ",
         "xaxis": "x",
         "y": [
          15.34277528181173,
          36.31813098905516,
          36.56684609456741,
          17.078942213365067,
          22.33302224825605,
          30.562888714167503,
          25.06264905905553,
          26.96153569133438,
          33.93537596446095,
          50.88707120738238,
          43.21498924946146,
          32.546491707170475,
          31.83804373426155,
          26.64453377254377,
          34.4214249963422,
          23.510290605723366
         ],
         "y0": " ",
         "yaxis": "y"
        },
        {
         "alignmentgroup": "True",
         "boxpoints": "all",
         "customdata": [
          [
           "RY20240614",
           "4543",
           "1"
          ],
          [
           "RY20240614",
           "4543",
           "2"
          ],
          [
           "RY20240614",
           "4543",
           "3"
          ],
          [
           "RY20240614",
           "4543",
           "4"
          ],
          [
           "RY20240614",
           "4543",
           "5"
          ]
         ],
         "hovertemplate": "treatment_id=%{x}<br>intensity_mean_nuclei=%{y}<br>experiment_id=%{customdata[0]}<br>mouse_id=%{customdata[1]}<br>replica_id=%{customdata[2]}<extra></extra>",
         "legendgroup": "dmPGE2_60min",
         "marker": {
          "color": "#B6E880"
         },
         "name": "dmPGE2_60min",
         "notched": false,
         "offsetgroup": "dmPGE2_60min",
         "orientation": "v",
         "showlegend": true,
         "type": "box",
         "x": [
          "dmPGE2_60min",
          "dmPGE2_60min",
          "dmPGE2_60min",
          "dmPGE2_60min",
          "dmPGE2_60min"
         ],
         "x0": " ",
         "xaxis": "x",
         "y": [
          51.16655038243172,
          43.11465106349365,
          37.93538955149466,
          41.330403578556805,
          33.45659258512074
         ],
         "y0": " ",
         "yaxis": "y"
        }
       ],
       "layout": {
        "boxmode": "overlay",
        "legend": {
         "title": {
          "text": "treatment_id"
         },
         "tracegroupgap": 0
        },
        "template": {
         "data": {
          "bar": [
           {
            "error_x": {
             "color": "#2a3f5f"
            },
            "error_y": {
             "color": "#2a3f5f"
            },
            "marker": {
             "line": {
              "color": "#E5ECF6",
              "width": 0.5
             },
             "pattern": {
              "fillmode": "overlay",
              "size": 10,
              "solidity": 0.2
             }
            },
            "type": "bar"
           }
          ],
          "barpolar": [
           {
            "marker": {
             "line": {
              "color": "#E5ECF6",
              "width": 0.5
             },
             "pattern": {
              "fillmode": "overlay",
              "size": 10,
              "solidity": 0.2
             }
            },
            "type": "barpolar"
           }
          ],
          "carpet": [
           {
            "aaxis": {
             "endlinecolor": "#2a3f5f",
             "gridcolor": "white",
             "linecolor": "white",
             "minorgridcolor": "white",
             "startlinecolor": "#2a3f5f"
            },
            "baxis": {
             "endlinecolor": "#2a3f5f",
             "gridcolor": "white",
             "linecolor": "white",
             "minorgridcolor": "white",
             "startlinecolor": "#2a3f5f"
            },
            "type": "carpet"
           }
          ],
          "choropleth": [
           {
            "colorbar": {
             "outlinewidth": 0,
             "ticks": ""
            },
            "type": "choropleth"
           }
          ],
          "contour": [
           {
            "colorbar": {
             "outlinewidth": 0,
             "ticks": ""
            },
            "colorscale": [
             [
              0,
              "#0d0887"
             ],
             [
              0.1111111111111111,
              "#46039f"
             ],
             [
              0.2222222222222222,
              "#7201a8"
             ],
             [
              0.3333333333333333,
              "#9c179e"
             ],
             [
              0.4444444444444444,
              "#bd3786"
             ],
             [
              0.5555555555555556,
              "#d8576b"
             ],
             [
              0.6666666666666666,
              "#ed7953"
             ],
             [
              0.7777777777777778,
              "#fb9f3a"
             ],
             [
              0.8888888888888888,
              "#fdca26"
             ],
             [
              1,
              "#f0f921"
             ]
            ],
            "type": "contour"
           }
          ],
          "contourcarpet": [
           {
            "colorbar": {
             "outlinewidth": 0,
             "ticks": ""
            },
            "type": "contourcarpet"
           }
          ],
          "heatmap": [
           {
            "colorbar": {
             "outlinewidth": 0,
             "ticks": ""
            },
            "colorscale": [
             [
              0,
              "#0d0887"
             ],
             [
              0.1111111111111111,
              "#46039f"
             ],
             [
              0.2222222222222222,
              "#7201a8"
             ],
             [
              0.3333333333333333,
              "#9c179e"
             ],
             [
              0.4444444444444444,
              "#bd3786"
             ],
             [
              0.5555555555555556,
              "#d8576b"
             ],
             [
              0.6666666666666666,
              "#ed7953"
             ],
             [
              0.7777777777777778,
              "#fb9f3a"
             ],
             [
              0.8888888888888888,
              "#fdca26"
             ],
             [
              1,
              "#f0f921"
             ]
            ],
            "type": "heatmap"
           }
          ],
          "heatmapgl": [
           {
            "colorbar": {
             "outlinewidth": 0,
             "ticks": ""
            },
            "colorscale": [
             [
              0,
              "#0d0887"
             ],
             [
              0.1111111111111111,
              "#46039f"
             ],
             [
              0.2222222222222222,
              "#7201a8"
             ],
             [
              0.3333333333333333,
              "#9c179e"
             ],
             [
              0.4444444444444444,
              "#bd3786"
             ],
             [
              0.5555555555555556,
              "#d8576b"
             ],
             [
              0.6666666666666666,
              "#ed7953"
             ],
             [
              0.7777777777777778,
              "#fb9f3a"
             ],
             [
              0.8888888888888888,
              "#fdca26"
             ],
             [
              1,
              "#f0f921"
             ]
            ],
            "type": "heatmapgl"
           }
          ],
          "histogram": [
           {
            "marker": {
             "pattern": {
              "fillmode": "overlay",
              "size": 10,
              "solidity": 0.2
             }
            },
            "type": "histogram"
           }
          ],
          "histogram2d": [
           {
            "colorbar": {
             "outlinewidth": 0,
             "ticks": ""
            },
            "colorscale": [
             [
              0,
              "#0d0887"
             ],
             [
              0.1111111111111111,
              "#46039f"
             ],
             [
              0.2222222222222222,
              "#7201a8"
             ],
             [
              0.3333333333333333,
              "#9c179e"
             ],
             [
              0.4444444444444444,
              "#bd3786"
             ],
             [
              0.5555555555555556,
              "#d8576b"
             ],
             [
              0.6666666666666666,
              "#ed7953"
             ],
             [
              0.7777777777777778,
              "#fb9f3a"
             ],
             [
              0.8888888888888888,
              "#fdca26"
             ],
             [
              1,
              "#f0f921"
             ]
            ],
            "type": "histogram2d"
           }
          ],
          "histogram2dcontour": [
           {
            "colorbar": {
             "outlinewidth": 0,
             "ticks": ""
            },
            "colorscale": [
             [
              0,
              "#0d0887"
             ],
             [
              0.1111111111111111,
              "#46039f"
             ],
             [
              0.2222222222222222,
              "#7201a8"
             ],
             [
              0.3333333333333333,
              "#9c179e"
             ],
             [
              0.4444444444444444,
              "#bd3786"
             ],
             [
              0.5555555555555556,
              "#d8576b"
             ],
             [
              0.6666666666666666,
              "#ed7953"
             ],
             [
              0.7777777777777778,
              "#fb9f3a"
             ],
             [
              0.8888888888888888,
              "#fdca26"
             ],
             [
              1,
              "#f0f921"
             ]
            ],
            "type": "histogram2dcontour"
           }
          ],
          "mesh3d": [
           {
            "colorbar": {
             "outlinewidth": 0,
             "ticks": ""
            },
            "type": "mesh3d"
           }
          ],
          "parcoords": [
           {
            "line": {
             "colorbar": {
              "outlinewidth": 0,
              "ticks": ""
             }
            },
            "type": "parcoords"
           }
          ],
          "pie": [
           {
            "automargin": true,
            "type": "pie"
           }
          ],
          "scatter": [
           {
            "fillpattern": {
             "fillmode": "overlay",
             "size": 10,
             "solidity": 0.2
            },
            "type": "scatter"
           }
          ],
          "scatter3d": [
           {
            "line": {
             "colorbar": {
              "outlinewidth": 0,
              "ticks": ""
             }
            },
            "marker": {
             "colorbar": {
              "outlinewidth": 0,
              "ticks": ""
             }
            },
            "type": "scatter3d"
           }
          ],
          "scattercarpet": [
           {
            "marker": {
             "colorbar": {
              "outlinewidth": 0,
              "ticks": ""
             }
            },
            "type": "scattercarpet"
           }
          ],
          "scattergeo": [
           {
            "marker": {
             "colorbar": {
              "outlinewidth": 0,
              "ticks": ""
             }
            },
            "type": "scattergeo"
           }
          ],
          "scattergl": [
           {
            "marker": {
             "colorbar": {
              "outlinewidth": 0,
              "ticks": ""
             }
            },
            "type": "scattergl"
           }
          ],
          "scattermapbox": [
           {
            "marker": {
             "colorbar": {
              "outlinewidth": 0,
              "ticks": ""
             }
            },
            "type": "scattermapbox"
           }
          ],
          "scatterpolar": [
           {
            "marker": {
             "colorbar": {
              "outlinewidth": 0,
              "ticks": ""
             }
            },
            "type": "scatterpolar"
           }
          ],
          "scatterpolargl": [
           {
            "marker": {
             "colorbar": {
              "outlinewidth": 0,
              "ticks": ""
             }
            },
            "type": "scatterpolargl"
           }
          ],
          "scatterternary": [
           {
            "marker": {
             "colorbar": {
              "outlinewidth": 0,
              "ticks": ""
             }
            },
            "type": "scatterternary"
           }
          ],
          "surface": [
           {
            "colorbar": {
             "outlinewidth": 0,
             "ticks": ""
            },
            "colorscale": [
             [
              0,
              "#0d0887"
             ],
             [
              0.1111111111111111,
              "#46039f"
             ],
             [
              0.2222222222222222,
              "#7201a8"
             ],
             [
              0.3333333333333333,
              "#9c179e"
             ],
             [
              0.4444444444444444,
              "#bd3786"
             ],
             [
              0.5555555555555556,
              "#d8576b"
             ],
             [
              0.6666666666666666,
              "#ed7953"
             ],
             [
              0.7777777777777778,
              "#fb9f3a"
             ],
             [
              0.8888888888888888,
              "#fdca26"
             ],
             [
              1,
              "#f0f921"
             ]
            ],
            "type": "surface"
           }
          ],
          "table": [
           {
            "cells": {
             "fill": {
              "color": "#EBF0F8"
             },
             "line": {
              "color": "white"
             }
            },
            "header": {
             "fill": {
              "color": "#C8D4E3"
             },
             "line": {
              "color": "white"
             }
            },
            "type": "table"
           }
          ]
         },
         "layout": {
          "annotationdefaults": {
           "arrowcolor": "#2a3f5f",
           "arrowhead": 0,
           "arrowwidth": 1
          },
          "autotypenumbers": "strict",
          "coloraxis": {
           "colorbar": {
            "outlinewidth": 0,
            "ticks": ""
           }
          },
          "colorscale": {
           "diverging": [
            [
             0,
             "#8e0152"
            ],
            [
             0.1,
             "#c51b7d"
            ],
            [
             0.2,
             "#de77ae"
            ],
            [
             0.3,
             "#f1b6da"
            ],
            [
             0.4,
             "#fde0ef"
            ],
            [
             0.5,
             "#f7f7f7"
            ],
            [
             0.6,
             "#e6f5d0"
            ],
            [
             0.7,
             "#b8e186"
            ],
            [
             0.8,
             "#7fbc41"
            ],
            [
             0.9,
             "#4d9221"
            ],
            [
             1,
             "#276419"
            ]
           ],
           "sequential": [
            [
             0,
             "#0d0887"
            ],
            [
             0.1111111111111111,
             "#46039f"
            ],
            [
             0.2222222222222222,
             "#7201a8"
            ],
            [
             0.3333333333333333,
             "#9c179e"
            ],
            [
             0.4444444444444444,
             "#bd3786"
            ],
            [
             0.5555555555555556,
             "#d8576b"
            ],
            [
             0.6666666666666666,
             "#ed7953"
            ],
            [
             0.7777777777777778,
             "#fb9f3a"
            ],
            [
             0.8888888888888888,
             "#fdca26"
            ],
            [
             1,
             "#f0f921"
            ]
           ],
           "sequentialminus": [
            [
             0,
             "#0d0887"
            ],
            [
             0.1111111111111111,
             "#46039f"
            ],
            [
             0.2222222222222222,
             "#7201a8"
            ],
            [
             0.3333333333333333,
             "#9c179e"
            ],
            [
             0.4444444444444444,
             "#bd3786"
            ],
            [
             0.5555555555555556,
             "#d8576b"
            ],
            [
             0.6666666666666666,
             "#ed7953"
            ],
            [
             0.7777777777777778,
             "#fb9f3a"
            ],
            [
             0.8888888888888888,
             "#fdca26"
            ],
            [
             1,
             "#f0f921"
            ]
           ]
          },
          "colorway": [
           "#636efa",
           "#EF553B",
           "#00cc96",
           "#ab63fa",
           "#FFA15A",
           "#19d3f3",
           "#FF6692",
           "#B6E880",
           "#FF97FF",
           "#FECB52"
          ],
          "font": {
           "color": "#2a3f5f"
          },
          "geo": {
           "bgcolor": "white",
           "lakecolor": "white",
           "landcolor": "#E5ECF6",
           "showlakes": true,
           "showland": true,
           "subunitcolor": "white"
          },
          "hoverlabel": {
           "align": "left"
          },
          "hovermode": "closest",
          "mapbox": {
           "style": "light"
          },
          "paper_bgcolor": "white",
          "plot_bgcolor": "#E5ECF6",
          "polar": {
           "angularaxis": {
            "gridcolor": "white",
            "linecolor": "white",
            "ticks": ""
           },
           "bgcolor": "#E5ECF6",
           "radialaxis": {
            "gridcolor": "white",
            "linecolor": "white",
            "ticks": ""
           }
          },
          "scene": {
           "xaxis": {
            "backgroundcolor": "#E5ECF6",
            "gridcolor": "white",
            "gridwidth": 2,
            "linecolor": "white",
            "showbackground": true,
            "ticks": "",
            "zerolinecolor": "white"
           },
           "yaxis": {
            "backgroundcolor": "#E5ECF6",
            "gridcolor": "white",
            "gridwidth": 2,
            "linecolor": "white",
            "showbackground": true,
            "ticks": "",
            "zerolinecolor": "white"
           },
           "zaxis": {
            "backgroundcolor": "#E5ECF6",
            "gridcolor": "white",
            "gridwidth": 2,
            "linecolor": "white",
            "showbackground": true,
            "ticks": "",
            "zerolinecolor": "white"
           }
          },
          "shapedefaults": {
           "line": {
            "color": "#2a3f5f"
           }
          },
          "ternary": {
           "aaxis": {
            "gridcolor": "white",
            "linecolor": "white",
            "ticks": ""
           },
           "baxis": {
            "gridcolor": "white",
            "linecolor": "white",
            "ticks": ""
           },
           "bgcolor": "#E5ECF6",
           "caxis": {
            "gridcolor": "white",
            "linecolor": "white",
            "ticks": ""
           }
          },
          "title": {
           "x": 0.05
          },
          "xaxis": {
           "automargin": true,
           "gridcolor": "white",
           "linecolor": "white",
           "ticks": "",
           "title": {
            "standoff": 15
           },
           "zerolinecolor": "white",
           "zerolinewidth": 2
          },
          "yaxis": {
           "automargin": true,
           "gridcolor": "white",
           "linecolor": "white",
           "ticks": "",
           "title": {
            "standoff": 15
           },
           "zerolinecolor": "white",
           "zerolinewidth": 2
          }
         }
        },
        "title": {
         "text": "YAP Nuclear Intensity Average by Treatment ID"
        },
        "xaxis": {
         "anchor": "y",
         "categoryarray": [
          "BCM",
          "MSN",
          "PGE2",
          "dmPGE2",
          "BCM_60min",
          "MSN_60min",
          "PGE2_60min",
          "dmPGE2_60min"
         ],
         "categoryorder": "array",
         "domain": [
          0,
          1
         ],
         "title": {
          "text": "treatment_id"
         }
        },
        "yaxis": {
         "anchor": "x",
         "domain": [
          0,
          1
         ],
         "title": {
          "text": "intensity_mean_nuclei"
         }
        }
       }
      }
     },
     "metadata": {},
     "output_type": "display_data"
    }
   ],
   "source": [
    "# Create the box plot\n",
    "fig = px.box(\n",
    "    grouped_df,\n",
    "    x='treatment_id',\n",
    "    y='intensity_mean_nuclei',\n",
    "    color='treatment_id',\n",
    "    points=\"all\",  # Display all points\n",
    "    hover_data=['experiment_id', 'mouse_id', 'replica_id'],\n",
    "    title='YAP Nuclear Intensity Average by Treatment ID'\n",
    ")\n",
    "\n",
    "# Show the plot\n",
    "fig.show()"
   ]
  },
  {
   "cell_type": "code",
   "execution_count": 9,
   "metadata": {},
   "outputs": [
    {
     "data": {
      "application/vnd.plotly.v1+json": {
       "config": {
        "plotlyServerURL": "https://plot.ly"
       },
       "data": [
        {
         "alignmentgroup": "True",
         "boxpoints": "all",
         "customdata": [
          [
           "RY20240607",
           "4541",
           "1"
          ],
          [
           "RY20240607",
           "4541",
           "2"
          ],
          [
           "RY20240607",
           "4541",
           "3"
          ],
          [
           "RY20240607",
           "4541",
           "4"
          ],
          [
           "RY20240607",
           "4541",
           "5"
          ],
          [
           "RY20240607",
           "4541",
           "6"
          ],
          [
           "RY20240608",
           "4543",
           "1"
          ],
          [
           "RY20240608",
           "4543",
           "2"
          ],
          [
           "RY20240608",
           "4543",
           "3"
          ],
          [
           "RY20240608",
           "4543",
           "4"
          ],
          [
           "RY20240608",
           "4543",
           "5"
          ],
          [
           "RY20240608",
           "4543",
           "6"
          ],
          [
           "RY20240611",
           "4544",
           "1"
          ],
          [
           "RY20240611",
           "4544",
           "2"
          ],
          [
           "RY20240611",
           "4544",
           "3"
          ],
          [
           "RY20240611",
           "4544",
           "4"
          ],
          [
           "RY20240611",
           "4544",
           "5"
          ]
         ],
         "hovertemplate": "treatment_id=%{x}<br>intensity_mean_cyto=%{y}<br>experiment_id=%{customdata[0]}<br>mouse_id=%{customdata[1]}<br>replica_id=%{customdata[2]}<extra></extra>",
         "legendgroup": "BCM",
         "marker": {
          "color": "#636efa"
         },
         "name": "BCM",
         "notched": false,
         "offsetgroup": "BCM",
         "orientation": "v",
         "showlegend": true,
         "type": "box",
         "x": [
          "BCM",
          "BCM",
          "BCM",
          "BCM",
          "BCM",
          "BCM",
          "BCM",
          "BCM",
          "BCM",
          "BCM",
          "BCM",
          "BCM",
          "BCM",
          "BCM",
          "BCM",
          "BCM",
          "BCM"
         ],
         "x0": " ",
         "xaxis": "x",
         "y": [
          18.244725345739564,
          18.681109307740762,
          15.316726172135937,
          16.769119908223676,
          18.16543855467611,
          10.121019856037439,
          18.0466046327147,
          23.319626700574037,
          23.17402880659852,
          24.10307778543365,
          19.720633361775143,
          25.762068043063795,
          29.334961153510392,
          29.153163790648136,
          24.444250129395268,
          13.283312804462053,
          24.685849339774485
         ],
         "y0": " ",
         "yaxis": "y"
        },
        {
         "alignmentgroup": "True",
         "boxpoints": "all",
         "customdata": [
          [
           "RY20240607",
           "4541",
           "1"
          ],
          [
           "RY20240607",
           "4541",
           "2"
          ],
          [
           "RY20240607",
           "4541",
           "3"
          ],
          [
           "RY20240607",
           "4541",
           "4"
          ],
          [
           "RY20240607",
           "4541",
           "5"
          ],
          [
           "RY20240607",
           "4541",
           "6"
          ],
          [
           "RY20240608",
           "4543",
           "1"
          ],
          [
           "RY20240608",
           "4543",
           "2"
          ],
          [
           "RY20240608",
           "4543",
           "3"
          ],
          [
           "RY20240608",
           "4543",
           "4"
          ],
          [
           "RY20240608",
           "4543",
           "5"
          ],
          [
           "RY20240608",
           "4543",
           "6"
          ],
          [
           "RY20240608",
           "4543",
           "7"
          ],
          [
           "RY20240611",
           "4544",
           "1"
          ],
          [
           "RY20240611",
           "4544",
           "2"
          ],
          [
           "RY20240611",
           "4544",
           "3"
          ],
          [
           "RY20240611",
           "4544",
           "4"
          ],
          [
           "RY20240611",
           "4544",
           "5"
          ]
         ],
         "hovertemplate": "treatment_id=%{x}<br>intensity_mean_cyto=%{y}<br>experiment_id=%{customdata[0]}<br>mouse_id=%{customdata[1]}<br>replica_id=%{customdata[2]}<extra></extra>",
         "legendgroup": "MSN",
         "marker": {
          "color": "#EF553B"
         },
         "name": "MSN",
         "notched": false,
         "offsetgroup": "MSN",
         "orientation": "v",
         "showlegend": true,
         "type": "box",
         "x": [
          "MSN",
          "MSN",
          "MSN",
          "MSN",
          "MSN",
          "MSN",
          "MSN",
          "MSN",
          "MSN",
          "MSN",
          "MSN",
          "MSN",
          "MSN",
          "MSN",
          "MSN",
          "MSN",
          "MSN",
          "MSN"
         ],
         "x0": " ",
         "xaxis": "x",
         "y": [
          15.950720618332603,
          14.770595485262755,
          20.803379528265708,
          29.949892918416992,
          23.20947993340291,
          19.50406648321077,
          21.07212270069701,
          18.759898873004865,
          12.249824366384862,
          16.83650314901582,
          9.95373578237578,
          15.728060670469015,
          24.708584996945827,
          20.009242047472817,
          17.069867810141123,
          18.855488689483277,
          18.84978101789734,
          21.242523829117417
         ],
         "y0": " ",
         "yaxis": "y"
        },
        {
         "alignmentgroup": "True",
         "boxpoints": "all",
         "customdata": [
          [
           "RY20240607",
           "4541",
           "1"
          ],
          [
           "RY20240607",
           "4541",
           "2"
          ],
          [
           "RY20240607",
           "4541",
           "3"
          ],
          [
           "RY20240607",
           "4541",
           "4"
          ],
          [
           "RY20240607",
           "4541",
           "5"
          ],
          [
           "RY20240607",
           "4541",
           "6"
          ],
          [
           "RY20240610",
           "4543",
           "1"
          ],
          [
           "RY20240610",
           "4543",
           "2"
          ],
          [
           "RY20240610",
           "4543",
           "3"
          ],
          [
           "RY20240610",
           "4543",
           "4"
          ],
          [
           "RY20240610",
           "4543",
           "5"
          ],
          [
           "RY20240610",
           "4543",
           "6"
          ],
          [
           "RY20240611",
           "4544",
           "1"
          ],
          [
           "RY20240611",
           "4544",
           "2"
          ],
          [
           "RY20240611",
           "4544",
           "3"
          ],
          [
           "RY20240611",
           "4544",
           "4"
          ],
          [
           "RY20240611",
           "4544",
           "5"
          ]
         ],
         "hovertemplate": "treatment_id=%{x}<br>intensity_mean_cyto=%{y}<br>experiment_id=%{customdata[0]}<br>mouse_id=%{customdata[1]}<br>replica_id=%{customdata[2]}<extra></extra>",
         "legendgroup": "PGE2",
         "marker": {
          "color": "#00cc96"
         },
         "name": "PGE2",
         "notched": false,
         "offsetgroup": "PGE2",
         "orientation": "v",
         "showlegend": true,
         "type": "box",
         "x": [
          "PGE2",
          "PGE2",
          "PGE2",
          "PGE2",
          "PGE2",
          "PGE2",
          "PGE2",
          "PGE2",
          "PGE2",
          "PGE2",
          "PGE2",
          "PGE2",
          "PGE2",
          "PGE2",
          "PGE2",
          "PGE2",
          "PGE2"
         ],
         "x0": " ",
         "xaxis": "x",
         "y": [
          16.332820207557894,
          11.475513511669678,
          17.307663978636263,
          25.89304811802052,
          17.278260854249318,
          19.131194288719374,
          19.60594857751559,
          16.692184638968335,
          13.208971090278578,
          14.731290724137782,
          15.513117994427933,
          14.007169377936366,
          12.201639959495514,
          19.538480197623272,
          12.775015461560967,
          15.132799241815746,
          6.001385385070347
         ],
         "y0": " ",
         "yaxis": "y"
        },
        {
         "alignmentgroup": "True",
         "boxpoints": "all",
         "customdata": [
          [
           "RY20240610",
           "4543",
           "1"
          ],
          [
           "RY20240610",
           "4543",
           "2"
          ],
          [
           "RY20240610",
           "4543",
           "3"
          ],
          [
           "RY20240610",
           "4543",
           "4"
          ],
          [
           "RY20240610",
           "4543",
           "5"
          ]
         ],
         "hovertemplate": "treatment_id=%{x}<br>intensity_mean_cyto=%{y}<br>experiment_id=%{customdata[0]}<br>mouse_id=%{customdata[1]}<br>replica_id=%{customdata[2]}<extra></extra>",
         "legendgroup": "dmPGE2",
         "marker": {
          "color": "#ab63fa"
         },
         "name": "dmPGE2",
         "notched": false,
         "offsetgroup": "dmPGE2",
         "orientation": "v",
         "showlegend": true,
         "type": "box",
         "x": [
          "dmPGE2",
          "dmPGE2",
          "dmPGE2",
          "dmPGE2",
          "dmPGE2"
         ],
         "x0": " ",
         "xaxis": "x",
         "y": [
          10.794618921249908,
          20.72712347908214,
          21.200040816568993,
          21.144208752004452,
          19.573101830340565
         ],
         "y0": " ",
         "yaxis": "y"
        },
        {
         "alignmentgroup": "True",
         "boxpoints": "all",
         "customdata": [
          [
           "RY20240611",
           "4541",
           "1"
          ],
          [
           "RY20240611",
           "4541",
           "2"
          ],
          [
           "RY20240611",
           "4541",
           "3"
          ],
          [
           "RY20240611",
           "4541",
           "4"
          ],
          [
           "RY20240612",
           "4541",
           "5"
          ],
          [
           "RY20240612",
           "4541",
           "6"
          ],
          [
           "RY20240612",
           "4543",
           "1"
          ],
          [
           "RY20240612",
           "4543",
           "2"
          ],
          [
           "RY20240612",
           "4543",
           "3"
          ],
          [
           "RY20240613",
           "4543",
           "4"
          ],
          [
           "RY20240613",
           "4543",
           "5"
          ],
          [
           "RY20240613",
           "4543",
           "6"
          ],
          [
           "RY20240618",
           "4544",
           "1"
          ],
          [
           "RY20240618",
           "4544",
           "2"
          ],
          [
           "RY20240618",
           "4544",
           "3"
          ],
          [
           "RY20240618",
           "4544",
           "4"
          ],
          [
           "RY20240618",
           "4544",
           "5"
          ],
          [
           "RY20240618",
           "4544",
           "6"
          ]
         ],
         "hovertemplate": "treatment_id=%{x}<br>intensity_mean_cyto=%{y}<br>experiment_id=%{customdata[0]}<br>mouse_id=%{customdata[1]}<br>replica_id=%{customdata[2]}<extra></extra>",
         "legendgroup": "BCM_60min",
         "marker": {
          "color": "#FFA15A"
         },
         "name": "BCM_60min",
         "notched": false,
         "offsetgroup": "BCM_60min",
         "orientation": "v",
         "showlegend": true,
         "type": "box",
         "x": [
          "BCM_60min",
          "BCM_60min",
          "BCM_60min",
          "BCM_60min",
          "BCM_60min",
          "BCM_60min",
          "BCM_60min",
          "BCM_60min",
          "BCM_60min",
          "BCM_60min",
          "BCM_60min",
          "BCM_60min",
          "BCM_60min",
          "BCM_60min",
          "BCM_60min",
          "BCM_60min",
          "BCM_60min",
          "BCM_60min"
         ],
         "x0": " ",
         "xaxis": "x",
         "y": [
          22.954794196416476,
          25.510175107480727,
          20.67362236423743,
          31.752141440476198,
          17.631251770883694,
          12.117568004899805,
          26.30881997804309,
          27.22872774805722,
          19.36204589700486,
          29.82652753913577,
          22.096967132234504,
          16.90252386916394,
          28.1381596094945,
          28.604906296730043,
          18.839383109338154,
          30.32952088714167,
          32.85779038398284,
          26.12486606473874
         ],
         "y0": " ",
         "yaxis": "y"
        },
        {
         "alignmentgroup": "True",
         "boxpoints": "all",
         "customdata": [
          [
           "RY20240612",
           "4541",
           "1"
          ],
          [
           "RY20240612",
           "4541",
           "2"
          ],
          [
           "RY20240612",
           "4541",
           "3"
          ],
          [
           "RY20240612",
           "4541",
           "4"
          ],
          [
           "RY20240612",
           "4541",
           "5"
          ],
          [
           "RY20240612",
           "4541",
           "6"
          ],
          [
           "RY20240613",
           "4543",
           "1"
          ],
          [
           "RY20240613",
           "4543",
           "2"
          ],
          [
           "RY20240613",
           "4543",
           "3"
          ],
          [
           "RY20240613",
           "4543",
           "4"
          ],
          [
           "RY20240613",
           "4543",
           "5"
          ],
          [
           "RY20240613",
           "4543",
           "6"
          ],
          [
           "RY20240618",
           "4544",
           "1"
          ],
          [
           "RY20240618",
           "4544",
           "2"
          ],
          [
           "RY20240619",
           "4544",
           "3"
          ],
          [
           "RY20240619",
           "4544",
           "4"
          ],
          [
           "RY20240619",
           "4544",
           "5"
          ],
          [
           "RY20240619",
           "4544",
           "6"
          ]
         ],
         "hovertemplate": "treatment_id=%{x}<br>intensity_mean_cyto=%{y}<br>experiment_id=%{customdata[0]}<br>mouse_id=%{customdata[1]}<br>replica_id=%{customdata[2]}<extra></extra>",
         "legendgroup": "MSN_60min",
         "marker": {
          "color": "#19d3f3"
         },
         "name": "MSN_60min",
         "notched": false,
         "offsetgroup": "MSN_60min",
         "orientation": "v",
         "showlegend": true,
         "type": "box",
         "x": [
          "MSN_60min",
          "MSN_60min",
          "MSN_60min",
          "MSN_60min",
          "MSN_60min",
          "MSN_60min",
          "MSN_60min",
          "MSN_60min",
          "MSN_60min",
          "MSN_60min",
          "MSN_60min",
          "MSN_60min",
          "MSN_60min",
          "MSN_60min",
          "MSN_60min",
          "MSN_60min",
          "MSN_60min",
          "MSN_60min"
         ],
         "x0": " ",
         "xaxis": "x",
         "y": [
          13.773492008968667,
          8.2931811757401,
          14.0886596137322,
          16.79118251105595,
          15.778136390755863,
          14.017118896791025,
          27.4214108756979,
          20.624780107503916,
          12.538669562551766,
          10.337264523913307,
          17.388103375270134,
          22.388780567281973,
          15.239534824724847,
          27.02017634453643,
          21.82617181932533,
          28.88831548537427,
          27.42604955961538,
          25.148958788225848
         ],
         "y0": " ",
         "yaxis": "y"
        },
        {
         "alignmentgroup": "True",
         "boxpoints": "all",
         "customdata": [
          [
           "RY20240612",
           "4541",
           "1"
          ],
          [
           "RY20240612",
           "4541",
           "2"
          ],
          [
           "RY20240612",
           "4541",
           "3"
          ],
          [
           "RY20240612",
           "4541",
           "4"
          ],
          [
           "RY20240612",
           "4541",
           "5"
          ],
          [
           "RY20240614",
           "4543",
           "1"
          ],
          [
           "RY20240614",
           "4543",
           "2"
          ],
          [
           "RY20240614",
           "4543",
           "3"
          ],
          [
           "RY20240614",
           "4543",
           "4"
          ],
          [
           "RY20240614",
           "4543",
           "5"
          ],
          [
           "RY20240619",
           "4544",
           "1"
          ],
          [
           "RY20240619",
           "4544",
           "2"
          ],
          [
           "RY20240619",
           "4544",
           "3"
          ],
          [
           "RY20240619",
           "4544",
           "4"
          ],
          [
           "RY20240619",
           "4544",
           "5"
          ],
          [
           "RY20240619",
           "4544",
           "6"
          ]
         ],
         "hovertemplate": "treatment_id=%{x}<br>intensity_mean_cyto=%{y}<br>experiment_id=%{customdata[0]}<br>mouse_id=%{customdata[1]}<br>replica_id=%{customdata[2]}<extra></extra>",
         "legendgroup": "PGE2_60min",
         "marker": {
          "color": "#FF6692"
         },
         "name": "PGE2_60min",
         "notched": false,
         "offsetgroup": "PGE2_60min",
         "orientation": "v",
         "showlegend": true,
         "type": "box",
         "x": [
          "PGE2_60min",
          "PGE2_60min",
          "PGE2_60min",
          "PGE2_60min",
          "PGE2_60min",
          "PGE2_60min",
          "PGE2_60min",
          "PGE2_60min",
          "PGE2_60min",
          "PGE2_60min",
          "PGE2_60min",
          "PGE2_60min",
          "PGE2_60min",
          "PGE2_60min",
          "PGE2_60min",
          "PGE2_60min"
         ],
         "x0": " ",
         "xaxis": "x",
         "y": [
          13.825509145199737,
          26.87836681110937,
          25.60125598234266,
          15.285346305082896,
          16.833055725089746,
          29.31234329763532,
          21.5441714242885,
          18.091280846700883,
          26.843536040186883,
          36.14876691590218,
          33.572071742887296,
          24.159847211640752,
          27.387264999261884,
          25.20860035968161,
          28.166738635525007,
          18.430219704128763
         ],
         "y0": " ",
         "yaxis": "y"
        },
        {
         "alignmentgroup": "True",
         "boxpoints": "all",
         "customdata": [
          [
           "RY20240614",
           "4543",
           "1"
          ],
          [
           "RY20240614",
           "4543",
           "2"
          ],
          [
           "RY20240614",
           "4543",
           "3"
          ],
          [
           "RY20240614",
           "4543",
           "4"
          ],
          [
           "RY20240614",
           "4543",
           "5"
          ]
         ],
         "hovertemplate": "treatment_id=%{x}<br>intensity_mean_cyto=%{y}<br>experiment_id=%{customdata[0]}<br>mouse_id=%{customdata[1]}<br>replica_id=%{customdata[2]}<extra></extra>",
         "legendgroup": "dmPGE2_60min",
         "marker": {
          "color": "#B6E880"
         },
         "name": "dmPGE2_60min",
         "notched": false,
         "offsetgroup": "dmPGE2_60min",
         "orientation": "v",
         "showlegend": true,
         "type": "box",
         "x": [
          "dmPGE2_60min",
          "dmPGE2_60min",
          "dmPGE2_60min",
          "dmPGE2_60min",
          "dmPGE2_60min"
         ],
         "x0": " ",
         "xaxis": "x",
         "y": [
          35.81277702262738,
          29.528893198343177,
          27.4549961980732,
          29.455556097793895,
          23.466925910641923
         ],
         "y0": " ",
         "yaxis": "y"
        }
       ],
       "layout": {
        "boxmode": "overlay",
        "legend": {
         "title": {
          "text": "treatment_id"
         },
         "tracegroupgap": 0
        },
        "template": {
         "data": {
          "bar": [
           {
            "error_x": {
             "color": "#2a3f5f"
            },
            "error_y": {
             "color": "#2a3f5f"
            },
            "marker": {
             "line": {
              "color": "#E5ECF6",
              "width": 0.5
             },
             "pattern": {
              "fillmode": "overlay",
              "size": 10,
              "solidity": 0.2
             }
            },
            "type": "bar"
           }
          ],
          "barpolar": [
           {
            "marker": {
             "line": {
              "color": "#E5ECF6",
              "width": 0.5
             },
             "pattern": {
              "fillmode": "overlay",
              "size": 10,
              "solidity": 0.2
             }
            },
            "type": "barpolar"
           }
          ],
          "carpet": [
           {
            "aaxis": {
             "endlinecolor": "#2a3f5f",
             "gridcolor": "white",
             "linecolor": "white",
             "minorgridcolor": "white",
             "startlinecolor": "#2a3f5f"
            },
            "baxis": {
             "endlinecolor": "#2a3f5f",
             "gridcolor": "white",
             "linecolor": "white",
             "minorgridcolor": "white",
             "startlinecolor": "#2a3f5f"
            },
            "type": "carpet"
           }
          ],
          "choropleth": [
           {
            "colorbar": {
             "outlinewidth": 0,
             "ticks": ""
            },
            "type": "choropleth"
           }
          ],
          "contour": [
           {
            "colorbar": {
             "outlinewidth": 0,
             "ticks": ""
            },
            "colorscale": [
             [
              0,
              "#0d0887"
             ],
             [
              0.1111111111111111,
              "#46039f"
             ],
             [
              0.2222222222222222,
              "#7201a8"
             ],
             [
              0.3333333333333333,
              "#9c179e"
             ],
             [
              0.4444444444444444,
              "#bd3786"
             ],
             [
              0.5555555555555556,
              "#d8576b"
             ],
             [
              0.6666666666666666,
              "#ed7953"
             ],
             [
              0.7777777777777778,
              "#fb9f3a"
             ],
             [
              0.8888888888888888,
              "#fdca26"
             ],
             [
              1,
              "#f0f921"
             ]
            ],
            "type": "contour"
           }
          ],
          "contourcarpet": [
           {
            "colorbar": {
             "outlinewidth": 0,
             "ticks": ""
            },
            "type": "contourcarpet"
           }
          ],
          "heatmap": [
           {
            "colorbar": {
             "outlinewidth": 0,
             "ticks": ""
            },
            "colorscale": [
             [
              0,
              "#0d0887"
             ],
             [
              0.1111111111111111,
              "#46039f"
             ],
             [
              0.2222222222222222,
              "#7201a8"
             ],
             [
              0.3333333333333333,
              "#9c179e"
             ],
             [
              0.4444444444444444,
              "#bd3786"
             ],
             [
              0.5555555555555556,
              "#d8576b"
             ],
             [
              0.6666666666666666,
              "#ed7953"
             ],
             [
              0.7777777777777778,
              "#fb9f3a"
             ],
             [
              0.8888888888888888,
              "#fdca26"
             ],
             [
              1,
              "#f0f921"
             ]
            ],
            "type": "heatmap"
           }
          ],
          "heatmapgl": [
           {
            "colorbar": {
             "outlinewidth": 0,
             "ticks": ""
            },
            "colorscale": [
             [
              0,
              "#0d0887"
             ],
             [
              0.1111111111111111,
              "#46039f"
             ],
             [
              0.2222222222222222,
              "#7201a8"
             ],
             [
              0.3333333333333333,
              "#9c179e"
             ],
             [
              0.4444444444444444,
              "#bd3786"
             ],
             [
              0.5555555555555556,
              "#d8576b"
             ],
             [
              0.6666666666666666,
              "#ed7953"
             ],
             [
              0.7777777777777778,
              "#fb9f3a"
             ],
             [
              0.8888888888888888,
              "#fdca26"
             ],
             [
              1,
              "#f0f921"
             ]
            ],
            "type": "heatmapgl"
           }
          ],
          "histogram": [
           {
            "marker": {
             "pattern": {
              "fillmode": "overlay",
              "size": 10,
              "solidity": 0.2
             }
            },
            "type": "histogram"
           }
          ],
          "histogram2d": [
           {
            "colorbar": {
             "outlinewidth": 0,
             "ticks": ""
            },
            "colorscale": [
             [
              0,
              "#0d0887"
             ],
             [
              0.1111111111111111,
              "#46039f"
             ],
             [
              0.2222222222222222,
              "#7201a8"
             ],
             [
              0.3333333333333333,
              "#9c179e"
             ],
             [
              0.4444444444444444,
              "#bd3786"
             ],
             [
              0.5555555555555556,
              "#d8576b"
             ],
             [
              0.6666666666666666,
              "#ed7953"
             ],
             [
              0.7777777777777778,
              "#fb9f3a"
             ],
             [
              0.8888888888888888,
              "#fdca26"
             ],
             [
              1,
              "#f0f921"
             ]
            ],
            "type": "histogram2d"
           }
          ],
          "histogram2dcontour": [
           {
            "colorbar": {
             "outlinewidth": 0,
             "ticks": ""
            },
            "colorscale": [
             [
              0,
              "#0d0887"
             ],
             [
              0.1111111111111111,
              "#46039f"
             ],
             [
              0.2222222222222222,
              "#7201a8"
             ],
             [
              0.3333333333333333,
              "#9c179e"
             ],
             [
              0.4444444444444444,
              "#bd3786"
             ],
             [
              0.5555555555555556,
              "#d8576b"
             ],
             [
              0.6666666666666666,
              "#ed7953"
             ],
             [
              0.7777777777777778,
              "#fb9f3a"
             ],
             [
              0.8888888888888888,
              "#fdca26"
             ],
             [
              1,
              "#f0f921"
             ]
            ],
            "type": "histogram2dcontour"
           }
          ],
          "mesh3d": [
           {
            "colorbar": {
             "outlinewidth": 0,
             "ticks": ""
            },
            "type": "mesh3d"
           }
          ],
          "parcoords": [
           {
            "line": {
             "colorbar": {
              "outlinewidth": 0,
              "ticks": ""
             }
            },
            "type": "parcoords"
           }
          ],
          "pie": [
           {
            "automargin": true,
            "type": "pie"
           }
          ],
          "scatter": [
           {
            "fillpattern": {
             "fillmode": "overlay",
             "size": 10,
             "solidity": 0.2
            },
            "type": "scatter"
           }
          ],
          "scatter3d": [
           {
            "line": {
             "colorbar": {
              "outlinewidth": 0,
              "ticks": ""
             }
            },
            "marker": {
             "colorbar": {
              "outlinewidth": 0,
              "ticks": ""
             }
            },
            "type": "scatter3d"
           }
          ],
          "scattercarpet": [
           {
            "marker": {
             "colorbar": {
              "outlinewidth": 0,
              "ticks": ""
             }
            },
            "type": "scattercarpet"
           }
          ],
          "scattergeo": [
           {
            "marker": {
             "colorbar": {
              "outlinewidth": 0,
              "ticks": ""
             }
            },
            "type": "scattergeo"
           }
          ],
          "scattergl": [
           {
            "marker": {
             "colorbar": {
              "outlinewidth": 0,
              "ticks": ""
             }
            },
            "type": "scattergl"
           }
          ],
          "scattermapbox": [
           {
            "marker": {
             "colorbar": {
              "outlinewidth": 0,
              "ticks": ""
             }
            },
            "type": "scattermapbox"
           }
          ],
          "scatterpolar": [
           {
            "marker": {
             "colorbar": {
              "outlinewidth": 0,
              "ticks": ""
             }
            },
            "type": "scatterpolar"
           }
          ],
          "scatterpolargl": [
           {
            "marker": {
             "colorbar": {
              "outlinewidth": 0,
              "ticks": ""
             }
            },
            "type": "scatterpolargl"
           }
          ],
          "scatterternary": [
           {
            "marker": {
             "colorbar": {
              "outlinewidth": 0,
              "ticks": ""
             }
            },
            "type": "scatterternary"
           }
          ],
          "surface": [
           {
            "colorbar": {
             "outlinewidth": 0,
             "ticks": ""
            },
            "colorscale": [
             [
              0,
              "#0d0887"
             ],
             [
              0.1111111111111111,
              "#46039f"
             ],
             [
              0.2222222222222222,
              "#7201a8"
             ],
             [
              0.3333333333333333,
              "#9c179e"
             ],
             [
              0.4444444444444444,
              "#bd3786"
             ],
             [
              0.5555555555555556,
              "#d8576b"
             ],
             [
              0.6666666666666666,
              "#ed7953"
             ],
             [
              0.7777777777777778,
              "#fb9f3a"
             ],
             [
              0.8888888888888888,
              "#fdca26"
             ],
             [
              1,
              "#f0f921"
             ]
            ],
            "type": "surface"
           }
          ],
          "table": [
           {
            "cells": {
             "fill": {
              "color": "#EBF0F8"
             },
             "line": {
              "color": "white"
             }
            },
            "header": {
             "fill": {
              "color": "#C8D4E3"
             },
             "line": {
              "color": "white"
             }
            },
            "type": "table"
           }
          ]
         },
         "layout": {
          "annotationdefaults": {
           "arrowcolor": "#2a3f5f",
           "arrowhead": 0,
           "arrowwidth": 1
          },
          "autotypenumbers": "strict",
          "coloraxis": {
           "colorbar": {
            "outlinewidth": 0,
            "ticks": ""
           }
          },
          "colorscale": {
           "diverging": [
            [
             0,
             "#8e0152"
            ],
            [
             0.1,
             "#c51b7d"
            ],
            [
             0.2,
             "#de77ae"
            ],
            [
             0.3,
             "#f1b6da"
            ],
            [
             0.4,
             "#fde0ef"
            ],
            [
             0.5,
             "#f7f7f7"
            ],
            [
             0.6,
             "#e6f5d0"
            ],
            [
             0.7,
             "#b8e186"
            ],
            [
             0.8,
             "#7fbc41"
            ],
            [
             0.9,
             "#4d9221"
            ],
            [
             1,
             "#276419"
            ]
           ],
           "sequential": [
            [
             0,
             "#0d0887"
            ],
            [
             0.1111111111111111,
             "#46039f"
            ],
            [
             0.2222222222222222,
             "#7201a8"
            ],
            [
             0.3333333333333333,
             "#9c179e"
            ],
            [
             0.4444444444444444,
             "#bd3786"
            ],
            [
             0.5555555555555556,
             "#d8576b"
            ],
            [
             0.6666666666666666,
             "#ed7953"
            ],
            [
             0.7777777777777778,
             "#fb9f3a"
            ],
            [
             0.8888888888888888,
             "#fdca26"
            ],
            [
             1,
             "#f0f921"
            ]
           ],
           "sequentialminus": [
            [
             0,
             "#0d0887"
            ],
            [
             0.1111111111111111,
             "#46039f"
            ],
            [
             0.2222222222222222,
             "#7201a8"
            ],
            [
             0.3333333333333333,
             "#9c179e"
            ],
            [
             0.4444444444444444,
             "#bd3786"
            ],
            [
             0.5555555555555556,
             "#d8576b"
            ],
            [
             0.6666666666666666,
             "#ed7953"
            ],
            [
             0.7777777777777778,
             "#fb9f3a"
            ],
            [
             0.8888888888888888,
             "#fdca26"
            ],
            [
             1,
             "#f0f921"
            ]
           ]
          },
          "colorway": [
           "#636efa",
           "#EF553B",
           "#00cc96",
           "#ab63fa",
           "#FFA15A",
           "#19d3f3",
           "#FF6692",
           "#B6E880",
           "#FF97FF",
           "#FECB52"
          ],
          "font": {
           "color": "#2a3f5f"
          },
          "geo": {
           "bgcolor": "white",
           "lakecolor": "white",
           "landcolor": "#E5ECF6",
           "showlakes": true,
           "showland": true,
           "subunitcolor": "white"
          },
          "hoverlabel": {
           "align": "left"
          },
          "hovermode": "closest",
          "mapbox": {
           "style": "light"
          },
          "paper_bgcolor": "white",
          "plot_bgcolor": "#E5ECF6",
          "polar": {
           "angularaxis": {
            "gridcolor": "white",
            "linecolor": "white",
            "ticks": ""
           },
           "bgcolor": "#E5ECF6",
           "radialaxis": {
            "gridcolor": "white",
            "linecolor": "white",
            "ticks": ""
           }
          },
          "scene": {
           "xaxis": {
            "backgroundcolor": "#E5ECF6",
            "gridcolor": "white",
            "gridwidth": 2,
            "linecolor": "white",
            "showbackground": true,
            "ticks": "",
            "zerolinecolor": "white"
           },
           "yaxis": {
            "backgroundcolor": "#E5ECF6",
            "gridcolor": "white",
            "gridwidth": 2,
            "linecolor": "white",
            "showbackground": true,
            "ticks": "",
            "zerolinecolor": "white"
           },
           "zaxis": {
            "backgroundcolor": "#E5ECF6",
            "gridcolor": "white",
            "gridwidth": 2,
            "linecolor": "white",
            "showbackground": true,
            "ticks": "",
            "zerolinecolor": "white"
           }
          },
          "shapedefaults": {
           "line": {
            "color": "#2a3f5f"
           }
          },
          "ternary": {
           "aaxis": {
            "gridcolor": "white",
            "linecolor": "white",
            "ticks": ""
           },
           "baxis": {
            "gridcolor": "white",
            "linecolor": "white",
            "ticks": ""
           },
           "bgcolor": "#E5ECF6",
           "caxis": {
            "gridcolor": "white",
            "linecolor": "white",
            "ticks": ""
           }
          },
          "title": {
           "x": 0.05
          },
          "xaxis": {
           "automargin": true,
           "gridcolor": "white",
           "linecolor": "white",
           "ticks": "",
           "title": {
            "standoff": 15
           },
           "zerolinecolor": "white",
           "zerolinewidth": 2
          },
          "yaxis": {
           "automargin": true,
           "gridcolor": "white",
           "linecolor": "white",
           "ticks": "",
           "title": {
            "standoff": 15
           },
           "zerolinecolor": "white",
           "zerolinewidth": 2
          }
         }
        },
        "title": {
         "text": "YAP Cytoplasmic Intensity Average by Treatment ID"
        },
        "xaxis": {
         "anchor": "y",
         "categoryarray": [
          "BCM",
          "MSN",
          "PGE2",
          "dmPGE2",
          "BCM_60min",
          "MSN_60min",
          "PGE2_60min",
          "dmPGE2_60min"
         ],
         "categoryorder": "array",
         "domain": [
          0,
          1
         ],
         "title": {
          "text": "treatment_id"
         }
        },
        "yaxis": {
         "anchor": "x",
         "domain": [
          0,
          1
         ],
         "title": {
          "text": "intensity_mean_cyto"
         }
        }
       }
      }
     },
     "metadata": {},
     "output_type": "display_data"
    }
   ],
   "source": [
    "# Create the box plot\n",
    "fig = px.box(\n",
    "    grouped_df,\n",
    "    x='treatment_id',\n",
    "    y='intensity_mean_cyto',\n",
    "    color='treatment_id',\n",
    "    points=\"all\",  # Display all points\n",
    "    hover_data=['experiment_id', 'mouse_id', 'replica_id'],\n",
    "    title='YAP Cytoplasmic Intensity Average by Treatment ID'\n",
    ")\n",
    "\n",
    "# Show the plot\n",
    "fig.show()"
   ]
  },
  {
   "cell_type": "code",
   "execution_count": 13,
   "metadata": {},
   "outputs": [
    {
     "data": {
      "application/vnd.plotly.v1+json": {
       "config": {
        "plotlyServerURL": "https://plot.ly"
       },
       "data": [
        {
         "alignmentgroup": "True",
         "boxpoints": "all",
         "customdata": [
          [
           "RY20240607",
           "4541",
           "1"
          ],
          [
           "RY20240607",
           "4541",
           "2"
          ],
          [
           "RY20240607",
           "4541",
           "3"
          ],
          [
           "RY20240607",
           "4541",
           "4"
          ],
          [
           "RY20240607",
           "4541",
           "5"
          ],
          [
           "RY20240607",
           "4541",
           "6"
          ],
          [
           "RY20240608",
           "4543",
           "1"
          ],
          [
           "RY20240608",
           "4543",
           "2"
          ],
          [
           "RY20240608",
           "4543",
           "3"
          ],
          [
           "RY20240608",
           "4543",
           "4"
          ],
          [
           "RY20240608",
           "4543",
           "5"
          ],
          [
           "RY20240608",
           "4543",
           "6"
          ],
          [
           "RY20240611",
           "4544",
           "1"
          ],
          [
           "RY20240611",
           "4544",
           "2"
          ],
          [
           "RY20240611",
           "4544",
           "3"
          ],
          [
           "RY20240611",
           "4544",
           "4"
          ],
          [
           "RY20240611",
           "4544",
           "5"
          ]
         ],
         "hovertemplate": "treatment_id=%{x}<br>nuclei_cyto_ratio=%{y}<br>experiment_id=%{customdata[0]}<br>mouse_id=%{customdata[1]}<br>replica_id=%{customdata[2]}<extra></extra>",
         "legendgroup": "BCM",
         "marker": {
          "color": "#636efa"
         },
         "name": "BCM",
         "notched": false,
         "offsetgroup": "BCM",
         "orientation": "v",
         "showlegend": true,
         "type": "box",
         "x": [
          "BCM",
          "BCM",
          "BCM",
          "BCM",
          "BCM",
          "BCM",
          "BCM",
          "BCM",
          "BCM",
          "BCM",
          "BCM",
          "BCM",
          "BCM",
          "BCM",
          "BCM",
          "BCM",
          "BCM"
         ],
         "x0": " ",
         "xaxis": "x",
         "y": [
          1.2658221421252915,
          1.0732637914245966,
          1.1181177701097305,
          1.2426943104950041,
          1.1759736212281247,
          1.0895350915891078,
          0.9510960687359635,
          1.0686581019791983,
          1.2033691103013,
          1.1831562526403325,
          1.1095617136960176,
          1.4727631358618662,
          1.2240059118965634,
          1.1243709735505678,
          1.3154217865362956,
          1.2675872395348955,
          1.087716183907871
         ],
         "y0": " ",
         "yaxis": "y"
        },
        {
         "alignmentgroup": "True",
         "boxpoints": "all",
         "customdata": [
          [
           "RY20240607",
           "4541",
           "1"
          ],
          [
           "RY20240607",
           "4541",
           "2"
          ],
          [
           "RY20240607",
           "4541",
           "3"
          ],
          [
           "RY20240607",
           "4541",
           "4"
          ],
          [
           "RY20240607",
           "4541",
           "5"
          ],
          [
           "RY20240607",
           "4541",
           "6"
          ],
          [
           "RY20240608",
           "4543",
           "1"
          ],
          [
           "RY20240608",
           "4543",
           "2"
          ],
          [
           "RY20240608",
           "4543",
           "3"
          ],
          [
           "RY20240608",
           "4543",
           "4"
          ],
          [
           "RY20240608",
           "4543",
           "5"
          ],
          [
           "RY20240608",
           "4543",
           "6"
          ],
          [
           "RY20240608",
           "4543",
           "7"
          ],
          [
           "RY20240611",
           "4544",
           "1"
          ],
          [
           "RY20240611",
           "4544",
           "2"
          ],
          [
           "RY20240611",
           "4544",
           "3"
          ],
          [
           "RY20240611",
           "4544",
           "4"
          ],
          [
           "RY20240611",
           "4544",
           "5"
          ]
         ],
         "hovertemplate": "treatment_id=%{x}<br>nuclei_cyto_ratio=%{y}<br>experiment_id=%{customdata[0]}<br>mouse_id=%{customdata[1]}<br>replica_id=%{customdata[2]}<extra></extra>",
         "legendgroup": "MSN",
         "marker": {
          "color": "#EF553B"
         },
         "name": "MSN",
         "notched": false,
         "offsetgroup": "MSN",
         "orientation": "v",
         "showlegend": true,
         "type": "box",
         "x": [
          "MSN",
          "MSN",
          "MSN",
          "MSN",
          "MSN",
          "MSN",
          "MSN",
          "MSN",
          "MSN",
          "MSN",
          "MSN",
          "MSN",
          "MSN",
          "MSN",
          "MSN",
          "MSN",
          "MSN",
          "MSN"
         ],
         "x0": " ",
         "xaxis": "x",
         "y": [
          1.6838231151440062,
          1.5371815852991595,
          1.4382582906992742,
          1.405317386440956,
          1.6763138676454894,
          1.6510013143813622,
          1.406782543691502,
          1.3632765777138869,
          1.5787793137366712,
          1.4237739957026883,
          1.9028041471801902,
          1.406714155224753,
          1.807347598687893,
          2.0673964720268416,
          1.499538339445657,
          1.6182598895328102,
          1.3742838916303046,
          1.3315162506850264
         ],
         "y0": " ",
         "yaxis": "y"
        },
        {
         "alignmentgroup": "True",
         "boxpoints": "all",
         "customdata": [
          [
           "RY20240607",
           "4541",
           "1"
          ],
          [
           "RY20240607",
           "4541",
           "2"
          ],
          [
           "RY20240607",
           "4541",
           "3"
          ],
          [
           "RY20240607",
           "4541",
           "4"
          ],
          [
           "RY20240607",
           "4541",
           "5"
          ],
          [
           "RY20240607",
           "4541",
           "6"
          ],
          [
           "RY20240610",
           "4543",
           "1"
          ],
          [
           "RY20240610",
           "4543",
           "2"
          ],
          [
           "RY20240610",
           "4543",
           "3"
          ],
          [
           "RY20240610",
           "4543",
           "4"
          ],
          [
           "RY20240610",
           "4543",
           "5"
          ],
          [
           "RY20240610",
           "4543",
           "6"
          ],
          [
           "RY20240611",
           "4544",
           "1"
          ],
          [
           "RY20240611",
           "4544",
           "2"
          ],
          [
           "RY20240611",
           "4544",
           "3"
          ],
          [
           "RY20240611",
           "4544",
           "4"
          ],
          [
           "RY20240611",
           "4544",
           "5"
          ]
         ],
         "hovertemplate": "treatment_id=%{x}<br>nuclei_cyto_ratio=%{y}<br>experiment_id=%{customdata[0]}<br>mouse_id=%{customdata[1]}<br>replica_id=%{customdata[2]}<extra></extra>",
         "legendgroup": "PGE2",
         "marker": {
          "color": "#00cc96"
         },
         "name": "PGE2",
         "notched": false,
         "offsetgroup": "PGE2",
         "orientation": "v",
         "showlegend": true,
         "type": "box",
         "x": [
          "PGE2",
          "PGE2",
          "PGE2",
          "PGE2",
          "PGE2",
          "PGE2",
          "PGE2",
          "PGE2",
          "PGE2",
          "PGE2",
          "PGE2",
          "PGE2",
          "PGE2",
          "PGE2",
          "PGE2",
          "PGE2",
          "PGE2"
         ],
         "x0": " ",
         "xaxis": "x",
         "y": [
          1.3187883180851812,
          1.7145454486672576,
          1.5087647596199092,
          1.7658919045535877,
          1.3324904568752243,
          1.5461282045597549,
          1.417619367205919,
          1.4639332438892285,
          1.278448216309741,
          1.4791251563229633,
          1.3687848573083692,
          1.4365910832822315,
          1.590280242528764,
          1.7691452116979252,
          1.5699952837805673,
          1.3601171638983434,
          1.5433691742613855
         ],
         "y0": " ",
         "yaxis": "y"
        },
        {
         "alignmentgroup": "True",
         "boxpoints": "all",
         "customdata": [
          [
           "RY20240610",
           "4543",
           "1"
          ],
          [
           "RY20240610",
           "4543",
           "2"
          ],
          [
           "RY20240610",
           "4543",
           "3"
          ],
          [
           "RY20240610",
           "4543",
           "4"
          ],
          [
           "RY20240610",
           "4543",
           "5"
          ]
         ],
         "hovertemplate": "treatment_id=%{x}<br>nuclei_cyto_ratio=%{y}<br>experiment_id=%{customdata[0]}<br>mouse_id=%{customdata[1]}<br>replica_id=%{customdata[2]}<extra></extra>",
         "legendgroup": "dmPGE2",
         "marker": {
          "color": "#ab63fa"
         },
         "name": "dmPGE2",
         "notched": false,
         "offsetgroup": "dmPGE2",
         "orientation": "v",
         "showlegend": true,
         "type": "box",
         "x": [
          "dmPGE2",
          "dmPGE2",
          "dmPGE2",
          "dmPGE2",
          "dmPGE2"
         ],
         "x0": " ",
         "xaxis": "x",
         "y": [
          1.5243716114201205,
          1.2258149345421898,
          1.3455543594955526,
          1.3621397012679888,
          1.3771214340627764
         ],
         "y0": " ",
         "yaxis": "y"
        },
        {
         "alignmentgroup": "True",
         "boxpoints": "all",
         "customdata": [
          [
           "RY20240611",
           "4541",
           "1"
          ],
          [
           "RY20240611",
           "4541",
           "2"
          ],
          [
           "RY20240611",
           "4541",
           "3"
          ],
          [
           "RY20240611",
           "4541",
           "4"
          ],
          [
           "RY20240612",
           "4541",
           "5"
          ],
          [
           "RY20240612",
           "4541",
           "6"
          ],
          [
           "RY20240612",
           "4543",
           "1"
          ],
          [
           "RY20240612",
           "4543",
           "2"
          ],
          [
           "RY20240612",
           "4543",
           "3"
          ],
          [
           "RY20240613",
           "4543",
           "4"
          ],
          [
           "RY20240613",
           "4543",
           "5"
          ],
          [
           "RY20240613",
           "4543",
           "6"
          ],
          [
           "RY20240618",
           "4544",
           "1"
          ],
          [
           "RY20240618",
           "4544",
           "2"
          ],
          [
           "RY20240618",
           "4544",
           "3"
          ],
          [
           "RY20240618",
           "4544",
           "4"
          ],
          [
           "RY20240618",
           "4544",
           "5"
          ],
          [
           "RY20240618",
           "4544",
           "6"
          ]
         ],
         "hovertemplate": "treatment_id=%{x}<br>nuclei_cyto_ratio=%{y}<br>experiment_id=%{customdata[0]}<br>mouse_id=%{customdata[1]}<br>replica_id=%{customdata[2]}<extra></extra>",
         "legendgroup": "BCM_60min",
         "marker": {
          "color": "#FFA15A"
         },
         "name": "BCM_60min",
         "notched": false,
         "offsetgroup": "BCM_60min",
         "orientation": "v",
         "showlegend": true,
         "type": "box",
         "x": [
          "BCM_60min",
          "BCM_60min",
          "BCM_60min",
          "BCM_60min",
          "BCM_60min",
          "BCM_60min",
          "BCM_60min",
          "BCM_60min",
          "BCM_60min",
          "BCM_60min",
          "BCM_60min",
          "BCM_60min",
          "BCM_60min",
          "BCM_60min",
          "BCM_60min",
          "BCM_60min",
          "BCM_60min",
          "BCM_60min"
         ],
         "x0": " ",
         "xaxis": "x",
         "y": [
          1.0980173672495834,
          1.10022179502959,
          1.1640626268133492,
          1.2970209660869154,
          0.9491710895976019,
          1.2176028776833043,
          1.3336354713951102,
          1.166799838900828,
          0.9473439319310343,
          1.1288861499827223,
          1.0401699537114029,
          0.9846675178579701,
          1.0973743246260794,
          1.1220067278507608,
          1.1340931053107735,
          0.921691869775103,
          1.1133561145612156,
          1.0603953229605474
         ],
         "y0": " ",
         "yaxis": "y"
        },
        {
         "alignmentgroup": "True",
         "boxpoints": "all",
         "customdata": [
          [
           "RY20240612",
           "4541",
           "1"
          ],
          [
           "RY20240612",
           "4541",
           "2"
          ],
          [
           "RY20240612",
           "4541",
           "3"
          ],
          [
           "RY20240612",
           "4541",
           "4"
          ],
          [
           "RY20240612",
           "4541",
           "5"
          ],
          [
           "RY20240612",
           "4541",
           "6"
          ],
          [
           "RY20240613",
           "4543",
           "1"
          ],
          [
           "RY20240613",
           "4543",
           "2"
          ],
          [
           "RY20240613",
           "4543",
           "3"
          ],
          [
           "RY20240613",
           "4543",
           "4"
          ],
          [
           "RY20240613",
           "4543",
           "5"
          ],
          [
           "RY20240613",
           "4543",
           "6"
          ],
          [
           "RY20240618",
           "4544",
           "1"
          ],
          [
           "RY20240618",
           "4544",
           "2"
          ],
          [
           "RY20240619",
           "4544",
           "3"
          ],
          [
           "RY20240619",
           "4544",
           "4"
          ],
          [
           "RY20240619",
           "4544",
           "5"
          ],
          [
           "RY20240619",
           "4544",
           "6"
          ]
         ],
         "hovertemplate": "treatment_id=%{x}<br>nuclei_cyto_ratio=%{y}<br>experiment_id=%{customdata[0]}<br>mouse_id=%{customdata[1]}<br>replica_id=%{customdata[2]}<extra></extra>",
         "legendgroup": "MSN_60min",
         "marker": {
          "color": "#19d3f3"
         },
         "name": "MSN_60min",
         "notched": false,
         "offsetgroup": "MSN_60min",
         "orientation": "v",
         "showlegend": true,
         "type": "box",
         "x": [
          "MSN_60min",
          "MSN_60min",
          "MSN_60min",
          "MSN_60min",
          "MSN_60min",
          "MSN_60min",
          "MSN_60min",
          "MSN_60min",
          "MSN_60min",
          "MSN_60min",
          "MSN_60min",
          "MSN_60min",
          "MSN_60min",
          "MSN_60min",
          "MSN_60min",
          "MSN_60min",
          "MSN_60min",
          "MSN_60min"
         ],
         "x0": " ",
         "xaxis": "x",
         "y": [
          1.1987403335642886,
          1.587435512362901,
          1.1015039874279047,
          1.0105571086097465,
          1.3453535299534418,
          1.0804448649983505,
          1.2323629071253244,
          1.4104158679689878,
          1.1406405723173998,
          1.0794765476026127,
          1.154180062687466,
          1.3431207666867861,
          1.0142065629631725,
          1.1835025112644117,
          0.9578047157980348,
          1.2744450549159019,
          1.4105045780309688,
          1.0053047727897906
         ],
         "y0": " ",
         "yaxis": "y"
        },
        {
         "alignmentgroup": "True",
         "boxpoints": "all",
         "customdata": [
          [
           "RY20240612",
           "4541",
           "1"
          ],
          [
           "RY20240612",
           "4541",
           "2"
          ],
          [
           "RY20240612",
           "4541",
           "3"
          ],
          [
           "RY20240612",
           "4541",
           "4"
          ],
          [
           "RY20240612",
           "4541",
           "5"
          ],
          [
           "RY20240614",
           "4543",
           "1"
          ],
          [
           "RY20240614",
           "4543",
           "2"
          ],
          [
           "RY20240614",
           "4543",
           "3"
          ],
          [
           "RY20240614",
           "4543",
           "4"
          ],
          [
           "RY20240614",
           "4543",
           "5"
          ],
          [
           "RY20240619",
           "4544",
           "1"
          ],
          [
           "RY20240619",
           "4544",
           "2"
          ],
          [
           "RY20240619",
           "4544",
           "3"
          ],
          [
           "RY20240619",
           "4544",
           "4"
          ],
          [
           "RY20240619",
           "4544",
           "5"
          ],
          [
           "RY20240619",
           "4544",
           "6"
          ]
         ],
         "hovertemplate": "treatment_id=%{x}<br>nuclei_cyto_ratio=%{y}<br>experiment_id=%{customdata[0]}<br>mouse_id=%{customdata[1]}<br>replica_id=%{customdata[2]}<extra></extra>",
         "legendgroup": "PGE2_60min",
         "marker": {
          "color": "#FF6692"
         },
         "name": "PGE2_60min",
         "notched": false,
         "offsetgroup": "PGE2_60min",
         "orientation": "v",
         "showlegend": true,
         "type": "box",
         "x": [
          "PGE2_60min",
          "PGE2_60min",
          "PGE2_60min",
          "PGE2_60min",
          "PGE2_60min",
          "PGE2_60min",
          "PGE2_60min",
          "PGE2_60min",
          "PGE2_60min",
          "PGE2_60min",
          "PGE2_60min",
          "PGE2_60min",
          "PGE2_60min",
          "PGE2_60min",
          "PGE2_60min",
          "PGE2_60min"
         ],
         "x0": " ",
         "xaxis": "x",
         "y": [
          1.1040689756039823,
          1.3753983303283948,
          1.4688560238375155,
          1.1492429801979025,
          1.3261052761064662,
          1.012539752754263,
          1.1646836923012036,
          1.552776521381676,
          1.2823125989031798,
          1.4167578903494507,
          1.316114454923224,
          1.3938335933615997,
          1.200320408033756,
          1.0583425049468873,
          1.260916361481855,
          1.2852467653267678
         ],
         "y0": " ",
         "yaxis": "y"
        },
        {
         "alignmentgroup": "True",
         "boxpoints": "all",
         "customdata": [
          [
           "RY20240614",
           "4543",
           "1"
          ],
          [
           "RY20240614",
           "4543",
           "2"
          ],
          [
           "RY20240614",
           "4543",
           "3"
          ],
          [
           "RY20240614",
           "4543",
           "4"
          ],
          [
           "RY20240614",
           "4543",
           "5"
          ]
         ],
         "hovertemplate": "treatment_id=%{x}<br>nuclei_cyto_ratio=%{y}<br>experiment_id=%{customdata[0]}<br>mouse_id=%{customdata[1]}<br>replica_id=%{customdata[2]}<extra></extra>",
         "legendgroup": "dmPGE2_60min",
         "marker": {
          "color": "#B6E880"
         },
         "name": "dmPGE2_60min",
         "notched": false,
         "offsetgroup": "dmPGE2_60min",
         "orientation": "v",
         "showlegend": true,
         "type": "box",
         "x": [
          "dmPGE2_60min",
          "dmPGE2_60min",
          "dmPGE2_60min",
          "dmPGE2_60min",
          "dmPGE2_60min"
         ],
         "x0": " ",
         "xaxis": "x",
         "y": [
          1.4687060329707458,
          1.4933406501207147,
          1.3980983778601725,
          1.4204737363893971,
          1.4761654857982711
         ],
         "y0": " ",
         "yaxis": "y"
        }
       ],
       "layout": {
        "boxmode": "overlay",
        "legend": {
         "title": {
          "text": "treatment_id"
         },
         "tracegroupgap": 0
        },
        "template": {
         "data": {
          "bar": [
           {
            "error_x": {
             "color": "#2a3f5f"
            },
            "error_y": {
             "color": "#2a3f5f"
            },
            "marker": {
             "line": {
              "color": "#E5ECF6",
              "width": 0.5
             },
             "pattern": {
              "fillmode": "overlay",
              "size": 10,
              "solidity": 0.2
             }
            },
            "type": "bar"
           }
          ],
          "barpolar": [
           {
            "marker": {
             "line": {
              "color": "#E5ECF6",
              "width": 0.5
             },
             "pattern": {
              "fillmode": "overlay",
              "size": 10,
              "solidity": 0.2
             }
            },
            "type": "barpolar"
           }
          ],
          "carpet": [
           {
            "aaxis": {
             "endlinecolor": "#2a3f5f",
             "gridcolor": "white",
             "linecolor": "white",
             "minorgridcolor": "white",
             "startlinecolor": "#2a3f5f"
            },
            "baxis": {
             "endlinecolor": "#2a3f5f",
             "gridcolor": "white",
             "linecolor": "white",
             "minorgridcolor": "white",
             "startlinecolor": "#2a3f5f"
            },
            "type": "carpet"
           }
          ],
          "choropleth": [
           {
            "colorbar": {
             "outlinewidth": 0,
             "ticks": ""
            },
            "type": "choropleth"
           }
          ],
          "contour": [
           {
            "colorbar": {
             "outlinewidth": 0,
             "ticks": ""
            },
            "colorscale": [
             [
              0,
              "#0d0887"
             ],
             [
              0.1111111111111111,
              "#46039f"
             ],
             [
              0.2222222222222222,
              "#7201a8"
             ],
             [
              0.3333333333333333,
              "#9c179e"
             ],
             [
              0.4444444444444444,
              "#bd3786"
             ],
             [
              0.5555555555555556,
              "#d8576b"
             ],
             [
              0.6666666666666666,
              "#ed7953"
             ],
             [
              0.7777777777777778,
              "#fb9f3a"
             ],
             [
              0.8888888888888888,
              "#fdca26"
             ],
             [
              1,
              "#f0f921"
             ]
            ],
            "type": "contour"
           }
          ],
          "contourcarpet": [
           {
            "colorbar": {
             "outlinewidth": 0,
             "ticks": ""
            },
            "type": "contourcarpet"
           }
          ],
          "heatmap": [
           {
            "colorbar": {
             "outlinewidth": 0,
             "ticks": ""
            },
            "colorscale": [
             [
              0,
              "#0d0887"
             ],
             [
              0.1111111111111111,
              "#46039f"
             ],
             [
              0.2222222222222222,
              "#7201a8"
             ],
             [
              0.3333333333333333,
              "#9c179e"
             ],
             [
              0.4444444444444444,
              "#bd3786"
             ],
             [
              0.5555555555555556,
              "#d8576b"
             ],
             [
              0.6666666666666666,
              "#ed7953"
             ],
             [
              0.7777777777777778,
              "#fb9f3a"
             ],
             [
              0.8888888888888888,
              "#fdca26"
             ],
             [
              1,
              "#f0f921"
             ]
            ],
            "type": "heatmap"
           }
          ],
          "heatmapgl": [
           {
            "colorbar": {
             "outlinewidth": 0,
             "ticks": ""
            },
            "colorscale": [
             [
              0,
              "#0d0887"
             ],
             [
              0.1111111111111111,
              "#46039f"
             ],
             [
              0.2222222222222222,
              "#7201a8"
             ],
             [
              0.3333333333333333,
              "#9c179e"
             ],
             [
              0.4444444444444444,
              "#bd3786"
             ],
             [
              0.5555555555555556,
              "#d8576b"
             ],
             [
              0.6666666666666666,
              "#ed7953"
             ],
             [
              0.7777777777777778,
              "#fb9f3a"
             ],
             [
              0.8888888888888888,
              "#fdca26"
             ],
             [
              1,
              "#f0f921"
             ]
            ],
            "type": "heatmapgl"
           }
          ],
          "histogram": [
           {
            "marker": {
             "pattern": {
              "fillmode": "overlay",
              "size": 10,
              "solidity": 0.2
             }
            },
            "type": "histogram"
           }
          ],
          "histogram2d": [
           {
            "colorbar": {
             "outlinewidth": 0,
             "ticks": ""
            },
            "colorscale": [
             [
              0,
              "#0d0887"
             ],
             [
              0.1111111111111111,
              "#46039f"
             ],
             [
              0.2222222222222222,
              "#7201a8"
             ],
             [
              0.3333333333333333,
              "#9c179e"
             ],
             [
              0.4444444444444444,
              "#bd3786"
             ],
             [
              0.5555555555555556,
              "#d8576b"
             ],
             [
              0.6666666666666666,
              "#ed7953"
             ],
             [
              0.7777777777777778,
              "#fb9f3a"
             ],
             [
              0.8888888888888888,
              "#fdca26"
             ],
             [
              1,
              "#f0f921"
             ]
            ],
            "type": "histogram2d"
           }
          ],
          "histogram2dcontour": [
           {
            "colorbar": {
             "outlinewidth": 0,
             "ticks": ""
            },
            "colorscale": [
             [
              0,
              "#0d0887"
             ],
             [
              0.1111111111111111,
              "#46039f"
             ],
             [
              0.2222222222222222,
              "#7201a8"
             ],
             [
              0.3333333333333333,
              "#9c179e"
             ],
             [
              0.4444444444444444,
              "#bd3786"
             ],
             [
              0.5555555555555556,
              "#d8576b"
             ],
             [
              0.6666666666666666,
              "#ed7953"
             ],
             [
              0.7777777777777778,
              "#fb9f3a"
             ],
             [
              0.8888888888888888,
              "#fdca26"
             ],
             [
              1,
              "#f0f921"
             ]
            ],
            "type": "histogram2dcontour"
           }
          ],
          "mesh3d": [
           {
            "colorbar": {
             "outlinewidth": 0,
             "ticks": ""
            },
            "type": "mesh3d"
           }
          ],
          "parcoords": [
           {
            "line": {
             "colorbar": {
              "outlinewidth": 0,
              "ticks": ""
             }
            },
            "type": "parcoords"
           }
          ],
          "pie": [
           {
            "automargin": true,
            "type": "pie"
           }
          ],
          "scatter": [
           {
            "fillpattern": {
             "fillmode": "overlay",
             "size": 10,
             "solidity": 0.2
            },
            "type": "scatter"
           }
          ],
          "scatter3d": [
           {
            "line": {
             "colorbar": {
              "outlinewidth": 0,
              "ticks": ""
             }
            },
            "marker": {
             "colorbar": {
              "outlinewidth": 0,
              "ticks": ""
             }
            },
            "type": "scatter3d"
           }
          ],
          "scattercarpet": [
           {
            "marker": {
             "colorbar": {
              "outlinewidth": 0,
              "ticks": ""
             }
            },
            "type": "scattercarpet"
           }
          ],
          "scattergeo": [
           {
            "marker": {
             "colorbar": {
              "outlinewidth": 0,
              "ticks": ""
             }
            },
            "type": "scattergeo"
           }
          ],
          "scattergl": [
           {
            "marker": {
             "colorbar": {
              "outlinewidth": 0,
              "ticks": ""
             }
            },
            "type": "scattergl"
           }
          ],
          "scattermapbox": [
           {
            "marker": {
             "colorbar": {
              "outlinewidth": 0,
              "ticks": ""
             }
            },
            "type": "scattermapbox"
           }
          ],
          "scatterpolar": [
           {
            "marker": {
             "colorbar": {
              "outlinewidth": 0,
              "ticks": ""
             }
            },
            "type": "scatterpolar"
           }
          ],
          "scatterpolargl": [
           {
            "marker": {
             "colorbar": {
              "outlinewidth": 0,
              "ticks": ""
             }
            },
            "type": "scatterpolargl"
           }
          ],
          "scatterternary": [
           {
            "marker": {
             "colorbar": {
              "outlinewidth": 0,
              "ticks": ""
             }
            },
            "type": "scatterternary"
           }
          ],
          "surface": [
           {
            "colorbar": {
             "outlinewidth": 0,
             "ticks": ""
            },
            "colorscale": [
             [
              0,
              "#0d0887"
             ],
             [
              0.1111111111111111,
              "#46039f"
             ],
             [
              0.2222222222222222,
              "#7201a8"
             ],
             [
              0.3333333333333333,
              "#9c179e"
             ],
             [
              0.4444444444444444,
              "#bd3786"
             ],
             [
              0.5555555555555556,
              "#d8576b"
             ],
             [
              0.6666666666666666,
              "#ed7953"
             ],
             [
              0.7777777777777778,
              "#fb9f3a"
             ],
             [
              0.8888888888888888,
              "#fdca26"
             ],
             [
              1,
              "#f0f921"
             ]
            ],
            "type": "surface"
           }
          ],
          "table": [
           {
            "cells": {
             "fill": {
              "color": "#EBF0F8"
             },
             "line": {
              "color": "white"
             }
            },
            "header": {
             "fill": {
              "color": "#C8D4E3"
             },
             "line": {
              "color": "white"
             }
            },
            "type": "table"
           }
          ]
         },
         "layout": {
          "annotationdefaults": {
           "arrowcolor": "#2a3f5f",
           "arrowhead": 0,
           "arrowwidth": 1
          },
          "autotypenumbers": "strict",
          "coloraxis": {
           "colorbar": {
            "outlinewidth": 0,
            "ticks": ""
           }
          },
          "colorscale": {
           "diverging": [
            [
             0,
             "#8e0152"
            ],
            [
             0.1,
             "#c51b7d"
            ],
            [
             0.2,
             "#de77ae"
            ],
            [
             0.3,
             "#f1b6da"
            ],
            [
             0.4,
             "#fde0ef"
            ],
            [
             0.5,
             "#f7f7f7"
            ],
            [
             0.6,
             "#e6f5d0"
            ],
            [
             0.7,
             "#b8e186"
            ],
            [
             0.8,
             "#7fbc41"
            ],
            [
             0.9,
             "#4d9221"
            ],
            [
             1,
             "#276419"
            ]
           ],
           "sequential": [
            [
             0,
             "#0d0887"
            ],
            [
             0.1111111111111111,
             "#46039f"
            ],
            [
             0.2222222222222222,
             "#7201a8"
            ],
            [
             0.3333333333333333,
             "#9c179e"
            ],
            [
             0.4444444444444444,
             "#bd3786"
            ],
            [
             0.5555555555555556,
             "#d8576b"
            ],
            [
             0.6666666666666666,
             "#ed7953"
            ],
            [
             0.7777777777777778,
             "#fb9f3a"
            ],
            [
             0.8888888888888888,
             "#fdca26"
            ],
            [
             1,
             "#f0f921"
            ]
           ],
           "sequentialminus": [
            [
             0,
             "#0d0887"
            ],
            [
             0.1111111111111111,
             "#46039f"
            ],
            [
             0.2222222222222222,
             "#7201a8"
            ],
            [
             0.3333333333333333,
             "#9c179e"
            ],
            [
             0.4444444444444444,
             "#bd3786"
            ],
            [
             0.5555555555555556,
             "#d8576b"
            ],
            [
             0.6666666666666666,
             "#ed7953"
            ],
            [
             0.7777777777777778,
             "#fb9f3a"
            ],
            [
             0.8888888888888888,
             "#fdca26"
            ],
            [
             1,
             "#f0f921"
            ]
           ]
          },
          "colorway": [
           "#636efa",
           "#EF553B",
           "#00cc96",
           "#ab63fa",
           "#FFA15A",
           "#19d3f3",
           "#FF6692",
           "#B6E880",
           "#FF97FF",
           "#FECB52"
          ],
          "font": {
           "color": "#2a3f5f"
          },
          "geo": {
           "bgcolor": "white",
           "lakecolor": "white",
           "landcolor": "#E5ECF6",
           "showlakes": true,
           "showland": true,
           "subunitcolor": "white"
          },
          "hoverlabel": {
           "align": "left"
          },
          "hovermode": "closest",
          "mapbox": {
           "style": "light"
          },
          "paper_bgcolor": "white",
          "plot_bgcolor": "#E5ECF6",
          "polar": {
           "angularaxis": {
            "gridcolor": "white",
            "linecolor": "white",
            "ticks": ""
           },
           "bgcolor": "#E5ECF6",
           "radialaxis": {
            "gridcolor": "white",
            "linecolor": "white",
            "ticks": ""
           }
          },
          "scene": {
           "xaxis": {
            "backgroundcolor": "#E5ECF6",
            "gridcolor": "white",
            "gridwidth": 2,
            "linecolor": "white",
            "showbackground": true,
            "ticks": "",
            "zerolinecolor": "white"
           },
           "yaxis": {
            "backgroundcolor": "#E5ECF6",
            "gridcolor": "white",
            "gridwidth": 2,
            "linecolor": "white",
            "showbackground": true,
            "ticks": "",
            "zerolinecolor": "white"
           },
           "zaxis": {
            "backgroundcolor": "#E5ECF6",
            "gridcolor": "white",
            "gridwidth": 2,
            "linecolor": "white",
            "showbackground": true,
            "ticks": "",
            "zerolinecolor": "white"
           }
          },
          "shapedefaults": {
           "line": {
            "color": "#2a3f5f"
           }
          },
          "ternary": {
           "aaxis": {
            "gridcolor": "white",
            "linecolor": "white",
            "ticks": ""
           },
           "baxis": {
            "gridcolor": "white",
            "linecolor": "white",
            "ticks": ""
           },
           "bgcolor": "#E5ECF6",
           "caxis": {
            "gridcolor": "white",
            "linecolor": "white",
            "ticks": ""
           }
          },
          "title": {
           "x": 0.05
          },
          "xaxis": {
           "automargin": true,
           "gridcolor": "white",
           "linecolor": "white",
           "ticks": "",
           "title": {
            "standoff": 15
           },
           "zerolinecolor": "white",
           "zerolinewidth": 2
          },
          "yaxis": {
           "automargin": true,
           "gridcolor": "white",
           "linecolor": "white",
           "ticks": "",
           "title": {
            "standoff": 15
           },
           "zerolinecolor": "white",
           "zerolinewidth": 2
          }
         }
        },
        "title": {
         "text": "YAP Nuclear/Cytoplasmic signal Ratio by Treatment ID"
        },
        "xaxis": {
         "anchor": "y",
         "categoryarray": [
          "BCM",
          "MSN",
          "PGE2",
          "dmPGE2",
          "BCM_60min",
          "MSN_60min",
          "PGE2_60min",
          "dmPGE2_60min"
         ],
         "categoryorder": "array",
         "domain": [
          0,
          1
         ],
         "title": {
          "text": "treatment_id"
         }
        },
        "yaxis": {
         "anchor": "x",
         "domain": [
          0,
          1
         ],
         "title": {
          "text": "nuclei_cyto_ratio"
         }
        }
       }
      }
     },
     "metadata": {},
     "output_type": "display_data"
    }
   ],
   "source": [
    "# Create the box plot\n",
    "fig = px.box(\n",
    "    grouped_df,\n",
    "    x='treatment_id',\n",
    "    y='nuclei_cyto_ratio',\n",
    "    color='treatment_id',\n",
    "    points=\"all\",  # Display all points\n",
    "    hover_data=['experiment_id', 'mouse_id', 'replica_id'],\n",
    "    title='YAP Nuclear/Cytoplasmic signal Ratio by Treatment ID'\n",
    ")\n",
    "\n",
    "# Show the plot\n",
    "fig.show()"
   ]
  }
 ],
 "metadata": {
  "kernelspec": {
   "display_name": "microglia_GPU",
   "language": "python",
   "name": "python3"
  },
  "language_info": {
   "codemirror_mode": {
    "name": "ipython",
    "version": 3
   },
   "file_extension": ".py",
   "mimetype": "text/x-python",
   "name": "python",
   "nbconvert_exporter": "python",
   "pygments_lexer": "ipython3",
   "version": "3.9.19"
  }
 },
 "nbformat": 4,
 "nbformat_minor": 2
}
