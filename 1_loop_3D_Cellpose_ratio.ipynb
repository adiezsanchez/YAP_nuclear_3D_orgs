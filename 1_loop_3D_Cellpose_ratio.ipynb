{
 "cells": [
  {
   "cell_type": "markdown",
   "metadata": {},
   "source": [
    "<h3>Nuclear segmentation of 3D stacks of intestinal organoids, nuclei labeling using Voronoi-Otsu. Measurement of YAP signal in the nuclei</h3>"
   ]
  },
  {
   "cell_type": "code",
   "execution_count": 15,
   "metadata": {},
   "outputs": [],
   "source": [
    "from utils import extract_scaling_metadata\n",
    "import os\n",
    "from tqdm import tqdm\n",
    "from pathlib import Path\n",
    "import czifile\n",
    "import numpy as np\n",
    "from skimage.measure import regionprops_table\n",
    "import pandas as pd\n",
    "import pyclesperanto_prototype as cle\n",
    "import plotly.express as px\n",
    "\n",
    "cle.select_device(\"RTX\")"
   ]
  },
  {
   "cell_type": "code",
   "execution_count": 2,
   "metadata": {},
   "outputs": [
    {
     "data": {
      "text/plain": [
       "117"
      ]
     },
     "execution_count": 2,
     "metadata": {},
     "output_type": "execute_result"
    }
   ],
   "source": [
    "directory_path = Path(\"./raw_data/\")\n",
    "images = []\n",
    "\n",
    "# Iterate through the lsm files in the directory\n",
    "for file_path in directory_path.glob(\"*.czi\"):\n",
    "    # Remove Control and Isotype stainings from the analysis\n",
    "    if \"Control\" and \"Isotype\" not in file_path.stem:\n",
    "        images.append(str(file_path))\n",
    "    \n",
    "len(images)"
   ]
  },
  {
   "cell_type": "code",
   "execution_count": 3,
   "metadata": {},
   "outputs": [
    {
     "name": "stderr",
     "output_type": "stream",
     "text": [
      "100%|██████████| 117/117 [02:38<00:00,  1.36s/it]\n"
     ]
    }
   ],
   "source": [
    "# Initialize an empty list to store per image dataframe\n",
    "dataframes = []\n",
    "\n",
    "for image in tqdm(images):\n",
    "\n",
    "    # Read path storing raw image and extract filename\n",
    "    file_path = Path(image)\n",
    "    filename = file_path.stem\n",
    "\n",
    "    # Read the image file and remove singleton dimensions\n",
    "    img = czifile.imread(image)\n",
    "    img = img.squeeze()\n",
    "\n",
    "    # Extract experiment, mouse, treatment and replica ids\n",
    "    experiment_id = filename.split(\" \")[0]\n",
    "    mouse_id = filename.split(\" \")[1]\n",
    "    treatment_id = filename.split(\" \")[2]\n",
    "    replica_id = filename.split(\" \")[-1]\n",
    "\n",
    "    # Image size reduction to improve processing times (slicing, not lossless compression)\n",
    "    slicing_factor = None # Use 2 or 4 for compression (None for lossless)\n",
    "\n",
    "    # Extract the stack containing the UEA-1 (0), YAP (1), nuclei (2) and BCAT (3) channels.\n",
    "    uea1_stack = img[0, :, ::slicing_factor, ::slicing_factor]\n",
    "    yap_stack = img[1, :, ::slicing_factor, ::slicing_factor]\n",
    "    nuclei_stack = img[2, :, ::slicing_factor, ::slicing_factor]\n",
    "    bcat_stack = img[3, :, ::slicing_factor, ::slicing_factor]\n",
    "\n",
    "    # Extract x,y,z scaling from .czi file metadata in order to make data isotropic\n",
    "    scaling_x_um, scaling_y_um, scaling_z_um = extract_scaling_metadata(file_path)\n",
    "\n",
    "    # Resample nuclei stack for Voronoi-Otsu labeling\n",
    "    resampled_nuclei = cle.scale(nuclei_stack, factor_x=scaling_x_um, factor_y=scaling_y_um, factor_z=scaling_z_um, auto_size=True)\n",
    "    background_subtracted = cle.top_hat_box(resampled_nuclei, radius_x=5, radius_y=5, radius_z=5)\n",
    "    segmented = cle.voronoi_otsu_labeling(background_subtracted, spot_sigma=2, outline_sigma=2)\n",
    "    del background_subtracted\n",
    "\n",
    "    # Resample yap to perform intensity measurment within the nuclei labels\n",
    "    resampled_yap = cle.scale(yap_stack, factor_x=scaling_x_um, factor_y=scaling_y_um, factor_z=scaling_z_um, auto_size=True)\n",
    "\n",
    "    # Pull OCL arrays from GPU memory and transform into numpy arrays to be fed into regionprops extraction by skimage        \n",
    "    nuclei_labels_3d = cle.pull(segmented)\n",
    "    resampled_yap = cle.pull(resampled_yap)\n",
    "\n",
    "    # Extract regionprops\n",
    "    props = regionprops_table(label_image=nuclei_labels_3d, intensity_image=resampled_yap, properties=[\"label\", \"intensity_mean\", \"area_filled\"])\n",
    "\n",
    "    # Construct a dataframe for the extracted props\n",
    "    df = pd.DataFrame(props)\n",
    "\n",
    "    # Add extracted id info to the dataframe\n",
    "    df['experiment_id'] = experiment_id\n",
    "    df['mouse_id'] = mouse_id\n",
    "    df['treatment_id'] = treatment_id\n",
    "    df['replica_id'] = replica_id\n",
    "\n",
    "    dataframes.append(df)\n",
    "\n"
   ]
  },
  {
   "cell_type": "code",
   "execution_count": 6,
   "metadata": {},
   "outputs": [
    {
     "name": "stdout",
     "output_type": "stream",
     "text": [
      "'results' folder created successfully.\n"
     ]
    }
   ],
   "source": [
    "# Concatenate list of dataframes into a single final df\n",
    "final_df = pd.concat(dataframes)\n",
    "\n",
    "# Create a 'results' folder in the root directory\n",
    "results_folder = 'results'\n",
    "\n",
    "try:\n",
    "    os.makedirs(results_folder)\n",
    "    print(f\"'{results_folder}' folder created successfully.\")\n",
    "except FileExistsError:\n",
    "    print(f\"'{results_folder}' folder already exists.\")\n",
    "\n",
    "# Save the df containing per_label results into a CSV file\n",
    "final_df.to_csv('./results/per_label_results.csv')"
   ]
  },
  {
   "cell_type": "code",
   "execution_count": 9,
   "metadata": {},
   "outputs": [],
   "source": [
    "# Grouping by the specified columns and calculating the mean of intensity_mean and area_filled\n",
    "grouped_df = final_df.groupby(['experiment_id', 'mouse_id', 'treatment_id', 'replica_id']).agg({\n",
    "    'intensity_mean': 'mean',\n",
    "    'area_filled': 'mean'\n",
    "}).reset_index()\n",
    "\n",
    "grouped_df.to_csv('./results/average_nuclear_intensity.csv')"
   ]
  },
  {
   "cell_type": "code",
   "execution_count": 10,
   "metadata": {},
   "outputs": [
    {
     "data": {
      "text/html": [
       "<div>\n",
       "<style scoped>\n",
       "    .dataframe tbody tr th:only-of-type {\n",
       "        vertical-align: middle;\n",
       "    }\n",
       "\n",
       "    .dataframe tbody tr th {\n",
       "        vertical-align: top;\n",
       "    }\n",
       "\n",
       "    .dataframe thead th {\n",
       "        text-align: right;\n",
       "    }\n",
       "</style>\n",
       "<table border=\"1\" class=\"dataframe\">\n",
       "  <thead>\n",
       "    <tr style=\"text-align: right;\">\n",
       "      <th></th>\n",
       "      <th>experiment_id</th>\n",
       "      <th>mouse_id</th>\n",
       "      <th>treatment_id</th>\n",
       "      <th>replica_id</th>\n",
       "      <th>intensity_mean</th>\n",
       "      <th>area_filled</th>\n",
       "    </tr>\n",
       "  </thead>\n",
       "  <tbody>\n",
       "    <tr>\n",
       "      <th>0</th>\n",
       "      <td>RY20240607</td>\n",
       "      <td>4541</td>\n",
       "      <td>BCM</td>\n",
       "      <td>1</td>\n",
       "      <td>22.046294</td>\n",
       "      <td>1105.362069</td>\n",
       "    </tr>\n",
       "    <tr>\n",
       "      <th>1</th>\n",
       "      <td>RY20240607</td>\n",
       "      <td>4541</td>\n",
       "      <td>BCM</td>\n",
       "      <td>2</td>\n",
       "      <td>18.625787</td>\n",
       "      <td>1095.475436</td>\n",
       "    </tr>\n",
       "    <tr>\n",
       "      <th>2</th>\n",
       "      <td>RY20240607</td>\n",
       "      <td>4541</td>\n",
       "      <td>BCM</td>\n",
       "      <td>3</td>\n",
       "      <td>15.034235</td>\n",
       "      <td>1495.311927</td>\n",
       "    </tr>\n",
       "    <tr>\n",
       "      <th>3</th>\n",
       "      <td>RY20240607</td>\n",
       "      <td>4541</td>\n",
       "      <td>BCM</td>\n",
       "      <td>4</td>\n",
       "      <td>17.584209</td>\n",
       "      <td>1103.004975</td>\n",
       "    </tr>\n",
       "    <tr>\n",
       "      <th>4</th>\n",
       "      <td>RY20240607</td>\n",
       "      <td>4541</td>\n",
       "      <td>BCM</td>\n",
       "      <td>5</td>\n",
       "      <td>18.951698</td>\n",
       "      <td>1123.169435</td>\n",
       "    </tr>\n",
       "    <tr>\n",
       "      <th>...</th>\n",
       "      <td>...</td>\n",
       "      <td>...</td>\n",
       "      <td>...</td>\n",
       "      <td>...</td>\n",
       "      <td>...</td>\n",
       "      <td>...</td>\n",
       "    </tr>\n",
       "    <tr>\n",
       "      <th>109</th>\n",
       "      <td>RY20240619</td>\n",
       "      <td>4544</td>\n",
       "      <td>PGE2_60min</td>\n",
       "      <td>2</td>\n",
       "      <td>30.450087</td>\n",
       "      <td>936.651562</td>\n",
       "    </tr>\n",
       "    <tr>\n",
       "      <th>110</th>\n",
       "      <td>RY20240619</td>\n",
       "      <td>4544</td>\n",
       "      <td>PGE2_60min</td>\n",
       "      <td>3</td>\n",
       "      <td>30.682754</td>\n",
       "      <td>906.425878</td>\n",
       "    </tr>\n",
       "    <tr>\n",
       "      <th>111</th>\n",
       "      <td>RY20240619</td>\n",
       "      <td>4544</td>\n",
       "      <td>PGE2_60min</td>\n",
       "      <td>4</td>\n",
       "      <td>25.267632</td>\n",
       "      <td>967.930661</td>\n",
       "    </tr>\n",
       "    <tr>\n",
       "      <th>112</th>\n",
       "      <td>RY20240619</td>\n",
       "      <td>4544</td>\n",
       "      <td>PGE2_60min</td>\n",
       "      <td>5</td>\n",
       "      <td>32.678753</td>\n",
       "      <td>939.852286</td>\n",
       "    </tr>\n",
       "    <tr>\n",
       "      <th>113</th>\n",
       "      <td>RY20240619</td>\n",
       "      <td>4544</td>\n",
       "      <td>PGE2_60min</td>\n",
       "      <td>6</td>\n",
       "      <td>21.991590</td>\n",
       "      <td>862.257969</td>\n",
       "    </tr>\n",
       "  </tbody>\n",
       "</table>\n",
       "<p>114 rows × 6 columns</p>\n",
       "</div>"
      ],
      "text/plain": [
       "    experiment_id mouse_id treatment_id replica_id  intensity_mean  \\\n",
       "0      RY20240607     4541          BCM          1       22.046294   \n",
       "1      RY20240607     4541          BCM          2       18.625787   \n",
       "2      RY20240607     4541          BCM          3       15.034235   \n",
       "3      RY20240607     4541          BCM          4       17.584209   \n",
       "4      RY20240607     4541          BCM          5       18.951698   \n",
       "..            ...      ...          ...        ...             ...   \n",
       "109    RY20240619     4544   PGE2_60min          2       30.450087   \n",
       "110    RY20240619     4544   PGE2_60min          3       30.682754   \n",
       "111    RY20240619     4544   PGE2_60min          4       25.267632   \n",
       "112    RY20240619     4544   PGE2_60min          5       32.678753   \n",
       "113    RY20240619     4544   PGE2_60min          6       21.991590   \n",
       "\n",
       "     area_filled  \n",
       "0    1105.362069  \n",
       "1    1095.475436  \n",
       "2    1495.311927  \n",
       "3    1103.004975  \n",
       "4    1123.169435  \n",
       "..           ...  \n",
       "109   936.651562  \n",
       "110   906.425878  \n",
       "111   967.930661  \n",
       "112   939.852286  \n",
       "113   862.257969  \n",
       "\n",
       "[114 rows x 6 columns]"
      ]
     },
     "execution_count": 10,
     "metadata": {},
     "output_type": "execute_result"
    }
   ],
   "source": [
    "grouped_df"
   ]
  },
  {
   "cell_type": "code",
   "execution_count": 14,
   "metadata": {},
   "outputs": [
    {
     "data": {
      "application/vnd.plotly.v1+json": {
       "config": {
        "plotlyServerURL": "https://plot.ly"
       },
       "data": [
        {
         "alignmentgroup": "True",
         "boxpoints": "all",
         "customdata": [
          [
           "RY20240607",
           "4541",
           "1"
          ],
          [
           "RY20240607",
           "4541",
           "2"
          ],
          [
           "RY20240607",
           "4541",
           "3"
          ],
          [
           "RY20240607",
           "4541",
           "4"
          ],
          [
           "RY20240607",
           "4541",
           "5"
          ],
          [
           "RY20240607",
           "4541",
           "6"
          ],
          [
           "RY20240608",
           "4543",
           "1"
          ],
          [
           "RY20240608",
           "4543",
           "2"
          ],
          [
           "RY20240608",
           "4543",
           "3"
          ],
          [
           "RY20240608",
           "4543",
           "4"
          ],
          [
           "RY20240608",
           "4543",
           "5"
          ],
          [
           "RY20240608",
           "4543",
           "6"
          ],
          [
           "RY20240611",
           "4544",
           "1"
          ],
          [
           "RY20240611",
           "4544",
           "2"
          ],
          [
           "RY20240611",
           "4544",
           "3"
          ],
          [
           "RY20240611",
           "4544",
           "4"
          ],
          [
           "RY20240611",
           "4544",
           "5"
          ]
         ],
         "hovertemplate": "treatment_id=%{x}<br>intensity_mean=%{y}<br>experiment_id=%{customdata[0]}<br>mouse_id=%{customdata[1]}<br>replica_id=%{customdata[2]}<extra></extra>",
         "legendgroup": "BCM",
         "marker": {
          "color": "#636efa"
         },
         "name": "BCM",
         "notched": false,
         "offsetgroup": "BCM",
         "orientation": "v",
         "showlegend": true,
         "type": "box",
         "x": [
          "BCM",
          "BCM",
          "BCM",
          "BCM",
          "BCM",
          "BCM",
          "BCM",
          "BCM",
          "BCM",
          "BCM",
          "BCM",
          "BCM",
          "BCM",
          "BCM",
          "BCM",
          "BCM",
          "BCM"
         ],
         "x0": " ",
         "xaxis": "x",
         "y": [
          22.0462944000103,
          18.625786605141997,
          15.034234768252489,
          17.584209143818907,
          18.95169813693362,
          8.990230235635305,
          17.162865216010495,
          19.83358426329541,
          25.204368285268636,
          23.087737009881838,
          20.338555492376607,
          34.315154243513796,
          28.133468527301233,
          30.345850298314012,
          27.98939096237895,
          14.670212703124847,
          23.2141090571203
         ],
         "y0": " ",
         "yaxis": "y"
        },
        {
         "alignmentgroup": "True",
         "boxpoints": "all",
         "customdata": [
          [
           "RY20240607",
           "4541",
           "1"
          ],
          [
           "RY20240607",
           "4541",
           "2"
          ],
          [
           "RY20240607",
           "4541",
           "3"
          ],
          [
           "RY20240607",
           "4541",
           "4"
          ],
          [
           "RY20240607",
           "4541",
           "5"
          ],
          [
           "RY20240607",
           "4541",
           "6"
          ],
          [
           "RY20240608",
           "4543",
           "1"
          ],
          [
           "RY20240608",
           "4543",
           "2"
          ],
          [
           "RY20240608",
           "4543",
           "3"
          ],
          [
           "RY20240608",
           "4543",
           "4"
          ],
          [
           "RY20240608",
           "4543",
           "5"
          ],
          [
           "RY20240608",
           "4543",
           "6"
          ],
          [
           "RY20240608",
           "4543",
           "7"
          ],
          [
           "RY20240611",
           "4544",
           "1"
          ],
          [
           "RY20240611",
           "4544",
           "2"
          ],
          [
           "RY20240611",
           "4544",
           "3"
          ],
          [
           "RY20240611",
           "4544",
           "4"
          ],
          [
           "RY20240611",
           "4544",
           "5"
          ]
         ],
         "hovertemplate": "treatment_id=%{x}<br>intensity_mean=%{y}<br>experiment_id=%{customdata[0]}<br>mouse_id=%{customdata[1]}<br>replica_id=%{customdata[2]}<extra></extra>",
         "legendgroup": "MSN",
         "marker": {
          "color": "#EF553B"
         },
         "name": "MSN",
         "notched": false,
         "offsetgroup": "MSN",
         "orientation": "v",
         "showlegend": true,
         "type": "box",
         "x": [
          "MSN",
          "MSN",
          "MSN",
          "MSN",
          "MSN",
          "MSN",
          "MSN",
          "MSN",
          "MSN",
          "MSN",
          "MSN",
          "MSN",
          "MSN",
          "MSN",
          "MSN",
          "MSN",
          "MSN",
          "MSN"
         ],
         "x0": " ",
         "xaxis": "x",
         "y": [
          22.231966145810006,
          19.635222581013963,
          24.024877186782224,
          34.45708482064128,
          32.09415356302086,
          23.330557288942394,
          25.628700941667592,
          22.344656871583982,
          14.771331259247955,
          19.01563957307988,
          21.830411936683316,
          17.50593094028331,
          41.28656069272847,
          28.671897082707506,
          19.36750681656204,
          23.610081584963776,
          23.618482536459332,
          25.073619078058424
         ],
         "y0": " ",
         "yaxis": "y"
        },
        {
         "alignmentgroup": "True",
         "boxpoints": "all",
         "customdata": [
          [
           "RY20240607",
           "4541",
           "1"
          ],
          [
           "RY20240607",
           "4541",
           "2"
          ],
          [
           "RY20240607",
           "4541",
           "3"
          ],
          [
           "RY20240607",
           "4541",
           "4"
          ],
          [
           "RY20240607",
           "4541",
           "5"
          ],
          [
           "RY20240607",
           "4541",
           "6"
          ],
          [
           "RY20240610",
           "4543",
           "1"
          ],
          [
           "RY20240610",
           "4543",
           "2"
          ],
          [
           "RY20240610",
           "4543",
           "3"
          ],
          [
           "RY20240610",
           "4543",
           "4"
          ],
          [
           "RY20240610",
           "4543",
           "5"
          ],
          [
           "RY20240610",
           "4543",
           "6"
          ],
          [
           "RY20240611",
           "4544",
           "1"
          ],
          [
           "RY20240611",
           "4544",
           "2"
          ],
          [
           "RY20240611",
           "4544",
           "3"
          ],
          [
           "RY20240611",
           "4544",
           "4"
          ],
          [
           "RY20240611",
           "4544",
           "5"
          ]
         ],
         "hovertemplate": "treatment_id=%{x}<br>intensity_mean=%{y}<br>experiment_id=%{customdata[0]}<br>mouse_id=%{customdata[1]}<br>replica_id=%{customdata[2]}<extra></extra>",
         "legendgroup": "PGE2",
         "marker": {
          "color": "#00cc96"
         },
         "name": "PGE2",
         "notched": false,
         "offsetgroup": "PGE2",
         "orientation": "v",
         "showlegend": true,
         "type": "box",
         "x": [
          "PGE2",
          "PGE2",
          "PGE2",
          "PGE2",
          "PGE2",
          "PGE2",
          "PGE2",
          "PGE2",
          "PGE2",
          "PGE2",
          "PGE2",
          "PGE2",
          "PGE2",
          "PGE2",
          "PGE2",
          "PGE2",
          "PGE2"
         ],
         "x0": " ",
         "xaxis": "x",
         "y": [
          19.006295974885433,
          15.703237786186712,
          21.238019703518315,
          35.539943024231114,
          18.856538362282294,
          22.578641347759994,
          26.658027155793828,
          19.900462145314062,
          13.391234888376843,
          17.708096309932994,
          20.405944529545508,
          17.25610500264308,
          16.589119225520083,
          24.63479230044548,
          15.617311973749342,
          16.807203384760562,
          6.415616120709556
         ],
         "y0": " ",
         "yaxis": "y"
        },
        {
         "alignmentgroup": "True",
         "boxpoints": "all",
         "customdata": [
          [
           "RY20240610",
           "4543",
           "1"
          ],
          [
           "RY20240610",
           "4543",
           "2"
          ],
          [
           "RY20240610",
           "4543",
           "3"
          ],
          [
           "RY20240610",
           "4543",
           "4"
          ],
          [
           "RY20240610",
           "4543",
           "5"
          ]
         ],
         "hovertemplate": "treatment_id=%{x}<br>intensity_mean=%{y}<br>experiment_id=%{customdata[0]}<br>mouse_id=%{customdata[1]}<br>replica_id=%{customdata[2]}<extra></extra>",
         "legendgroup": "dmPGE2",
         "marker": {
          "color": "#ab63fa"
         },
         "name": "dmPGE2",
         "notched": false,
         "offsetgroup": "dmPGE2",
         "orientation": "v",
         "showlegend": true,
         "type": "box",
         "x": [
          "dmPGE2",
          "dmPGE2",
          "dmPGE2",
          "dmPGE2",
          "dmPGE2"
         ],
         "x0": " ",
         "xaxis": "x",
         "y": [
          17.759102236292634,
          21.83633656602917,
          26.336474905686547,
          23.754026600948517,
          23.60830602188443
         ],
         "y0": " ",
         "yaxis": "y"
        },
        {
         "alignmentgroup": "True",
         "boxpoints": "all",
         "customdata": [
          [
           "RY20240611",
           "4541",
           "1"
          ],
          [
           "RY20240611",
           "4541",
           "2"
          ],
          [
           "RY20240611",
           "4541",
           "3"
          ],
          [
           "RY20240611",
           "4541",
           "4"
          ],
          [
           "RY20240612",
           "4541",
           "5"
          ],
          [
           "RY20240612",
           "4541",
           "6"
          ],
          [
           "RY20240612",
           "4543",
           "1"
          ],
          [
           "RY20240612",
           "4543",
           "2"
          ],
          [
           "RY20240612",
           "4543",
           "3"
          ],
          [
           "RY20240613",
           "4543",
           "4"
          ],
          [
           "RY20240613",
           "4543",
           "5"
          ],
          [
           "RY20240613",
           "4543",
           "6"
          ],
          [
           "RY20240618",
           "4544",
           "1"
          ],
          [
           "RY20240618",
           "4544",
           "2"
          ],
          [
           "RY20240618",
           "4544",
           "3"
          ],
          [
           "RY20240618",
           "4544",
           "4"
          ],
          [
           "RY20240618",
           "4544",
           "5"
          ],
          [
           "RY20240618",
           "4544",
           "6"
          ]
         ],
         "hovertemplate": "treatment_id=%{x}<br>intensity_mean=%{y}<br>experiment_id=%{customdata[0]}<br>mouse_id=%{customdata[1]}<br>replica_id=%{customdata[2]}<extra></extra>",
         "legendgroup": "BCM_60min",
         "marker": {
          "color": "#FFA15A"
         },
         "name": "BCM_60min",
         "notched": false,
         "offsetgroup": "BCM_60min",
         "orientation": "v",
         "showlegend": true,
         "type": "box",
         "x": [
          "BCM_60min",
          "BCM_60min",
          "BCM_60min",
          "BCM_60min",
          "BCM_60min",
          "BCM_60min",
          "BCM_60min",
          "BCM_60min",
          "BCM_60min",
          "BCM_60min",
          "BCM_60min",
          "BCM_60min",
          "BCM_60min",
          "BCM_60min",
          "BCM_60min",
          "BCM_60min",
          "BCM_60min",
          "BCM_60min"
         ],
         "x0": " ",
         "xaxis": "x",
         "y": [
          21.729815215213538,
          25.198707117492702,
          20.710950997268032,
          36.728295009573195,
          17.62409568561334,
          11.669347171532248,
          29.72744378968107,
          26.631526415584236,
          16.329291954496263,
          31.121412876977292,
          20.754134260087348,
          15.546758805008965,
          27.584109880727365,
          27.487367572441492,
          17.91246940301091,
          27.83124623340508,
          29.74260894654277,
          27.25713435033697
         ],
         "y0": " ",
         "yaxis": "y"
        },
        {
         "alignmentgroup": "True",
         "boxpoints": "all",
         "customdata": [
          [
           "RY20240612",
           "4541",
           "1"
          ],
          [
           "RY20240612",
           "4541",
           "2"
          ],
          [
           "RY20240612",
           "4541",
           "3"
          ],
          [
           "RY20240612",
           "4541",
           "4"
          ],
          [
           "RY20240612",
           "4541",
           "5"
          ],
          [
           "RY20240612",
           "4541",
           "6"
          ],
          [
           "RY20240613",
           "4543",
           "1"
          ],
          [
           "RY20240613",
           "4543",
           "2"
          ],
          [
           "RY20240613",
           "4543",
           "3"
          ],
          [
           "RY20240613",
           "4543",
           "4"
          ],
          [
           "RY20240613",
           "4543",
           "5"
          ],
          [
           "RY20240613",
           "4543",
           "6"
          ],
          [
           "RY20240618",
           "4544",
           "1"
          ],
          [
           "RY20240618",
           "4544",
           "2"
          ],
          [
           "RY20240619",
           "4544",
           "3"
          ],
          [
           "RY20240619",
           "4544",
           "4"
          ],
          [
           "RY20240619",
           "4544",
           "5"
          ],
          [
           "RY20240619",
           "4544",
           "6"
          ]
         ],
         "hovertemplate": "treatment_id=%{x}<br>intensity_mean=%{y}<br>experiment_id=%{customdata[0]}<br>mouse_id=%{customdata[1]}<br>replica_id=%{customdata[2]}<extra></extra>",
         "legendgroup": "MSN_60min",
         "marker": {
          "color": "#19d3f3"
         },
         "name": "MSN_60min",
         "notched": false,
         "offsetgroup": "MSN_60min",
         "orientation": "v",
         "showlegend": true,
         "type": "box",
         "x": [
          "MSN_60min",
          "MSN_60min",
          "MSN_60min",
          "MSN_60min",
          "MSN_60min",
          "MSN_60min",
          "MSN_60min",
          "MSN_60min",
          "MSN_60min",
          "MSN_60min",
          "MSN_60min",
          "MSN_60min",
          "MSN_60min",
          "MSN_60min",
          "MSN_60min",
          "MSN_60min",
          "MSN_60min",
          "MSN_60min"
         ],
         "x0": " ",
         "xaxis": "x",
         "y": [
          14.740074336767258,
          11.200574049210646,
          14.57139787091868,
          15.692413621837167,
          18.035311185931242,
          12.86699930766217,
          27.47889276689535,
          25.2505757272998,
          12.10091285336626,
          9.825544961491042,
          16.897615575294488,
          26.716482958074323,
          15.144811767316847,
          29.681005204425137,
          21.260553870311718,
          33.42021448864117,
          32.39355197071044,
          22.51612292054408
         ],
         "y0": " ",
         "yaxis": "y"
        },
        {
         "alignmentgroup": "True",
         "boxpoints": "all",
         "customdata": [
          [
           "RY20240612",
           "4541",
           "1"
          ],
          [
           "RY20240612",
           "4541",
           "2"
          ],
          [
           "RY20240612",
           "4541",
           "3"
          ],
          [
           "RY20240612",
           "4541",
           "4"
          ],
          [
           "RY20240612",
           "4541",
           "5"
          ],
          [
           "RY20240614",
           "4543",
           "1"
          ],
          [
           "RY20240614",
           "4543",
           "2"
          ],
          [
           "RY20240614",
           "4543",
           "3"
          ],
          [
           "RY20240614",
           "4543",
           "4"
          ],
          [
           "RY20240614",
           "4543",
           "5"
          ],
          [
           "RY20240619",
           "4544",
           "1"
          ],
          [
           "RY20240619",
           "4544",
           "2"
          ],
          [
           "RY20240619",
           "4544",
           "3"
          ],
          [
           "RY20240619",
           "4544",
           "4"
          ],
          [
           "RY20240619",
           "4544",
           "5"
          ],
          [
           "RY20240619",
           "4544",
           "6"
          ]
         ],
         "hovertemplate": "treatment_id=%{x}<br>intensity_mean=%{y}<br>experiment_id=%{customdata[0]}<br>mouse_id=%{customdata[1]}<br>replica_id=%{customdata[2]}<extra></extra>",
         "legendgroup": "PGE2_60min",
         "marker": {
          "color": "#FF6692"
         },
         "name": "PGE2_60min",
         "notched": false,
         "offsetgroup": "PGE2_60min",
         "orientation": "v",
         "showlegend": true,
         "type": "box",
         "x": [
          "PGE2_60min",
          "PGE2_60min",
          "PGE2_60min",
          "PGE2_60min",
          "PGE2_60min",
          "PGE2_60min",
          "PGE2_60min",
          "PGE2_60min",
          "PGE2_60min",
          "PGE2_60min",
          "PGE2_60min",
          "PGE2_60min",
          "PGE2_60min",
          "PGE2_60min",
          "PGE2_60min",
          "PGE2_60min"
         ],
         "x0": " ",
         "xaxis": "x",
         "y": [
          14.636513087365056,
          32.859000272019124,
          31.697382930841567,
          16.685351544106005,
          20.549759645979854,
          29.27399319271555,
          22.037520528272104,
          23.996566566274915,
          29.910368745346148,
          41.24343779172463,
          39.949951824250235,
          30.450087376497684,
          30.682754074699776,
          25.26763192319663,
          32.678753452941095,
          21.991589750865373
         ],
         "y0": " ",
         "yaxis": "y"
        },
        {
         "alignmentgroup": "True",
         "boxpoints": "all",
         "customdata": [
          [
           "RY20240614",
           "4543",
           "1"
          ],
          [
           "RY20240614",
           "4543",
           "2"
          ],
          [
           "RY20240614",
           "4543",
           "3"
          ],
          [
           "RY20240614",
           "4543",
           "4"
          ],
          [
           "RY20240614",
           "4543",
           "5"
          ]
         ],
         "hovertemplate": "treatment_id=%{x}<br>intensity_mean=%{y}<br>experiment_id=%{customdata[0]}<br>mouse_id=%{customdata[1]}<br>replica_id=%{customdata[2]}<extra></extra>",
         "legendgroup": "dmPGE2_60min",
         "marker": {
          "color": "#B6E880"
         },
         "name": "dmPGE2_60min",
         "notched": false,
         "offsetgroup": "dmPGE2_60min",
         "orientation": "v",
         "showlegend": true,
         "type": "box",
         "x": [
          "dmPGE2_60min",
          "dmPGE2_60min",
          "dmPGE2_60min",
          "dmPGE2_60min",
          "dmPGE2_60min"
         ],
         "x0": " ",
         "xaxis": "x",
         "y": [
          43.474484674028446,
          37.69698642033797,
          30.892401876294283,
          37.14656931833591,
          30.555044713272725
         ],
         "y0": " ",
         "yaxis": "y"
        }
       ],
       "layout": {
        "boxmode": "overlay",
        "legend": {
         "title": {
          "text": "treatment_id"
         },
         "tracegroupgap": 0
        },
        "template": {
         "data": {
          "bar": [
           {
            "error_x": {
             "color": "#2a3f5f"
            },
            "error_y": {
             "color": "#2a3f5f"
            },
            "marker": {
             "line": {
              "color": "#E5ECF6",
              "width": 0.5
             },
             "pattern": {
              "fillmode": "overlay",
              "size": 10,
              "solidity": 0.2
             }
            },
            "type": "bar"
           }
          ],
          "barpolar": [
           {
            "marker": {
             "line": {
              "color": "#E5ECF6",
              "width": 0.5
             },
             "pattern": {
              "fillmode": "overlay",
              "size": 10,
              "solidity": 0.2
             }
            },
            "type": "barpolar"
           }
          ],
          "carpet": [
           {
            "aaxis": {
             "endlinecolor": "#2a3f5f",
             "gridcolor": "white",
             "linecolor": "white",
             "minorgridcolor": "white",
             "startlinecolor": "#2a3f5f"
            },
            "baxis": {
             "endlinecolor": "#2a3f5f",
             "gridcolor": "white",
             "linecolor": "white",
             "minorgridcolor": "white",
             "startlinecolor": "#2a3f5f"
            },
            "type": "carpet"
           }
          ],
          "choropleth": [
           {
            "colorbar": {
             "outlinewidth": 0,
             "ticks": ""
            },
            "type": "choropleth"
           }
          ],
          "contour": [
           {
            "colorbar": {
             "outlinewidth": 0,
             "ticks": ""
            },
            "colorscale": [
             [
              0,
              "#0d0887"
             ],
             [
              0.1111111111111111,
              "#46039f"
             ],
             [
              0.2222222222222222,
              "#7201a8"
             ],
             [
              0.3333333333333333,
              "#9c179e"
             ],
             [
              0.4444444444444444,
              "#bd3786"
             ],
             [
              0.5555555555555556,
              "#d8576b"
             ],
             [
              0.6666666666666666,
              "#ed7953"
             ],
             [
              0.7777777777777778,
              "#fb9f3a"
             ],
             [
              0.8888888888888888,
              "#fdca26"
             ],
             [
              1,
              "#f0f921"
             ]
            ],
            "type": "contour"
           }
          ],
          "contourcarpet": [
           {
            "colorbar": {
             "outlinewidth": 0,
             "ticks": ""
            },
            "type": "contourcarpet"
           }
          ],
          "heatmap": [
           {
            "colorbar": {
             "outlinewidth": 0,
             "ticks": ""
            },
            "colorscale": [
             [
              0,
              "#0d0887"
             ],
             [
              0.1111111111111111,
              "#46039f"
             ],
             [
              0.2222222222222222,
              "#7201a8"
             ],
             [
              0.3333333333333333,
              "#9c179e"
             ],
             [
              0.4444444444444444,
              "#bd3786"
             ],
             [
              0.5555555555555556,
              "#d8576b"
             ],
             [
              0.6666666666666666,
              "#ed7953"
             ],
             [
              0.7777777777777778,
              "#fb9f3a"
             ],
             [
              0.8888888888888888,
              "#fdca26"
             ],
             [
              1,
              "#f0f921"
             ]
            ],
            "type": "heatmap"
           }
          ],
          "heatmapgl": [
           {
            "colorbar": {
             "outlinewidth": 0,
             "ticks": ""
            },
            "colorscale": [
             [
              0,
              "#0d0887"
             ],
             [
              0.1111111111111111,
              "#46039f"
             ],
             [
              0.2222222222222222,
              "#7201a8"
             ],
             [
              0.3333333333333333,
              "#9c179e"
             ],
             [
              0.4444444444444444,
              "#bd3786"
             ],
             [
              0.5555555555555556,
              "#d8576b"
             ],
             [
              0.6666666666666666,
              "#ed7953"
             ],
             [
              0.7777777777777778,
              "#fb9f3a"
             ],
             [
              0.8888888888888888,
              "#fdca26"
             ],
             [
              1,
              "#f0f921"
             ]
            ],
            "type": "heatmapgl"
           }
          ],
          "histogram": [
           {
            "marker": {
             "pattern": {
              "fillmode": "overlay",
              "size": 10,
              "solidity": 0.2
             }
            },
            "type": "histogram"
           }
          ],
          "histogram2d": [
           {
            "colorbar": {
             "outlinewidth": 0,
             "ticks": ""
            },
            "colorscale": [
             [
              0,
              "#0d0887"
             ],
             [
              0.1111111111111111,
              "#46039f"
             ],
             [
              0.2222222222222222,
              "#7201a8"
             ],
             [
              0.3333333333333333,
              "#9c179e"
             ],
             [
              0.4444444444444444,
              "#bd3786"
             ],
             [
              0.5555555555555556,
              "#d8576b"
             ],
             [
              0.6666666666666666,
              "#ed7953"
             ],
             [
              0.7777777777777778,
              "#fb9f3a"
             ],
             [
              0.8888888888888888,
              "#fdca26"
             ],
             [
              1,
              "#f0f921"
             ]
            ],
            "type": "histogram2d"
           }
          ],
          "histogram2dcontour": [
           {
            "colorbar": {
             "outlinewidth": 0,
             "ticks": ""
            },
            "colorscale": [
             [
              0,
              "#0d0887"
             ],
             [
              0.1111111111111111,
              "#46039f"
             ],
             [
              0.2222222222222222,
              "#7201a8"
             ],
             [
              0.3333333333333333,
              "#9c179e"
             ],
             [
              0.4444444444444444,
              "#bd3786"
             ],
             [
              0.5555555555555556,
              "#d8576b"
             ],
             [
              0.6666666666666666,
              "#ed7953"
             ],
             [
              0.7777777777777778,
              "#fb9f3a"
             ],
             [
              0.8888888888888888,
              "#fdca26"
             ],
             [
              1,
              "#f0f921"
             ]
            ],
            "type": "histogram2dcontour"
           }
          ],
          "mesh3d": [
           {
            "colorbar": {
             "outlinewidth": 0,
             "ticks": ""
            },
            "type": "mesh3d"
           }
          ],
          "parcoords": [
           {
            "line": {
             "colorbar": {
              "outlinewidth": 0,
              "ticks": ""
             }
            },
            "type": "parcoords"
           }
          ],
          "pie": [
           {
            "automargin": true,
            "type": "pie"
           }
          ],
          "scatter": [
           {
            "fillpattern": {
             "fillmode": "overlay",
             "size": 10,
             "solidity": 0.2
            },
            "type": "scatter"
           }
          ],
          "scatter3d": [
           {
            "line": {
             "colorbar": {
              "outlinewidth": 0,
              "ticks": ""
             }
            },
            "marker": {
             "colorbar": {
              "outlinewidth": 0,
              "ticks": ""
             }
            },
            "type": "scatter3d"
           }
          ],
          "scattercarpet": [
           {
            "marker": {
             "colorbar": {
              "outlinewidth": 0,
              "ticks": ""
             }
            },
            "type": "scattercarpet"
           }
          ],
          "scattergeo": [
           {
            "marker": {
             "colorbar": {
              "outlinewidth": 0,
              "ticks": ""
             }
            },
            "type": "scattergeo"
           }
          ],
          "scattergl": [
           {
            "marker": {
             "colorbar": {
              "outlinewidth": 0,
              "ticks": ""
             }
            },
            "type": "scattergl"
           }
          ],
          "scattermapbox": [
           {
            "marker": {
             "colorbar": {
              "outlinewidth": 0,
              "ticks": ""
             }
            },
            "type": "scattermapbox"
           }
          ],
          "scatterpolar": [
           {
            "marker": {
             "colorbar": {
              "outlinewidth": 0,
              "ticks": ""
             }
            },
            "type": "scatterpolar"
           }
          ],
          "scatterpolargl": [
           {
            "marker": {
             "colorbar": {
              "outlinewidth": 0,
              "ticks": ""
             }
            },
            "type": "scatterpolargl"
           }
          ],
          "scatterternary": [
           {
            "marker": {
             "colorbar": {
              "outlinewidth": 0,
              "ticks": ""
             }
            },
            "type": "scatterternary"
           }
          ],
          "surface": [
           {
            "colorbar": {
             "outlinewidth": 0,
             "ticks": ""
            },
            "colorscale": [
             [
              0,
              "#0d0887"
             ],
             [
              0.1111111111111111,
              "#46039f"
             ],
             [
              0.2222222222222222,
              "#7201a8"
             ],
             [
              0.3333333333333333,
              "#9c179e"
             ],
             [
              0.4444444444444444,
              "#bd3786"
             ],
             [
              0.5555555555555556,
              "#d8576b"
             ],
             [
              0.6666666666666666,
              "#ed7953"
             ],
             [
              0.7777777777777778,
              "#fb9f3a"
             ],
             [
              0.8888888888888888,
              "#fdca26"
             ],
             [
              1,
              "#f0f921"
             ]
            ],
            "type": "surface"
           }
          ],
          "table": [
           {
            "cells": {
             "fill": {
              "color": "#EBF0F8"
             },
             "line": {
              "color": "white"
             }
            },
            "header": {
             "fill": {
              "color": "#C8D4E3"
             },
             "line": {
              "color": "white"
             }
            },
            "type": "table"
           }
          ]
         },
         "layout": {
          "annotationdefaults": {
           "arrowcolor": "#2a3f5f",
           "arrowhead": 0,
           "arrowwidth": 1
          },
          "autotypenumbers": "strict",
          "coloraxis": {
           "colorbar": {
            "outlinewidth": 0,
            "ticks": ""
           }
          },
          "colorscale": {
           "diverging": [
            [
             0,
             "#8e0152"
            ],
            [
             0.1,
             "#c51b7d"
            ],
            [
             0.2,
             "#de77ae"
            ],
            [
             0.3,
             "#f1b6da"
            ],
            [
             0.4,
             "#fde0ef"
            ],
            [
             0.5,
             "#f7f7f7"
            ],
            [
             0.6,
             "#e6f5d0"
            ],
            [
             0.7,
             "#b8e186"
            ],
            [
             0.8,
             "#7fbc41"
            ],
            [
             0.9,
             "#4d9221"
            ],
            [
             1,
             "#276419"
            ]
           ],
           "sequential": [
            [
             0,
             "#0d0887"
            ],
            [
             0.1111111111111111,
             "#46039f"
            ],
            [
             0.2222222222222222,
             "#7201a8"
            ],
            [
             0.3333333333333333,
             "#9c179e"
            ],
            [
             0.4444444444444444,
             "#bd3786"
            ],
            [
             0.5555555555555556,
             "#d8576b"
            ],
            [
             0.6666666666666666,
             "#ed7953"
            ],
            [
             0.7777777777777778,
             "#fb9f3a"
            ],
            [
             0.8888888888888888,
             "#fdca26"
            ],
            [
             1,
             "#f0f921"
            ]
           ],
           "sequentialminus": [
            [
             0,
             "#0d0887"
            ],
            [
             0.1111111111111111,
             "#46039f"
            ],
            [
             0.2222222222222222,
             "#7201a8"
            ],
            [
             0.3333333333333333,
             "#9c179e"
            ],
            [
             0.4444444444444444,
             "#bd3786"
            ],
            [
             0.5555555555555556,
             "#d8576b"
            ],
            [
             0.6666666666666666,
             "#ed7953"
            ],
            [
             0.7777777777777778,
             "#fb9f3a"
            ],
            [
             0.8888888888888888,
             "#fdca26"
            ],
            [
             1,
             "#f0f921"
            ]
           ]
          },
          "colorway": [
           "#636efa",
           "#EF553B",
           "#00cc96",
           "#ab63fa",
           "#FFA15A",
           "#19d3f3",
           "#FF6692",
           "#B6E880",
           "#FF97FF",
           "#FECB52"
          ],
          "font": {
           "color": "#2a3f5f"
          },
          "geo": {
           "bgcolor": "white",
           "lakecolor": "white",
           "landcolor": "#E5ECF6",
           "showlakes": true,
           "showland": true,
           "subunitcolor": "white"
          },
          "hoverlabel": {
           "align": "left"
          },
          "hovermode": "closest",
          "mapbox": {
           "style": "light"
          },
          "paper_bgcolor": "white",
          "plot_bgcolor": "#E5ECF6",
          "polar": {
           "angularaxis": {
            "gridcolor": "white",
            "linecolor": "white",
            "ticks": ""
           },
           "bgcolor": "#E5ECF6",
           "radialaxis": {
            "gridcolor": "white",
            "linecolor": "white",
            "ticks": ""
           }
          },
          "scene": {
           "xaxis": {
            "backgroundcolor": "#E5ECF6",
            "gridcolor": "white",
            "gridwidth": 2,
            "linecolor": "white",
            "showbackground": true,
            "ticks": "",
            "zerolinecolor": "white"
           },
           "yaxis": {
            "backgroundcolor": "#E5ECF6",
            "gridcolor": "white",
            "gridwidth": 2,
            "linecolor": "white",
            "showbackground": true,
            "ticks": "",
            "zerolinecolor": "white"
           },
           "zaxis": {
            "backgroundcolor": "#E5ECF6",
            "gridcolor": "white",
            "gridwidth": 2,
            "linecolor": "white",
            "showbackground": true,
            "ticks": "",
            "zerolinecolor": "white"
           }
          },
          "shapedefaults": {
           "line": {
            "color": "#2a3f5f"
           }
          },
          "ternary": {
           "aaxis": {
            "gridcolor": "white",
            "linecolor": "white",
            "ticks": ""
           },
           "baxis": {
            "gridcolor": "white",
            "linecolor": "white",
            "ticks": ""
           },
           "bgcolor": "#E5ECF6",
           "caxis": {
            "gridcolor": "white",
            "linecolor": "white",
            "ticks": ""
           }
          },
          "title": {
           "x": 0.05
          },
          "xaxis": {
           "automargin": true,
           "gridcolor": "white",
           "linecolor": "white",
           "ticks": "",
           "title": {
            "standoff": 15
           },
           "zerolinecolor": "white",
           "zerolinewidth": 2
          },
          "yaxis": {
           "automargin": true,
           "gridcolor": "white",
           "linecolor": "white",
           "ticks": "",
           "title": {
            "standoff": 15
           },
           "zerolinecolor": "white",
           "zerolinewidth": 2
          }
         }
        },
        "title": {
         "text": "YAP Nuclear Intensity Average by Treatment ID"
        },
        "xaxis": {
         "anchor": "y",
         "categoryarray": [
          "BCM",
          "MSN",
          "PGE2",
          "dmPGE2",
          "BCM_60min",
          "MSN_60min",
          "PGE2_60min",
          "dmPGE2_60min"
         ],
         "categoryorder": "array",
         "domain": [
          0,
          1
         ],
         "title": {
          "text": "treatment_id"
         }
        },
        "yaxis": {
         "anchor": "x",
         "domain": [
          0,
          1
         ],
         "title": {
          "text": "intensity_mean"
         }
        }
       }
      }
     },
     "metadata": {},
     "output_type": "display_data"
    }
   ],
   "source": [
    "# Create the box plot\n",
    "fig = px.box(\n",
    "    grouped_df,\n",
    "    x='treatment_id',\n",
    "    y='intensity_mean',\n",
    "    color='treatment_id',\n",
    "    points=\"all\",  # Display all points\n",
    "    hover_data=['experiment_id', 'mouse_id', 'replica_id'],\n",
    "    title='YAP Nuclear Intensity Average by Treatment ID'\n",
    ")\n",
    "\n",
    "# Show the plot\n",
    "fig.show()"
   ]
  }
 ],
 "metadata": {
  "kernelspec": {
   "display_name": "microglia_GPU",
   "language": "python",
   "name": "python3"
  },
  "language_info": {
   "codemirror_mode": {
    "name": "ipython",
    "version": 3
   },
   "file_extension": ".py",
   "mimetype": "text/x-python",
   "name": "python",
   "nbconvert_exporter": "python",
   "pygments_lexer": "ipython3",
   "version": "3.9.19"
  }
 },
 "nbformat": 4,
 "nbformat_minor": 2
}
