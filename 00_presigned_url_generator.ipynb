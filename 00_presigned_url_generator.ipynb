{
 "cells": [
  {
   "cell_type": "code",
   "execution_count": 1,
   "metadata": {},
   "outputs": [
    {
     "name": "stdout",
     "output_type": "stream",
     "text": [
      "Pre-signed URL for PDAC_organoids_caspase_part1.zip: http://129.241.241.254/mhbucket/CMIC/raw_data/PDAC_organoids_caspase_multipart/PDAC_organoids_caspase_part1.zip?AWSAccessKeyId=AKIA8E210FD3550BED0D&Signature=nur%2FhWCnc16WH7EjDYzPUdY%2BL9E%3D&Expires=1711151211\n",
      "S3 Etag for PDAC_organoids_caspase_part1.zip: \"0f8a4a775734a47e95787c0921662461-455\"\n",
      "Pre-signed URL for PDAC_organoids_caspase_part2.zip: http://129.241.241.254/mhbucket/CMIC/raw_data/PDAC_organoids_caspase_multipart/PDAC_organoids_caspase_part2.zip?AWSAccessKeyId=AKIA8E210FD3550BED0D&Signature=8GHVvmG5zmVuGkLOqvRuNezXWzo%3D&Expires=1711151211\n",
      "S3 Etag for PDAC_organoids_caspase_part2.zip: \"a6bbeb0508d1f9cdab2ae759e1a33de0-500\"\n",
      "Pre-signed URL for PDAC_organoids_caspase_part3.zip: http://129.241.241.254/mhbucket/CMIC/raw_data/PDAC_organoids_caspase_multipart/PDAC_organoids_caspase_part3.zip?AWSAccessKeyId=AKIA8E210FD3550BED0D&Signature=sQ32YyW5TMO7IeNxSTkUxTX3yPQ%3D&Expires=1711151211\n",
      "S3 Etag for PDAC_organoids_caspase_part3.zip: \"03b907b46513b7d0bfa308c20486b374-641\"\n",
      "Pre-signed URL for PDAC_organoids_caspase_part4.zip: http://129.241.241.254/mhbucket/CMIC/raw_data/PDAC_organoids_caspase_multipart/PDAC_organoids_caspase_part4.zip?AWSAccessKeyId=AKIA8E210FD3550BED0D&Signature=TLuHbv1nOTboZO1LixCljG1YebM%3D&Expires=1711151211\n",
      "S3 Etag for PDAC_organoids_caspase_part4.zip: \"5046bc1b8997ee07cd33736a278b6875-534\"\n",
      "Pre-signed URL for PDAC_organoids_caspase_part5.zip: http://129.241.241.254/mhbucket/CMIC/raw_data/PDAC_organoids_caspase_multipart/PDAC_organoids_caspase_part5.zip?AWSAccessKeyId=AKIA8E210FD3550BED0D&Signature=DGL4miOCXo9aEMe5Hrr%2BiUXyHXU%3D&Expires=1711151211\n",
      "S3 Etag for PDAC_organoids_caspase_part5.zip: \"dff6487179a5cc0e9b6fc630cdcc5760-551\"\n"
     ]
    }
   ],
   "source": [
    "import boto3\n",
    "from botocore.exceptions import NoCredentialsError\n",
    "\n",
    "# Define the repository for which you want to generate the pre-signed URL containing the raw data\n",
    "repository_url = \"https://github.com/adiezsanchez/PDAC_organoids_caspase\"\n",
    "repository_name = repository_url.split(\"/\")[-1]\n",
    "\n",
    "# Configure your AWS details\n",
    "bucket_name = 'mhbucket'\n",
    "folder_path = 'CMIC/raw_data/PDAC_organoids_caspase_multipart/'\n",
    "expiration = 7200  # URL expiration time in seconds\n",
    "\n",
    "# Explicitly create a session with your profile\n",
    "session = boto3.Session(profile_name='mhread')\n",
    "\n",
    "# Initialize the S3 client using the session\n",
    "s3_client = session.client('s3')\n",
    "\n",
    "try:\n",
    "    # Create and empty list to store all pre-signed URLs\n",
    "    presigned_urls = []\n",
    "    \n",
    "    # List objects within the specified folder\n",
    "    response = s3_client.list_objects_v2(Bucket=bucket_name, Prefix=folder_path)\n",
    "    for obj in response.get('Contents', []):\n",
    "        \n",
    "        # Extract filepath from metadata\n",
    "        file_path = obj['Key']\n",
    "        # Extract filename\n",
    "        file_name = file_path.split('/')[-1]\n",
    "        # Extract MD5 hash from metadata\n",
    "        s3_etag = obj['ETag']\n",
    "        \n",
    "        if file_path.endswith('.zip') and repository_name in file_path:\n",
    "            # Generate a pre-signed URL for each .zip file\n",
    "            presigned_url = s3_client.generate_presigned_url('get_object',\n",
    "                                                             Params={'Bucket': bucket_name,\n",
    "                                                                     'Key': file_path},\n",
    "                                                             ExpiresIn=expiration)\n",
    "            # Append presigned_url to empty list\n",
    "            presigned_urls.append(presigned_url)\n",
    "            # Print pre-seigned URLs and MD5 hash on a per file basis\n",
    "            print(f\"Pre-signed URL for {file_name}: {presigned_url}\")\n",
    "            print(f\"S3 Etag for {file_name}: {s3_etag}\")\n",
    "            \n",
    "except NoCredentialsError:\n",
    "    print(\"Credentials not available\")\n",
    "\n",
    "\n"
   ]
  },
  {
   "cell_type": "code",
   "execution_count": 2,
   "metadata": {},
   "outputs": [
    {
     "name": "stdout",
     "output_type": "stream",
     "text": [
      "['http://129.241.241.254/mhbucket/CMIC/raw_data/PDAC_organoids_caspase_multipart/PDAC_organoids_caspase_part1.zip?AWSAccessKeyId=AKIA8E210FD3550BED0D&Signature=nur%2FhWCnc16WH7EjDYzPUdY%2BL9E%3D&Expires=1711151211', 'http://129.241.241.254/mhbucket/CMIC/raw_data/PDAC_organoids_caspase_multipart/PDAC_organoids_caspase_part2.zip?AWSAccessKeyId=AKIA8E210FD3550BED0D&Signature=8GHVvmG5zmVuGkLOqvRuNezXWzo%3D&Expires=1711151211', 'http://129.241.241.254/mhbucket/CMIC/raw_data/PDAC_organoids_caspase_multipart/PDAC_organoids_caspase_part3.zip?AWSAccessKeyId=AKIA8E210FD3550BED0D&Signature=sQ32YyW5TMO7IeNxSTkUxTX3yPQ%3D&Expires=1711151211', 'http://129.241.241.254/mhbucket/CMIC/raw_data/PDAC_organoids_caspase_multipart/PDAC_organoids_caspase_part4.zip?AWSAccessKeyId=AKIA8E210FD3550BED0D&Signature=TLuHbv1nOTboZO1LixCljG1YebM%3D&Expires=1711151211', 'http://129.241.241.254/mhbucket/CMIC/raw_data/PDAC_organoids_caspase_multipart/PDAC_organoids_caspase_part5.zip?AWSAccessKeyId=AKIA8E210FD3550BED0D&Signature=DGL4miOCXo9aEMe5Hrr%2BiUXyHXU%3D&Expires=1711151211']\n"
     ]
    }
   ],
   "source": [
    "print(presigned_urls)"
   ]
  }
 ],
 "metadata": {
  "kernelspec": {
   "display_name": "int_organoids",
   "language": "python",
   "name": "python3"
  },
  "language_info": {
   "codemirror_mode": {
    "name": "ipython",
    "version": 3
   },
   "file_extension": ".py",
   "mimetype": "text/x-python",
   "name": "python",
   "nbconvert_exporter": "python",
   "pygments_lexer": "ipython3",
   "version": "3.12.2"
  }
 },
 "nbformat": 4,
 "nbformat_minor": 2
}
