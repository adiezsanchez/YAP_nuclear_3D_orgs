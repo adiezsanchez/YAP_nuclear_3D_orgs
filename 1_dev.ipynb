{
 "cells": [
  {
   "cell_type": "code",
   "execution_count": 1,
   "metadata": {},
   "outputs": [],
   "source": [
    "from utils import extract_scaling_metadata\n",
    "from pathlib import Path\n",
    "import czifile\n",
    "import napari\n",
    "import numpy as np\n",
    "import skimage\n",
    "from skimage import measure, exposure\n",
    "from skimage.measure import regionprops_table\n",
    "import pandas as pd\n",
    "import pyclesperanto_prototype as cle\n",
    "import matplotlib.pyplot as plt"
   ]
  },
  {
   "cell_type": "code",
   "execution_count": 8,
   "metadata": {},
   "outputs": [
    {
     "data": {
      "text/plain": [
       "117"
      ]
     },
     "execution_count": 8,
     "metadata": {},
     "output_type": "execute_result"
    }
   ],
   "source": [
    "directory_path = Path(\"./raw_data/\")\n",
    "images = []\n",
    "\n",
    "# Iterate through the lsm files in the directory\n",
    "for file_path in directory_path.glob(\"*.czi\"):\n",
    "    # Remove Control and Isotype stainings from the analysis\n",
    "    if \"Control\" and \"Isotype\" not in file_path.stem:\n",
    "        images.append(str(file_path))\n",
    "    \n",
    "len(images)"
   ]
  },
  {
   "cell_type": "code",
   "execution_count": 12,
   "metadata": {},
   "outputs": [],
   "source": [
    "image = images[0]\n",
    "ids = []\n",
    "\n",
    "for image in images:\n",
    "\n",
    "    # Extract filename and well_id\n",
    "    file_path = Path(image)\n",
    "    filename = file_path.stem\n",
    "\n",
    "    # Extract experiment, mouse, treatment and replica ids\n",
    "    experiment_id = filename.split(\" \")[0]\n",
    "    mouse_id = filename.split(\" \")[1]\n",
    "    treatment_id = filename.split(\" \")[2]\n",
    "    replica_id = filename.split(\" \")[-1]\n",
    "\n",
    "    # Create a dictionary and transform into a Dataframe to check file names\n",
    "\n",
    "    identifier = {\n",
    "        \"experiment_id\":experiment_id,\n",
    "        \"mouse_id\":mouse_id,\n",
    "        \"treatment_id\":treatment_id,\n",
    "        \"replica_id\":replica_id\n",
    "    }\n",
    "\n",
    "    ids.append(identifier)\n",
    "\n",
    "df_ids = pd.DataFrame(ids)\n",
    "\n",
    "df.to_csv(\"./ids.csv\")"
   ]
  },
  {
   "cell_type": "code",
   "execution_count": 29,
   "metadata": {},
   "outputs": [],
   "source": [
    "import napari\n",
    "viewer = napari.Viewer(ndisplay=2)\n",
    "\n",
    "image = images[0]\n",
    "file_path = Path(image)\n",
    "filename = file_path.stem\n",
    "\n",
    "# Read the image file and remove singleton dimensions\n",
    "img = czifile.imread(image)\n",
    "img = img.squeeze()\n",
    "\n",
    "# Extract experiment, mouse, treatment and replica ids\n",
    "experiment_id = filename.split(\" \")[0]\n",
    "mouse_id = filename.split(\" \")[1]\n",
    "treatment_id = filename.split(\" \")[2]\n",
    "replica_id = filename.split(\" \")[-1]\n",
    "\n",
    "# Image size reduction to improve processing times (slicing, not lossless compression)\n",
    "slicing_factor = None # Use 2 or 4 for compression (None for lossless)\n",
    "\n",
    "# Extract the stack containing the UEA-1 (0), YAP (1), nuclei (2) and BCAT (3) channels.\n",
    "uea1_stack = img[0, :, ::slicing_factor, ::slicing_factor]\n",
    "yap_stack = img[1, :, ::slicing_factor, ::slicing_factor]\n",
    "nuclei_stack = img[2, :, ::slicing_factor, ::slicing_factor]\n",
    "bcat_stack = img[3, :, ::slicing_factor, ::slicing_factor]\n",
    "\n",
    "# Extract x,y,z scaling from .czi file metadata in order to make data isotropic\n",
    "scaling_x_um, scaling_y_um, scaling_z_um = extract_scaling_metadata(file_path)\n",
    "\n",
    "# Resample for Voronoi-Otsu labeling\n",
    "resampled_nuclei = cle.scale(nuclei_stack, factor_x=scaling_x_um, factor_y=scaling_y_um, factor_z=scaling_z_um, auto_size=True)\n",
    "background_subtracted = cle.top_hat_box(resampled_nuclei, radius_x=5, radius_y=5, radius_z=5)\n",
    "segmented = cle.voronoi_otsu_labeling(background_subtracted, spot_sigma=2, outline_sigma=2)\n",
    "del background_subtracted\n",
    "\n",
    "resampled_yap = cle.scale(yap_stack, factor_x=scaling_x_um, factor_y=scaling_y_um, factor_z=scaling_z_um, auto_size=True)\n",
    "        \n",
    "nuclei_labels_3d = cle.pull(segmented)\n",
    "resampled_yap = cle.pull(resampled_yap)\n",
    "\n",
    "\n",
    "viewer.add_image(resampled_nuclei)\n",
    "viewer.add_labels(nuclei_labels_3d)\n",
    "\n",
    "# Extract regionprops\n",
    "props = regionprops_table(label_image=nuclei_labels_3d, intensity_image=resampled_yap, properties=[\"label\", \"intensity_mean\", \"centroid\", \"area_filled\"])\n",
    "\n",
    "# Construct a dataframe for the extracted props\n",
    "df = pd.DataFrame(props)\n",
    "\n"
   ]
  },
  {
   "cell_type": "code",
   "execution_count": 17,
   "metadata": {},
   "outputs": [],
   "source": []
  },
  {
   "cell_type": "code",
   "execution_count": 21,
   "metadata": {},
   "outputs": [],
   "source": [
    "resampled = cle.scale(img[2,:,:,:], factor_x=scaling_x_um, factor_y=scaling_y_um, factor_z=scaling_z_um, auto_size=True)"
   ]
  },
  {
   "cell_type": "code",
   "execution_count": 18,
   "metadata": {},
   "outputs": [
    {
     "name": "stdout",
     "output_type": "stream",
     "text": [
      "0.42 0.42 1.0\n"
     ]
    }
   ],
   "source": [
    "print(scaling_x_um, scaling_y_um, scaling_z_um)"
   ]
  },
  {
   "cell_type": "code",
   "execution_count": 24,
   "metadata": {},
   "outputs": [
    {
     "data": {
      "text/plain": [
       "<Image layer 'Image' at 0x1fc947b97c0>"
      ]
     },
     "execution_count": 24,
     "metadata": {},
     "output_type": "execute_result"
    }
   ],
   "source": [
    "viewer = napari.Viewer(ndisplay=2)\n",
    "viewer.add_image(cle.pull(resampled))"
   ]
  }
 ],
 "metadata": {
  "kernelspec": {
   "display_name": "microglia_GPU",
   "language": "python",
   "name": "python3"
  },
  "language_info": {
   "codemirror_mode": {
    "name": "ipython",
    "version": 3
   },
   "file_extension": ".py",
   "mimetype": "text/x-python",
   "name": "python",
   "nbconvert_exporter": "python",
   "pygments_lexer": "ipython3",
   "version": "3.9.19"
  }
 },
 "nbformat": 4,
 "nbformat_minor": 2
}
